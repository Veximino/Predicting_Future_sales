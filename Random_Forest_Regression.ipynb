{
 "cells": [
  {
   "cell_type": "code",
   "execution_count": null,
   "metadata": {},
   "outputs": [],
   "source": [
    "import pandas as pd\n",
    "import os\n",
    "train = pd.read_csv(os.getcwd() + \"/sales_train.csv\")\n",
    "test = pd.read_csv(os.getcwd() + \"/test.csv\")"
   ]
  },
  {
   "cell_type": "code",
   "execution_count": 482,
   "metadata": {},
   "outputs": [
    {
     "data": {
      "text/html": [
       "<div>\n",
       "<style scoped>\n",
       "    .dataframe tbody tr th:only-of-type {\n",
       "        vertical-align: middle;\n",
       "    }\n",
       "\n",
       "    .dataframe tbody tr th {\n",
       "        vertical-align: top;\n",
       "    }\n",
       "\n",
       "    .dataframe thead th {\n",
       "        text-align: right;\n",
       "    }\n",
       "</style>\n",
       "<table border=\"1\" class=\"dataframe\">\n",
       "  <thead>\n",
       "    <tr style=\"text-align: right;\">\n",
       "      <th></th>\n",
       "      <th>date</th>\n",
       "      <th>date_block_num</th>\n",
       "      <th>shop_id</th>\n",
       "      <th>item_id</th>\n",
       "      <th>item_price</th>\n",
       "      <th>item_cnt_day</th>\n",
       "    </tr>\n",
       "  </thead>\n",
       "  <tbody>\n",
       "    <tr>\n",
       "      <th>0</th>\n",
       "      <td>02.01.2013</td>\n",
       "      <td>0</td>\n",
       "      <td>59</td>\n",
       "      <td>22154</td>\n",
       "      <td>999.00</td>\n",
       "      <td>1.0</td>\n",
       "    </tr>\n",
       "    <tr>\n",
       "      <th>1</th>\n",
       "      <td>03.01.2013</td>\n",
       "      <td>0</td>\n",
       "      <td>25</td>\n",
       "      <td>2552</td>\n",
       "      <td>899.00</td>\n",
       "      <td>1.0</td>\n",
       "    </tr>\n",
       "    <tr>\n",
       "      <th>2</th>\n",
       "      <td>05.01.2013</td>\n",
       "      <td>0</td>\n",
       "      <td>25</td>\n",
       "      <td>2552</td>\n",
       "      <td>899.00</td>\n",
       "      <td>-1.0</td>\n",
       "    </tr>\n",
       "    <tr>\n",
       "      <th>3</th>\n",
       "      <td>06.01.2013</td>\n",
       "      <td>0</td>\n",
       "      <td>25</td>\n",
       "      <td>2554</td>\n",
       "      <td>1709.05</td>\n",
       "      <td>1.0</td>\n",
       "    </tr>\n",
       "    <tr>\n",
       "      <th>4</th>\n",
       "      <td>15.01.2013</td>\n",
       "      <td>0</td>\n",
       "      <td>25</td>\n",
       "      <td>2555</td>\n",
       "      <td>1099.00</td>\n",
       "      <td>1.0</td>\n",
       "    </tr>\n",
       "  </tbody>\n",
       "</table>\n",
       "</div>"
      ],
      "text/plain": [
       "         date  date_block_num  shop_id  item_id  item_price  item_cnt_day\n",
       "0  02.01.2013               0       59    22154      999.00           1.0\n",
       "1  03.01.2013               0       25     2552      899.00           1.0\n",
       "2  05.01.2013               0       25     2552      899.00          -1.0\n",
       "3  06.01.2013               0       25     2554     1709.05           1.0\n",
       "4  15.01.2013               0       25     2555     1099.00           1.0"
      ]
     },
     "execution_count": 482,
     "metadata": {},
     "output_type": "execute_result"
    }
   ],
   "source": [
    "train.head()"
   ]
  },
  {
   "cell_type": "code",
   "execution_count": 483,
   "metadata": {},
   "outputs": [
    {
     "data": {
      "text/html": [
       "<div>\n",
       "<style scoped>\n",
       "    .dataframe tbody tr th:only-of-type {\n",
       "        vertical-align: middle;\n",
       "    }\n",
       "\n",
       "    .dataframe tbody tr th {\n",
       "        vertical-align: top;\n",
       "    }\n",
       "\n",
       "    .dataframe thead th {\n",
       "        text-align: right;\n",
       "    }\n",
       "</style>\n",
       "<table border=\"1\" class=\"dataframe\">\n",
       "  <thead>\n",
       "    <tr style=\"text-align: right;\">\n",
       "      <th></th>\n",
       "      <th>ID</th>\n",
       "      <th>shop_id</th>\n",
       "      <th>item_id</th>\n",
       "    </tr>\n",
       "  </thead>\n",
       "  <tbody>\n",
       "    <tr>\n",
       "      <th>0</th>\n",
       "      <td>0</td>\n",
       "      <td>5</td>\n",
       "      <td>5037</td>\n",
       "    </tr>\n",
       "    <tr>\n",
       "      <th>1</th>\n",
       "      <td>1</td>\n",
       "      <td>5</td>\n",
       "      <td>5320</td>\n",
       "    </tr>\n",
       "    <tr>\n",
       "      <th>2</th>\n",
       "      <td>2</td>\n",
       "      <td>5</td>\n",
       "      <td>5233</td>\n",
       "    </tr>\n",
       "    <tr>\n",
       "      <th>3</th>\n",
       "      <td>3</td>\n",
       "      <td>5</td>\n",
       "      <td>5232</td>\n",
       "    </tr>\n",
       "    <tr>\n",
       "      <th>4</th>\n",
       "      <td>4</td>\n",
       "      <td>5</td>\n",
       "      <td>5268</td>\n",
       "    </tr>\n",
       "  </tbody>\n",
       "</table>\n",
       "</div>"
      ],
      "text/plain": [
       "   ID  shop_id  item_id\n",
       "0   0        5     5037\n",
       "1   1        5     5320\n",
       "2   2        5     5233\n",
       "3   3        5     5232\n",
       "4   4        5     5268"
      ]
     },
     "execution_count": 483,
     "metadata": {},
     "output_type": "execute_result"
    }
   ],
   "source": [
    "test.head()"
   ]
  },
  {
   "cell_type": "code",
   "execution_count": 484,
   "metadata": {},
   "outputs": [],
   "source": [
    "train['Date'] = pd.to_datetime(train['date']).dt.date"
   ]
  },
  {
   "cell_type": "code",
   "execution_count": 485,
   "metadata": {},
   "outputs": [
    {
     "data": {
      "text/html": [
       "<div>\n",
       "<style scoped>\n",
       "    .dataframe tbody tr th:only-of-type {\n",
       "        vertical-align: middle;\n",
       "    }\n",
       "\n",
       "    .dataframe tbody tr th {\n",
       "        vertical-align: top;\n",
       "    }\n",
       "\n",
       "    .dataframe thead th {\n",
       "        text-align: right;\n",
       "    }\n",
       "</style>\n",
       "<table border=\"1\" class=\"dataframe\">\n",
       "  <thead>\n",
       "    <tr style=\"text-align: right;\">\n",
       "      <th></th>\n",
       "      <th>date</th>\n",
       "      <th>date_block_num</th>\n",
       "      <th>shop_id</th>\n",
       "      <th>item_id</th>\n",
       "      <th>item_price</th>\n",
       "      <th>item_cnt_day</th>\n",
       "      <th>Date</th>\n",
       "    </tr>\n",
       "  </thead>\n",
       "  <tbody>\n",
       "    <tr>\n",
       "      <th>0</th>\n",
       "      <td>02.01.2013</td>\n",
       "      <td>0</td>\n",
       "      <td>59</td>\n",
       "      <td>22154</td>\n",
       "      <td>999.00</td>\n",
       "      <td>1.0</td>\n",
       "      <td>2013-02-01</td>\n",
       "    </tr>\n",
       "    <tr>\n",
       "      <th>1</th>\n",
       "      <td>03.01.2013</td>\n",
       "      <td>0</td>\n",
       "      <td>25</td>\n",
       "      <td>2552</td>\n",
       "      <td>899.00</td>\n",
       "      <td>1.0</td>\n",
       "      <td>2013-03-01</td>\n",
       "    </tr>\n",
       "    <tr>\n",
       "      <th>2</th>\n",
       "      <td>05.01.2013</td>\n",
       "      <td>0</td>\n",
       "      <td>25</td>\n",
       "      <td>2552</td>\n",
       "      <td>899.00</td>\n",
       "      <td>-1.0</td>\n",
       "      <td>2013-05-01</td>\n",
       "    </tr>\n",
       "    <tr>\n",
       "      <th>3</th>\n",
       "      <td>06.01.2013</td>\n",
       "      <td>0</td>\n",
       "      <td>25</td>\n",
       "      <td>2554</td>\n",
       "      <td>1709.05</td>\n",
       "      <td>1.0</td>\n",
       "      <td>2013-06-01</td>\n",
       "    </tr>\n",
       "    <tr>\n",
       "      <th>4</th>\n",
       "      <td>15.01.2013</td>\n",
       "      <td>0</td>\n",
       "      <td>25</td>\n",
       "      <td>2555</td>\n",
       "      <td>1099.00</td>\n",
       "      <td>1.0</td>\n",
       "      <td>2013-01-15</td>\n",
       "    </tr>\n",
       "    <tr>\n",
       "      <th>...</th>\n",
       "      <td>...</td>\n",
       "      <td>...</td>\n",
       "      <td>...</td>\n",
       "      <td>...</td>\n",
       "      <td>...</td>\n",
       "      <td>...</td>\n",
       "      <td>...</td>\n",
       "    </tr>\n",
       "    <tr>\n",
       "      <th>2935844</th>\n",
       "      <td>10.10.2015</td>\n",
       "      <td>33</td>\n",
       "      <td>25</td>\n",
       "      <td>7409</td>\n",
       "      <td>299.00</td>\n",
       "      <td>1.0</td>\n",
       "      <td>2015-10-10</td>\n",
       "    </tr>\n",
       "    <tr>\n",
       "      <th>2935845</th>\n",
       "      <td>09.10.2015</td>\n",
       "      <td>33</td>\n",
       "      <td>25</td>\n",
       "      <td>7460</td>\n",
       "      <td>299.00</td>\n",
       "      <td>1.0</td>\n",
       "      <td>2015-09-10</td>\n",
       "    </tr>\n",
       "    <tr>\n",
       "      <th>2935846</th>\n",
       "      <td>14.10.2015</td>\n",
       "      <td>33</td>\n",
       "      <td>25</td>\n",
       "      <td>7459</td>\n",
       "      <td>349.00</td>\n",
       "      <td>1.0</td>\n",
       "      <td>2015-10-14</td>\n",
       "    </tr>\n",
       "    <tr>\n",
       "      <th>2935847</th>\n",
       "      <td>22.10.2015</td>\n",
       "      <td>33</td>\n",
       "      <td>25</td>\n",
       "      <td>7440</td>\n",
       "      <td>299.00</td>\n",
       "      <td>1.0</td>\n",
       "      <td>2015-10-22</td>\n",
       "    </tr>\n",
       "    <tr>\n",
       "      <th>2935848</th>\n",
       "      <td>03.10.2015</td>\n",
       "      <td>33</td>\n",
       "      <td>25</td>\n",
       "      <td>7460</td>\n",
       "      <td>299.00</td>\n",
       "      <td>1.0</td>\n",
       "      <td>2015-03-10</td>\n",
       "    </tr>\n",
       "  </tbody>\n",
       "</table>\n",
       "<p>2935849 rows × 7 columns</p>\n",
       "</div>"
      ],
      "text/plain": [
       "               date  date_block_num  shop_id  item_id  item_price  \\\n",
       "0        02.01.2013               0       59    22154      999.00   \n",
       "1        03.01.2013               0       25     2552      899.00   \n",
       "2        05.01.2013               0       25     2552      899.00   \n",
       "3        06.01.2013               0       25     2554     1709.05   \n",
       "4        15.01.2013               0       25     2555     1099.00   \n",
       "...             ...             ...      ...      ...         ...   \n",
       "2935844  10.10.2015              33       25     7409      299.00   \n",
       "2935845  09.10.2015              33       25     7460      299.00   \n",
       "2935846  14.10.2015              33       25     7459      349.00   \n",
       "2935847  22.10.2015              33       25     7440      299.00   \n",
       "2935848  03.10.2015              33       25     7460      299.00   \n",
       "\n",
       "         item_cnt_day        Date  \n",
       "0                 1.0  2013-02-01  \n",
       "1                 1.0  2013-03-01  \n",
       "2                -1.0  2013-05-01  \n",
       "3                 1.0  2013-06-01  \n",
       "4                 1.0  2013-01-15  \n",
       "...               ...         ...  \n",
       "2935844           1.0  2015-10-10  \n",
       "2935845           1.0  2015-09-10  \n",
       "2935846           1.0  2015-10-14  \n",
       "2935847           1.0  2015-10-22  \n",
       "2935848           1.0  2015-03-10  \n",
       "\n",
       "[2935849 rows x 7 columns]"
      ]
     },
     "execution_count": 485,
     "metadata": {},
     "output_type": "execute_result"
    }
   ],
   "source": [
    "train"
   ]
  },
  {
   "cell_type": "code",
   "execution_count": 510,
   "metadata": {},
   "outputs": [],
   "source": [
    "train['Year_Month'] = pd.to_datetime(train['date']).dt.to_period('M')"
   ]
  },
  {
   "cell_type": "code",
   "execution_count": null,
   "metadata": {},
   "outputs": [],
   "source": [
    "train['Year'] = pd.to_datetime(train['date]']).dt.year"
   ]
  },
  {
   "cell_type": "code",
   "execution_count": null,
   "metadata": {},
   "outputs": [],
   "source": [
    "train['Month'] = pd.to_datetime(train['date]']).dt.month"
   ]
  },
  {
   "cell_type": "code",
   "execution_count": null,
   "metadata": {},
   "outputs": [],
   "source": [
    "train['Day'] = pd.to_datetime(train['date]']).dt.day"
   ]
  },
  {
   "cell_type": "code",
   "execution_count": 1239,
   "metadata": {},
   "outputs": [
    {
     "data": {
      "text/html": [
       "<div>\n",
       "<style scoped>\n",
       "    .dataframe tbody tr th:only-of-type {\n",
       "        vertical-align: middle;\n",
       "    }\n",
       "\n",
       "    .dataframe tbody tr th {\n",
       "        vertical-align: top;\n",
       "    }\n",
       "\n",
       "    .dataframe thead th {\n",
       "        text-align: right;\n",
       "    }\n",
       "</style>\n",
       "<table border=\"1\" class=\"dataframe\">\n",
       "  <thead>\n",
       "    <tr style=\"text-align: right;\">\n",
       "      <th></th>\n",
       "      <th>date</th>\n",
       "      <th>date_block_num</th>\n",
       "      <th>shop_id</th>\n",
       "      <th>item_id</th>\n",
       "      <th>item_price</th>\n",
       "      <th>item_cnt_day</th>\n",
       "      <th>Date</th>\n",
       "      <th>Year</th>\n",
       "      <th>Month</th>\n",
       "      <th>Day</th>\n",
       "      <th>Year_Month</th>\n",
       "    </tr>\n",
       "  </thead>\n",
       "  <tbody>\n",
       "    <tr>\n",
       "      <th>0</th>\n",
       "      <td>02.01.2013</td>\n",
       "      <td>0</td>\n",
       "      <td>59</td>\n",
       "      <td>22154</td>\n",
       "      <td>999.00</td>\n",
       "      <td>1.0</td>\n",
       "      <td>2013-02-01</td>\n",
       "      <td>2013</td>\n",
       "      <td>2</td>\n",
       "      <td>1</td>\n",
       "      <td>2013-02</td>\n",
       "    </tr>\n",
       "    <tr>\n",
       "      <th>1</th>\n",
       "      <td>03.01.2013</td>\n",
       "      <td>0</td>\n",
       "      <td>25</td>\n",
       "      <td>2552</td>\n",
       "      <td>899.00</td>\n",
       "      <td>1.0</td>\n",
       "      <td>2013-03-01</td>\n",
       "      <td>2013</td>\n",
       "      <td>3</td>\n",
       "      <td>1</td>\n",
       "      <td>2013-03</td>\n",
       "    </tr>\n",
       "    <tr>\n",
       "      <th>2</th>\n",
       "      <td>05.01.2013</td>\n",
       "      <td>0</td>\n",
       "      <td>25</td>\n",
       "      <td>2552</td>\n",
       "      <td>899.00</td>\n",
       "      <td>-1.0</td>\n",
       "      <td>2013-05-01</td>\n",
       "      <td>2013</td>\n",
       "      <td>5</td>\n",
       "      <td>1</td>\n",
       "      <td>2013-05</td>\n",
       "    </tr>\n",
       "    <tr>\n",
       "      <th>3</th>\n",
       "      <td>06.01.2013</td>\n",
       "      <td>0</td>\n",
       "      <td>25</td>\n",
       "      <td>2554</td>\n",
       "      <td>1709.05</td>\n",
       "      <td>1.0</td>\n",
       "      <td>2013-06-01</td>\n",
       "      <td>2013</td>\n",
       "      <td>6</td>\n",
       "      <td>1</td>\n",
       "      <td>2013-06</td>\n",
       "    </tr>\n",
       "    <tr>\n",
       "      <th>4</th>\n",
       "      <td>15.01.2013</td>\n",
       "      <td>0</td>\n",
       "      <td>25</td>\n",
       "      <td>2555</td>\n",
       "      <td>1099.00</td>\n",
       "      <td>1.0</td>\n",
       "      <td>2013-01-15</td>\n",
       "      <td>2013</td>\n",
       "      <td>1</td>\n",
       "      <td>15</td>\n",
       "      <td>2013-01</td>\n",
       "    </tr>\n",
       "    <tr>\n",
       "      <th>...</th>\n",
       "      <td>...</td>\n",
       "      <td>...</td>\n",
       "      <td>...</td>\n",
       "      <td>...</td>\n",
       "      <td>...</td>\n",
       "      <td>...</td>\n",
       "      <td>...</td>\n",
       "      <td>...</td>\n",
       "      <td>...</td>\n",
       "      <td>...</td>\n",
       "      <td>...</td>\n",
       "    </tr>\n",
       "    <tr>\n",
       "      <th>2935844</th>\n",
       "      <td>10.10.2015</td>\n",
       "      <td>33</td>\n",
       "      <td>25</td>\n",
       "      <td>7409</td>\n",
       "      <td>299.00</td>\n",
       "      <td>1.0</td>\n",
       "      <td>2015-10-10</td>\n",
       "      <td>2015</td>\n",
       "      <td>10</td>\n",
       "      <td>10</td>\n",
       "      <td>2015-10</td>\n",
       "    </tr>\n",
       "    <tr>\n",
       "      <th>2935845</th>\n",
       "      <td>09.10.2015</td>\n",
       "      <td>33</td>\n",
       "      <td>25</td>\n",
       "      <td>7460</td>\n",
       "      <td>299.00</td>\n",
       "      <td>1.0</td>\n",
       "      <td>2015-09-10</td>\n",
       "      <td>2015</td>\n",
       "      <td>9</td>\n",
       "      <td>10</td>\n",
       "      <td>2015-09</td>\n",
       "    </tr>\n",
       "    <tr>\n",
       "      <th>2935846</th>\n",
       "      <td>14.10.2015</td>\n",
       "      <td>33</td>\n",
       "      <td>25</td>\n",
       "      <td>7459</td>\n",
       "      <td>349.00</td>\n",
       "      <td>1.0</td>\n",
       "      <td>2015-10-14</td>\n",
       "      <td>2015</td>\n",
       "      <td>10</td>\n",
       "      <td>14</td>\n",
       "      <td>2015-10</td>\n",
       "    </tr>\n",
       "    <tr>\n",
       "      <th>2935847</th>\n",
       "      <td>22.10.2015</td>\n",
       "      <td>33</td>\n",
       "      <td>25</td>\n",
       "      <td>7440</td>\n",
       "      <td>299.00</td>\n",
       "      <td>1.0</td>\n",
       "      <td>2015-10-22</td>\n",
       "      <td>2015</td>\n",
       "      <td>10</td>\n",
       "      <td>22</td>\n",
       "      <td>2015-10</td>\n",
       "    </tr>\n",
       "    <tr>\n",
       "      <th>2935848</th>\n",
       "      <td>03.10.2015</td>\n",
       "      <td>33</td>\n",
       "      <td>25</td>\n",
       "      <td>7460</td>\n",
       "      <td>299.00</td>\n",
       "      <td>1.0</td>\n",
       "      <td>2015-03-10</td>\n",
       "      <td>2015</td>\n",
       "      <td>3</td>\n",
       "      <td>10</td>\n",
       "      <td>2015-03</td>\n",
       "    </tr>\n",
       "  </tbody>\n",
       "</table>\n",
       "<p>2935849 rows × 11 columns</p>\n",
       "</div>"
      ],
      "text/plain": [
       "               date  date_block_num  shop_id  item_id  item_price  \\\n",
       "0        02.01.2013               0       59    22154      999.00   \n",
       "1        03.01.2013               0       25     2552      899.00   \n",
       "2        05.01.2013               0       25     2552      899.00   \n",
       "3        06.01.2013               0       25     2554     1709.05   \n",
       "4        15.01.2013               0       25     2555     1099.00   \n",
       "...             ...             ...      ...      ...         ...   \n",
       "2935844  10.10.2015              33       25     7409      299.00   \n",
       "2935845  09.10.2015              33       25     7460      299.00   \n",
       "2935846  14.10.2015              33       25     7459      349.00   \n",
       "2935847  22.10.2015              33       25     7440      299.00   \n",
       "2935848  03.10.2015              33       25     7460      299.00   \n",
       "\n",
       "         item_cnt_day        Date  Year  Month  Day Year_Month  \n",
       "0                 1.0  2013-02-01  2013      2    1    2013-02  \n",
       "1                 1.0  2013-03-01  2013      3    1    2013-03  \n",
       "2                -1.0  2013-05-01  2013      5    1    2013-05  \n",
       "3                 1.0  2013-06-01  2013      6    1    2013-06  \n",
       "4                 1.0  2013-01-15  2013      1   15    2013-01  \n",
       "...               ...         ...   ...    ...  ...        ...  \n",
       "2935844           1.0  2015-10-10  2015     10   10    2015-10  \n",
       "2935845           1.0  2015-09-10  2015      9   10    2015-09  \n",
       "2935846           1.0  2015-10-14  2015     10   14    2015-10  \n",
       "2935847           1.0  2015-10-22  2015     10   22    2015-10  \n",
       "2935848           1.0  2015-03-10  2015      3   10    2015-03  \n",
       "\n",
       "[2935849 rows x 11 columns]"
      ]
     },
     "execution_count": 1239,
     "metadata": {},
     "output_type": "execute_result"
    }
   ],
   "source": [
    "train"
   ]
  },
  {
   "cell_type": "code",
   "execution_count": 762,
   "metadata": {},
   "outputs": [],
   "source": [
    "train2 = train.groupby(['shop_id','Year','Month'])['item_cnt_day'].sum().reset_index()"
   ]
  },
  {
   "cell_type": "code",
   "execution_count": 763,
   "metadata": {},
   "outputs": [
    {
     "data": {
      "text/html": [
       "<div>\n",
       "<style scoped>\n",
       "    .dataframe tbody tr th:only-of-type {\n",
       "        vertical-align: middle;\n",
       "    }\n",
       "\n",
       "    .dataframe tbody tr th {\n",
       "        vertical-align: top;\n",
       "    }\n",
       "\n",
       "    .dataframe thead th {\n",
       "        text-align: right;\n",
       "    }\n",
       "</style>\n",
       "<table border=\"1\" class=\"dataframe\">\n",
       "  <thead>\n",
       "    <tr style=\"text-align: right;\">\n",
       "      <th></th>\n",
       "      <th>shop_id</th>\n",
       "      <th>Year</th>\n",
       "      <th>Month</th>\n",
       "      <th>item_cnt_day</th>\n",
       "    </tr>\n",
       "  </thead>\n",
       "  <tbody>\n",
       "    <tr>\n",
       "      <th>0</th>\n",
       "      <td>0</td>\n",
       "      <td>2013</td>\n",
       "      <td>1</td>\n",
       "      <td>3626.0</td>\n",
       "    </tr>\n",
       "    <tr>\n",
       "      <th>1</th>\n",
       "      <td>0</td>\n",
       "      <td>2013</td>\n",
       "      <td>2</td>\n",
       "      <td>3957.0</td>\n",
       "    </tr>\n",
       "    <tr>\n",
       "      <th>2</th>\n",
       "      <td>0</td>\n",
       "      <td>2013</td>\n",
       "      <td>3</td>\n",
       "      <td>403.0</td>\n",
       "    </tr>\n",
       "    <tr>\n",
       "      <th>3</th>\n",
       "      <td>0</td>\n",
       "      <td>2013</td>\n",
       "      <td>4</td>\n",
       "      <td>473.0</td>\n",
       "    </tr>\n",
       "    <tr>\n",
       "      <th>4</th>\n",
       "      <td>0</td>\n",
       "      <td>2013</td>\n",
       "      <td>5</td>\n",
       "      <td>465.0</td>\n",
       "    </tr>\n",
       "    <tr>\n",
       "      <th>...</th>\n",
       "      <td>...</td>\n",
       "      <td>...</td>\n",
       "      <td>...</td>\n",
       "      <td>...</td>\n",
       "    </tr>\n",
       "    <tr>\n",
       "      <th>1842</th>\n",
       "      <td>59</td>\n",
       "      <td>2015</td>\n",
       "      <td>8</td>\n",
       "      <td>1199.0</td>\n",
       "    </tr>\n",
       "    <tr>\n",
       "      <th>1843</th>\n",
       "      <td>59</td>\n",
       "      <td>2015</td>\n",
       "      <td>9</td>\n",
       "      <td>758.0</td>\n",
       "    </tr>\n",
       "    <tr>\n",
       "      <th>1844</th>\n",
       "      <td>59</td>\n",
       "      <td>2015</td>\n",
       "      <td>10</td>\n",
       "      <td>799.0</td>\n",
       "    </tr>\n",
       "    <tr>\n",
       "      <th>1845</th>\n",
       "      <td>59</td>\n",
       "      <td>2015</td>\n",
       "      <td>11</td>\n",
       "      <td>311.0</td>\n",
       "    </tr>\n",
       "    <tr>\n",
       "      <th>1846</th>\n",
       "      <td>59</td>\n",
       "      <td>2015</td>\n",
       "      <td>12</td>\n",
       "      <td>307.0</td>\n",
       "    </tr>\n",
       "  </tbody>\n",
       "</table>\n",
       "<p>1847 rows × 4 columns</p>\n",
       "</div>"
      ],
      "text/plain": [
       "      shop_id  Year  Month  item_cnt_day\n",
       "0           0  2013      1        3626.0\n",
       "1           0  2013      2        3957.0\n",
       "2           0  2013      3         403.0\n",
       "3           0  2013      4         473.0\n",
       "4           0  2013      5         465.0\n",
       "...       ...   ...    ...           ...\n",
       "1842       59  2015      8        1199.0\n",
       "1843       59  2015      9         758.0\n",
       "1844       59  2015     10         799.0\n",
       "1845       59  2015     11         311.0\n",
       "1846       59  2015     12         307.0\n",
       "\n",
       "[1847 rows x 4 columns]"
      ]
     },
     "execution_count": 763,
     "metadata": {},
     "output_type": "execute_result"
    }
   ],
   "source": [
    "train2"
   ]
  },
  {
   "cell_type": "code",
   "execution_count": 764,
   "metadata": {},
   "outputs": [],
   "source": [
    "train2 = train2.drop([1845,1846])"
   ]
  },
  {
   "cell_type": "code",
   "execution_count": 766,
   "metadata": {},
   "outputs": [],
   "source": [
    "import numpy as np"
   ]
  },
  {
   "cell_type": "code",
   "execution_count": 767,
   "metadata": {},
   "outputs": [],
   "source": [
    "train2=train2.rename(columns={\"item_cnt_day\":\"item_cnt_month\"})"
   ]
  },
  {
   "cell_type": "code",
   "execution_count": 792,
   "metadata": {},
   "outputs": [
    {
     "data": {
      "text/html": [
       "<div>\n",
       "<style scoped>\n",
       "    .dataframe tbody tr th:only-of-type {\n",
       "        vertical-align: middle;\n",
       "    }\n",
       "\n",
       "    .dataframe tbody tr th {\n",
       "        vertical-align: top;\n",
       "    }\n",
       "\n",
       "    .dataframe thead th {\n",
       "        text-align: right;\n",
       "    }\n",
       "</style>\n",
       "<table border=\"1\" class=\"dataframe\">\n",
       "  <thead>\n",
       "    <tr style=\"text-align: right;\">\n",
       "      <th></th>\n",
       "      <th>shop_id</th>\n",
       "      <th>Year</th>\n",
       "      <th>Month</th>\n",
       "      <th>item_cnt_month</th>\n",
       "    </tr>\n",
       "  </thead>\n",
       "  <tbody>\n",
       "    <tr>\n",
       "      <th>0</th>\n",
       "      <td>0</td>\n",
       "      <td>2013</td>\n",
       "      <td>1</td>\n",
       "      <td>3626.0</td>\n",
       "    </tr>\n",
       "    <tr>\n",
       "      <th>1</th>\n",
       "      <td>0</td>\n",
       "      <td>2013</td>\n",
       "      <td>2</td>\n",
       "      <td>3957.0</td>\n",
       "    </tr>\n",
       "    <tr>\n",
       "      <th>2</th>\n",
       "      <td>0</td>\n",
       "      <td>2013</td>\n",
       "      <td>3</td>\n",
       "      <td>403.0</td>\n",
       "    </tr>\n",
       "    <tr>\n",
       "      <th>3</th>\n",
       "      <td>0</td>\n",
       "      <td>2013</td>\n",
       "      <td>4</td>\n",
       "      <td>473.0</td>\n",
       "    </tr>\n",
       "    <tr>\n",
       "      <th>4</th>\n",
       "      <td>0</td>\n",
       "      <td>2013</td>\n",
       "      <td>5</td>\n",
       "      <td>465.0</td>\n",
       "    </tr>\n",
       "    <tr>\n",
       "      <th>...</th>\n",
       "      <td>...</td>\n",
       "      <td>...</td>\n",
       "      <td>...</td>\n",
       "      <td>...</td>\n",
       "    </tr>\n",
       "    <tr>\n",
       "      <th>1840</th>\n",
       "      <td>59</td>\n",
       "      <td>2015</td>\n",
       "      <td>6</td>\n",
       "      <td>905.0</td>\n",
       "    </tr>\n",
       "    <tr>\n",
       "      <th>1841</th>\n",
       "      <td>59</td>\n",
       "      <td>2015</td>\n",
       "      <td>7</td>\n",
       "      <td>976.0</td>\n",
       "    </tr>\n",
       "    <tr>\n",
       "      <th>1842</th>\n",
       "      <td>59</td>\n",
       "      <td>2015</td>\n",
       "      <td>8</td>\n",
       "      <td>1199.0</td>\n",
       "    </tr>\n",
       "    <tr>\n",
       "      <th>1843</th>\n",
       "      <td>59</td>\n",
       "      <td>2015</td>\n",
       "      <td>9</td>\n",
       "      <td>758.0</td>\n",
       "    </tr>\n",
       "    <tr>\n",
       "      <th>1844</th>\n",
       "      <td>59</td>\n",
       "      <td>2015</td>\n",
       "      <td>10</td>\n",
       "      <td>799.0</td>\n",
       "    </tr>\n",
       "  </tbody>\n",
       "</table>\n",
       "<p>1845 rows × 4 columns</p>\n",
       "</div>"
      ],
      "text/plain": [
       "      shop_id  Year  Month  item_cnt_month\n",
       "0           0  2013      1          3626.0\n",
       "1           0  2013      2          3957.0\n",
       "2           0  2013      3           403.0\n",
       "3           0  2013      4           473.0\n",
       "4           0  2013      5           465.0\n",
       "...       ...   ...    ...             ...\n",
       "1840       59  2015      6           905.0\n",
       "1841       59  2015      7           976.0\n",
       "1842       59  2015      8          1199.0\n",
       "1843       59  2015      9           758.0\n",
       "1844       59  2015     10           799.0\n",
       "\n",
       "[1845 rows x 4 columns]"
      ]
     },
     "execution_count": 792,
     "metadata": {},
     "output_type": "execute_result"
    }
   ],
   "source": [
    "train2"
   ]
  },
  {
   "cell_type": "code",
   "execution_count": 1112,
   "metadata": {},
   "outputs": [],
   "source": [
    "shop2 = train2[train2['shop_id'] == 2].drop([58,59])"
   ]
  },
  {
   "cell_type": "code",
   "execution_count": 1113,
   "metadata": {},
   "outputs": [
    {
     "data": {
      "text/html": [
       "<div>\n",
       "<style scoped>\n",
       "    .dataframe tbody tr th:only-of-type {\n",
       "        vertical-align: middle;\n",
       "    }\n",
       "\n",
       "    .dataframe tbody tr th {\n",
       "        vertical-align: top;\n",
       "    }\n",
       "\n",
       "    .dataframe thead th {\n",
       "        text-align: right;\n",
       "    }\n",
       "</style>\n",
       "<table border=\"1\" class=\"dataframe\">\n",
       "  <thead>\n",
       "    <tr style=\"text-align: right;\">\n",
       "      <th></th>\n",
       "      <th>shop_id</th>\n",
       "      <th>Year</th>\n",
       "      <th>Month</th>\n",
       "      <th>item_cnt_month</th>\n",
       "    </tr>\n",
       "  </thead>\n",
       "  <tbody>\n",
       "    <tr>\n",
       "      <th>24</th>\n",
       "      <td>2</td>\n",
       "      <td>2013</td>\n",
       "      <td>1</td>\n",
       "      <td>748.0</td>\n",
       "    </tr>\n",
       "    <tr>\n",
       "      <th>25</th>\n",
       "      <td>2</td>\n",
       "      <td>2013</td>\n",
       "      <td>2</td>\n",
       "      <td>722.0</td>\n",
       "    </tr>\n",
       "    <tr>\n",
       "      <th>26</th>\n",
       "      <td>2</td>\n",
       "      <td>2013</td>\n",
       "      <td>3</td>\n",
       "      <td>821.0</td>\n",
       "    </tr>\n",
       "    <tr>\n",
       "      <th>27</th>\n",
       "      <td>2</td>\n",
       "      <td>2013</td>\n",
       "      <td>4</td>\n",
       "      <td>678.0</td>\n",
       "    </tr>\n",
       "    <tr>\n",
       "      <th>28</th>\n",
       "      <td>2</td>\n",
       "      <td>2013</td>\n",
       "      <td>5</td>\n",
       "      <td>659.0</td>\n",
       "    </tr>\n",
       "    <tr>\n",
       "      <th>29</th>\n",
       "      <td>2</td>\n",
       "      <td>2013</td>\n",
       "      <td>6</td>\n",
       "      <td>872.0</td>\n",
       "    </tr>\n",
       "    <tr>\n",
       "      <th>30</th>\n",
       "      <td>2</td>\n",
       "      <td>2013</td>\n",
       "      <td>7</td>\n",
       "      <td>805.0</td>\n",
       "    </tr>\n",
       "    <tr>\n",
       "      <th>31</th>\n",
       "      <td>2</td>\n",
       "      <td>2013</td>\n",
       "      <td>8</td>\n",
       "      <td>847.0</td>\n",
       "    </tr>\n",
       "    <tr>\n",
       "      <th>32</th>\n",
       "      <td>2</td>\n",
       "      <td>2013</td>\n",
       "      <td>9</td>\n",
       "      <td>886.0</td>\n",
       "    </tr>\n",
       "    <tr>\n",
       "      <th>33</th>\n",
       "      <td>2</td>\n",
       "      <td>2013</td>\n",
       "      <td>10</td>\n",
       "      <td>785.0</td>\n",
       "    </tr>\n",
       "    <tr>\n",
       "      <th>34</th>\n",
       "      <td>2</td>\n",
       "      <td>2013</td>\n",
       "      <td>11</td>\n",
       "      <td>817.0</td>\n",
       "    </tr>\n",
       "    <tr>\n",
       "      <th>35</th>\n",
       "      <td>2</td>\n",
       "      <td>2013</td>\n",
       "      <td>12</td>\n",
       "      <td>1321.0</td>\n",
       "    </tr>\n",
       "    <tr>\n",
       "      <th>36</th>\n",
       "      <td>2</td>\n",
       "      <td>2014</td>\n",
       "      <td>1</td>\n",
       "      <td>715.0</td>\n",
       "    </tr>\n",
       "    <tr>\n",
       "      <th>37</th>\n",
       "      <td>2</td>\n",
       "      <td>2014</td>\n",
       "      <td>2</td>\n",
       "      <td>881.0</td>\n",
       "    </tr>\n",
       "    <tr>\n",
       "      <th>38</th>\n",
       "      <td>2</td>\n",
       "      <td>2014</td>\n",
       "      <td>3</td>\n",
       "      <td>984.0</td>\n",
       "    </tr>\n",
       "    <tr>\n",
       "      <th>39</th>\n",
       "      <td>2</td>\n",
       "      <td>2014</td>\n",
       "      <td>4</td>\n",
       "      <td>855.0</td>\n",
       "    </tr>\n",
       "    <tr>\n",
       "      <th>40</th>\n",
       "      <td>2</td>\n",
       "      <td>2014</td>\n",
       "      <td>5</td>\n",
       "      <td>1107.0</td>\n",
       "    </tr>\n",
       "    <tr>\n",
       "      <th>41</th>\n",
       "      <td>2</td>\n",
       "      <td>2014</td>\n",
       "      <td>6</td>\n",
       "      <td>891.0</td>\n",
       "    </tr>\n",
       "    <tr>\n",
       "      <th>42</th>\n",
       "      <td>2</td>\n",
       "      <td>2014</td>\n",
       "      <td>7</td>\n",
       "      <td>848.0</td>\n",
       "    </tr>\n",
       "    <tr>\n",
       "      <th>43</th>\n",
       "      <td>2</td>\n",
       "      <td>2014</td>\n",
       "      <td>8</td>\n",
       "      <td>1065.0</td>\n",
       "    </tr>\n",
       "    <tr>\n",
       "      <th>44</th>\n",
       "      <td>2</td>\n",
       "      <td>2014</td>\n",
       "      <td>9</td>\n",
       "      <td>939.0</td>\n",
       "    </tr>\n",
       "    <tr>\n",
       "      <th>45</th>\n",
       "      <td>2</td>\n",
       "      <td>2014</td>\n",
       "      <td>10</td>\n",
       "      <td>859.0</td>\n",
       "    </tr>\n",
       "    <tr>\n",
       "      <th>46</th>\n",
       "      <td>2</td>\n",
       "      <td>2014</td>\n",
       "      <td>11</td>\n",
       "      <td>1184.0</td>\n",
       "    </tr>\n",
       "    <tr>\n",
       "      <th>47</th>\n",
       "      <td>2</td>\n",
       "      <td>2014</td>\n",
       "      <td>12</td>\n",
       "      <td>1893.0</td>\n",
       "    </tr>\n",
       "    <tr>\n",
       "      <th>48</th>\n",
       "      <td>2</td>\n",
       "      <td>2015</td>\n",
       "      <td>1</td>\n",
       "      <td>744.0</td>\n",
       "    </tr>\n",
       "    <tr>\n",
       "      <th>49</th>\n",
       "      <td>2</td>\n",
       "      <td>2015</td>\n",
       "      <td>2</td>\n",
       "      <td>922.0</td>\n",
       "    </tr>\n",
       "    <tr>\n",
       "      <th>50</th>\n",
       "      <td>2</td>\n",
       "      <td>2015</td>\n",
       "      <td>3</td>\n",
       "      <td>774.0</td>\n",
       "    </tr>\n",
       "    <tr>\n",
       "      <th>51</th>\n",
       "      <td>2</td>\n",
       "      <td>2015</td>\n",
       "      <td>4</td>\n",
       "      <td>861.0</td>\n",
       "    </tr>\n",
       "    <tr>\n",
       "      <th>52</th>\n",
       "      <td>2</td>\n",
       "      <td>2015</td>\n",
       "      <td>5</td>\n",
       "      <td>866.0</td>\n",
       "    </tr>\n",
       "    <tr>\n",
       "      <th>53</th>\n",
       "      <td>2</td>\n",
       "      <td>2015</td>\n",
       "      <td>6</td>\n",
       "      <td>733.0</td>\n",
       "    </tr>\n",
       "    <tr>\n",
       "      <th>54</th>\n",
       "      <td>2</td>\n",
       "      <td>2015</td>\n",
       "      <td>7</td>\n",
       "      <td>732.0</td>\n",
       "    </tr>\n",
       "    <tr>\n",
       "      <th>55</th>\n",
       "      <td>2</td>\n",
       "      <td>2015</td>\n",
       "      <td>8</td>\n",
       "      <td>936.0</td>\n",
       "    </tr>\n",
       "    <tr>\n",
       "      <th>56</th>\n",
       "      <td>2</td>\n",
       "      <td>2015</td>\n",
       "      <td>9</td>\n",
       "      <td>663.0</td>\n",
       "    </tr>\n",
       "    <tr>\n",
       "      <th>57</th>\n",
       "      <td>2</td>\n",
       "      <td>2015</td>\n",
       "      <td>10</td>\n",
       "      <td>736.0</td>\n",
       "    </tr>\n",
       "  </tbody>\n",
       "</table>\n",
       "</div>"
      ],
      "text/plain": [
       "    shop_id  Year  Month  item_cnt_month\n",
       "24        2  2013      1           748.0\n",
       "25        2  2013      2           722.0\n",
       "26        2  2013      3           821.0\n",
       "27        2  2013      4           678.0\n",
       "28        2  2013      5           659.0\n",
       "29        2  2013      6           872.0\n",
       "30        2  2013      7           805.0\n",
       "31        2  2013      8           847.0\n",
       "32        2  2013      9           886.0\n",
       "33        2  2013     10           785.0\n",
       "34        2  2013     11           817.0\n",
       "35        2  2013     12          1321.0\n",
       "36        2  2014      1           715.0\n",
       "37        2  2014      2           881.0\n",
       "38        2  2014      3           984.0\n",
       "39        2  2014      4           855.0\n",
       "40        2  2014      5          1107.0\n",
       "41        2  2014      6           891.0\n",
       "42        2  2014      7           848.0\n",
       "43        2  2014      8          1065.0\n",
       "44        2  2014      9           939.0\n",
       "45        2  2014     10           859.0\n",
       "46        2  2014     11          1184.0\n",
       "47        2  2014     12          1893.0\n",
       "48        2  2015      1           744.0\n",
       "49        2  2015      2           922.0\n",
       "50        2  2015      3           774.0\n",
       "51        2  2015      4           861.0\n",
       "52        2  2015      5           866.0\n",
       "53        2  2015      6           733.0\n",
       "54        2  2015      7           732.0\n",
       "55        2  2015      8           936.0\n",
       "56        2  2015      9           663.0\n",
       "57        2  2015     10           736.0"
      ]
     },
     "execution_count": 1113,
     "metadata": {},
     "output_type": "execute_result"
    }
   ],
   "source": [
    "shop2"
   ]
  },
  {
   "cell_type": "code",
   "execution_count": 1114,
   "metadata": {},
   "outputs": [],
   "source": [
    "itemcnt2 = pd.DataFrame(shop2.item_cnt_month)"
   ]
  },
  {
   "cell_type": "code",
   "execution_count": 1115,
   "metadata": {},
   "outputs": [
    {
     "data": {
      "text/html": [
       "<div>\n",
       "<style scoped>\n",
       "    .dataframe tbody tr th:only-of-type {\n",
       "        vertical-align: middle;\n",
       "    }\n",
       "\n",
       "    .dataframe tbody tr th {\n",
       "        vertical-align: top;\n",
       "    }\n",
       "\n",
       "    .dataframe thead th {\n",
       "        text-align: right;\n",
       "    }\n",
       "</style>\n",
       "<table border=\"1\" class=\"dataframe\">\n",
       "  <thead>\n",
       "    <tr style=\"text-align: right;\">\n",
       "      <th></th>\n",
       "      <th>item_cnt_month</th>\n",
       "    </tr>\n",
       "  </thead>\n",
       "  <tbody>\n",
       "    <tr>\n",
       "      <th>24</th>\n",
       "      <td>748.0</td>\n",
       "    </tr>\n",
       "    <tr>\n",
       "      <th>25</th>\n",
       "      <td>722.0</td>\n",
       "    </tr>\n",
       "    <tr>\n",
       "      <th>26</th>\n",
       "      <td>821.0</td>\n",
       "    </tr>\n",
       "    <tr>\n",
       "      <th>27</th>\n",
       "      <td>678.0</td>\n",
       "    </tr>\n",
       "    <tr>\n",
       "      <th>28</th>\n",
       "      <td>659.0</td>\n",
       "    </tr>\n",
       "    <tr>\n",
       "      <th>29</th>\n",
       "      <td>872.0</td>\n",
       "    </tr>\n",
       "    <tr>\n",
       "      <th>30</th>\n",
       "      <td>805.0</td>\n",
       "    </tr>\n",
       "    <tr>\n",
       "      <th>31</th>\n",
       "      <td>847.0</td>\n",
       "    </tr>\n",
       "    <tr>\n",
       "      <th>32</th>\n",
       "      <td>886.0</td>\n",
       "    </tr>\n",
       "    <tr>\n",
       "      <th>33</th>\n",
       "      <td>785.0</td>\n",
       "    </tr>\n",
       "    <tr>\n",
       "      <th>34</th>\n",
       "      <td>817.0</td>\n",
       "    </tr>\n",
       "    <tr>\n",
       "      <th>35</th>\n",
       "      <td>1321.0</td>\n",
       "    </tr>\n",
       "    <tr>\n",
       "      <th>36</th>\n",
       "      <td>715.0</td>\n",
       "    </tr>\n",
       "    <tr>\n",
       "      <th>37</th>\n",
       "      <td>881.0</td>\n",
       "    </tr>\n",
       "    <tr>\n",
       "      <th>38</th>\n",
       "      <td>984.0</td>\n",
       "    </tr>\n",
       "    <tr>\n",
       "      <th>39</th>\n",
       "      <td>855.0</td>\n",
       "    </tr>\n",
       "    <tr>\n",
       "      <th>40</th>\n",
       "      <td>1107.0</td>\n",
       "    </tr>\n",
       "    <tr>\n",
       "      <th>41</th>\n",
       "      <td>891.0</td>\n",
       "    </tr>\n",
       "    <tr>\n",
       "      <th>42</th>\n",
       "      <td>848.0</td>\n",
       "    </tr>\n",
       "    <tr>\n",
       "      <th>43</th>\n",
       "      <td>1065.0</td>\n",
       "    </tr>\n",
       "    <tr>\n",
       "      <th>44</th>\n",
       "      <td>939.0</td>\n",
       "    </tr>\n",
       "    <tr>\n",
       "      <th>45</th>\n",
       "      <td>859.0</td>\n",
       "    </tr>\n",
       "    <tr>\n",
       "      <th>46</th>\n",
       "      <td>1184.0</td>\n",
       "    </tr>\n",
       "    <tr>\n",
       "      <th>47</th>\n",
       "      <td>1893.0</td>\n",
       "    </tr>\n",
       "    <tr>\n",
       "      <th>48</th>\n",
       "      <td>744.0</td>\n",
       "    </tr>\n",
       "    <tr>\n",
       "      <th>49</th>\n",
       "      <td>922.0</td>\n",
       "    </tr>\n",
       "    <tr>\n",
       "      <th>50</th>\n",
       "      <td>774.0</td>\n",
       "    </tr>\n",
       "    <tr>\n",
       "      <th>51</th>\n",
       "      <td>861.0</td>\n",
       "    </tr>\n",
       "    <tr>\n",
       "      <th>52</th>\n",
       "      <td>866.0</td>\n",
       "    </tr>\n",
       "    <tr>\n",
       "      <th>53</th>\n",
       "      <td>733.0</td>\n",
       "    </tr>\n",
       "    <tr>\n",
       "      <th>54</th>\n",
       "      <td>732.0</td>\n",
       "    </tr>\n",
       "    <tr>\n",
       "      <th>55</th>\n",
       "      <td>936.0</td>\n",
       "    </tr>\n",
       "    <tr>\n",
       "      <th>56</th>\n",
       "      <td>663.0</td>\n",
       "    </tr>\n",
       "    <tr>\n",
       "      <th>57</th>\n",
       "      <td>736.0</td>\n",
       "    </tr>\n",
       "  </tbody>\n",
       "</table>\n",
       "</div>"
      ],
      "text/plain": [
       "    item_cnt_month\n",
       "24           748.0\n",
       "25           722.0\n",
       "26           821.0\n",
       "27           678.0\n",
       "28           659.0\n",
       "29           872.0\n",
       "30           805.0\n",
       "31           847.0\n",
       "32           886.0\n",
       "33           785.0\n",
       "34           817.0\n",
       "35          1321.0\n",
       "36           715.0\n",
       "37           881.0\n",
       "38           984.0\n",
       "39           855.0\n",
       "40          1107.0\n",
       "41           891.0\n",
       "42           848.0\n",
       "43          1065.0\n",
       "44           939.0\n",
       "45           859.0\n",
       "46          1184.0\n",
       "47          1893.0\n",
       "48           744.0\n",
       "49           922.0\n",
       "50           774.0\n",
       "51           861.0\n",
       "52           866.0\n",
       "53           733.0\n",
       "54           732.0\n",
       "55           936.0\n",
       "56           663.0\n",
       "57           736.0"
      ]
     },
     "execution_count": 1115,
     "metadata": {},
     "output_type": "execute_result"
    }
   ],
   "source": [
    "itemcnt2"
   ]
  },
  {
   "cell_type": "code",
   "execution_count": 1116,
   "metadata": {},
   "outputs": [],
   "source": [
    "dataframe2 = pd.concat([itemcnt2.shift(1),itemcnt2.shift(2),itemcnt2.shift(3),itemcnt2.shift(4),itemcnt2.shift(5),itemcnt2.shift(6),itemcnt2.shift(7),itemcnt2.shift(8),itemcnt2.shift(9),itemcnt2.shift(10),itemcnt2.shift(11),itemcnt2.shift(12),itemcnt2], axis=1)"
   ]
  },
  {
   "cell_type": "code",
   "execution_count": 1117,
   "metadata": {},
   "outputs": [
    {
     "data": {
      "text/html": [
       "<div>\n",
       "<style scoped>\n",
       "    .dataframe tbody tr th:only-of-type {\n",
       "        vertical-align: middle;\n",
       "    }\n",
       "\n",
       "    .dataframe tbody tr th {\n",
       "        vertical-align: top;\n",
       "    }\n",
       "\n",
       "    .dataframe thead th {\n",
       "        text-align: right;\n",
       "    }\n",
       "</style>\n",
       "<table border=\"1\" class=\"dataframe\">\n",
       "  <thead>\n",
       "    <tr style=\"text-align: right;\">\n",
       "      <th></th>\n",
       "      <th>item_cnt_month</th>\n",
       "      <th>item_cnt_month</th>\n",
       "      <th>item_cnt_month</th>\n",
       "      <th>item_cnt_month</th>\n",
       "      <th>item_cnt_month</th>\n",
       "      <th>item_cnt_month</th>\n",
       "      <th>item_cnt_month</th>\n",
       "      <th>item_cnt_month</th>\n",
       "      <th>item_cnt_month</th>\n",
       "      <th>item_cnt_month</th>\n",
       "      <th>item_cnt_month</th>\n",
       "      <th>item_cnt_month</th>\n",
       "      <th>item_cnt_month</th>\n",
       "    </tr>\n",
       "  </thead>\n",
       "  <tbody>\n",
       "    <tr>\n",
       "      <th>24</th>\n",
       "      <td>NaN</td>\n",
       "      <td>NaN</td>\n",
       "      <td>NaN</td>\n",
       "      <td>NaN</td>\n",
       "      <td>NaN</td>\n",
       "      <td>NaN</td>\n",
       "      <td>NaN</td>\n",
       "      <td>NaN</td>\n",
       "      <td>NaN</td>\n",
       "      <td>NaN</td>\n",
       "      <td>NaN</td>\n",
       "      <td>NaN</td>\n",
       "      <td>748.0</td>\n",
       "    </tr>\n",
       "    <tr>\n",
       "      <th>25</th>\n",
       "      <td>748.0</td>\n",
       "      <td>NaN</td>\n",
       "      <td>NaN</td>\n",
       "      <td>NaN</td>\n",
       "      <td>NaN</td>\n",
       "      <td>NaN</td>\n",
       "      <td>NaN</td>\n",
       "      <td>NaN</td>\n",
       "      <td>NaN</td>\n",
       "      <td>NaN</td>\n",
       "      <td>NaN</td>\n",
       "      <td>NaN</td>\n",
       "      <td>722.0</td>\n",
       "    </tr>\n",
       "    <tr>\n",
       "      <th>26</th>\n",
       "      <td>722.0</td>\n",
       "      <td>748.0</td>\n",
       "      <td>NaN</td>\n",
       "      <td>NaN</td>\n",
       "      <td>NaN</td>\n",
       "      <td>NaN</td>\n",
       "      <td>NaN</td>\n",
       "      <td>NaN</td>\n",
       "      <td>NaN</td>\n",
       "      <td>NaN</td>\n",
       "      <td>NaN</td>\n",
       "      <td>NaN</td>\n",
       "      <td>821.0</td>\n",
       "    </tr>\n",
       "    <tr>\n",
       "      <th>27</th>\n",
       "      <td>821.0</td>\n",
       "      <td>722.0</td>\n",
       "      <td>748.0</td>\n",
       "      <td>NaN</td>\n",
       "      <td>NaN</td>\n",
       "      <td>NaN</td>\n",
       "      <td>NaN</td>\n",
       "      <td>NaN</td>\n",
       "      <td>NaN</td>\n",
       "      <td>NaN</td>\n",
       "      <td>NaN</td>\n",
       "      <td>NaN</td>\n",
       "      <td>678.0</td>\n",
       "    </tr>\n",
       "    <tr>\n",
       "      <th>28</th>\n",
       "      <td>678.0</td>\n",
       "      <td>821.0</td>\n",
       "      <td>722.0</td>\n",
       "      <td>748.0</td>\n",
       "      <td>NaN</td>\n",
       "      <td>NaN</td>\n",
       "      <td>NaN</td>\n",
       "      <td>NaN</td>\n",
       "      <td>NaN</td>\n",
       "      <td>NaN</td>\n",
       "      <td>NaN</td>\n",
       "      <td>NaN</td>\n",
       "      <td>659.0</td>\n",
       "    </tr>\n",
       "    <tr>\n",
       "      <th>29</th>\n",
       "      <td>659.0</td>\n",
       "      <td>678.0</td>\n",
       "      <td>821.0</td>\n",
       "      <td>722.0</td>\n",
       "      <td>748.0</td>\n",
       "      <td>NaN</td>\n",
       "      <td>NaN</td>\n",
       "      <td>NaN</td>\n",
       "      <td>NaN</td>\n",
       "      <td>NaN</td>\n",
       "      <td>NaN</td>\n",
       "      <td>NaN</td>\n",
       "      <td>872.0</td>\n",
       "    </tr>\n",
       "    <tr>\n",
       "      <th>30</th>\n",
       "      <td>872.0</td>\n",
       "      <td>659.0</td>\n",
       "      <td>678.0</td>\n",
       "      <td>821.0</td>\n",
       "      <td>722.0</td>\n",
       "      <td>748.0</td>\n",
       "      <td>NaN</td>\n",
       "      <td>NaN</td>\n",
       "      <td>NaN</td>\n",
       "      <td>NaN</td>\n",
       "      <td>NaN</td>\n",
       "      <td>NaN</td>\n",
       "      <td>805.0</td>\n",
       "    </tr>\n",
       "    <tr>\n",
       "      <th>31</th>\n",
       "      <td>805.0</td>\n",
       "      <td>872.0</td>\n",
       "      <td>659.0</td>\n",
       "      <td>678.0</td>\n",
       "      <td>821.0</td>\n",
       "      <td>722.0</td>\n",
       "      <td>748.0</td>\n",
       "      <td>NaN</td>\n",
       "      <td>NaN</td>\n",
       "      <td>NaN</td>\n",
       "      <td>NaN</td>\n",
       "      <td>NaN</td>\n",
       "      <td>847.0</td>\n",
       "    </tr>\n",
       "    <tr>\n",
       "      <th>32</th>\n",
       "      <td>847.0</td>\n",
       "      <td>805.0</td>\n",
       "      <td>872.0</td>\n",
       "      <td>659.0</td>\n",
       "      <td>678.0</td>\n",
       "      <td>821.0</td>\n",
       "      <td>722.0</td>\n",
       "      <td>748.0</td>\n",
       "      <td>NaN</td>\n",
       "      <td>NaN</td>\n",
       "      <td>NaN</td>\n",
       "      <td>NaN</td>\n",
       "      <td>886.0</td>\n",
       "    </tr>\n",
       "    <tr>\n",
       "      <th>33</th>\n",
       "      <td>886.0</td>\n",
       "      <td>847.0</td>\n",
       "      <td>805.0</td>\n",
       "      <td>872.0</td>\n",
       "      <td>659.0</td>\n",
       "      <td>678.0</td>\n",
       "      <td>821.0</td>\n",
       "      <td>722.0</td>\n",
       "      <td>748.0</td>\n",
       "      <td>NaN</td>\n",
       "      <td>NaN</td>\n",
       "      <td>NaN</td>\n",
       "      <td>785.0</td>\n",
       "    </tr>\n",
       "    <tr>\n",
       "      <th>34</th>\n",
       "      <td>785.0</td>\n",
       "      <td>886.0</td>\n",
       "      <td>847.0</td>\n",
       "      <td>805.0</td>\n",
       "      <td>872.0</td>\n",
       "      <td>659.0</td>\n",
       "      <td>678.0</td>\n",
       "      <td>821.0</td>\n",
       "      <td>722.0</td>\n",
       "      <td>748.0</td>\n",
       "      <td>NaN</td>\n",
       "      <td>NaN</td>\n",
       "      <td>817.0</td>\n",
       "    </tr>\n",
       "    <tr>\n",
       "      <th>35</th>\n",
       "      <td>817.0</td>\n",
       "      <td>785.0</td>\n",
       "      <td>886.0</td>\n",
       "      <td>847.0</td>\n",
       "      <td>805.0</td>\n",
       "      <td>872.0</td>\n",
       "      <td>659.0</td>\n",
       "      <td>678.0</td>\n",
       "      <td>821.0</td>\n",
       "      <td>722.0</td>\n",
       "      <td>748.0</td>\n",
       "      <td>NaN</td>\n",
       "      <td>1321.0</td>\n",
       "    </tr>\n",
       "    <tr>\n",
       "      <th>36</th>\n",
       "      <td>1321.0</td>\n",
       "      <td>817.0</td>\n",
       "      <td>785.0</td>\n",
       "      <td>886.0</td>\n",
       "      <td>847.0</td>\n",
       "      <td>805.0</td>\n",
       "      <td>872.0</td>\n",
       "      <td>659.0</td>\n",
       "      <td>678.0</td>\n",
       "      <td>821.0</td>\n",
       "      <td>722.0</td>\n",
       "      <td>748.0</td>\n",
       "      <td>715.0</td>\n",
       "    </tr>\n",
       "    <tr>\n",
       "      <th>37</th>\n",
       "      <td>715.0</td>\n",
       "      <td>1321.0</td>\n",
       "      <td>817.0</td>\n",
       "      <td>785.0</td>\n",
       "      <td>886.0</td>\n",
       "      <td>847.0</td>\n",
       "      <td>805.0</td>\n",
       "      <td>872.0</td>\n",
       "      <td>659.0</td>\n",
       "      <td>678.0</td>\n",
       "      <td>821.0</td>\n",
       "      <td>722.0</td>\n",
       "      <td>881.0</td>\n",
       "    </tr>\n",
       "    <tr>\n",
       "      <th>38</th>\n",
       "      <td>881.0</td>\n",
       "      <td>715.0</td>\n",
       "      <td>1321.0</td>\n",
       "      <td>817.0</td>\n",
       "      <td>785.0</td>\n",
       "      <td>886.0</td>\n",
       "      <td>847.0</td>\n",
       "      <td>805.0</td>\n",
       "      <td>872.0</td>\n",
       "      <td>659.0</td>\n",
       "      <td>678.0</td>\n",
       "      <td>821.0</td>\n",
       "      <td>984.0</td>\n",
       "    </tr>\n",
       "    <tr>\n",
       "      <th>39</th>\n",
       "      <td>984.0</td>\n",
       "      <td>881.0</td>\n",
       "      <td>715.0</td>\n",
       "      <td>1321.0</td>\n",
       "      <td>817.0</td>\n",
       "      <td>785.0</td>\n",
       "      <td>886.0</td>\n",
       "      <td>847.0</td>\n",
       "      <td>805.0</td>\n",
       "      <td>872.0</td>\n",
       "      <td>659.0</td>\n",
       "      <td>678.0</td>\n",
       "      <td>855.0</td>\n",
       "    </tr>\n",
       "    <tr>\n",
       "      <th>40</th>\n",
       "      <td>855.0</td>\n",
       "      <td>984.0</td>\n",
       "      <td>881.0</td>\n",
       "      <td>715.0</td>\n",
       "      <td>1321.0</td>\n",
       "      <td>817.0</td>\n",
       "      <td>785.0</td>\n",
       "      <td>886.0</td>\n",
       "      <td>847.0</td>\n",
       "      <td>805.0</td>\n",
       "      <td>872.0</td>\n",
       "      <td>659.0</td>\n",
       "      <td>1107.0</td>\n",
       "    </tr>\n",
       "    <tr>\n",
       "      <th>41</th>\n",
       "      <td>1107.0</td>\n",
       "      <td>855.0</td>\n",
       "      <td>984.0</td>\n",
       "      <td>881.0</td>\n",
       "      <td>715.0</td>\n",
       "      <td>1321.0</td>\n",
       "      <td>817.0</td>\n",
       "      <td>785.0</td>\n",
       "      <td>886.0</td>\n",
       "      <td>847.0</td>\n",
       "      <td>805.0</td>\n",
       "      <td>872.0</td>\n",
       "      <td>891.0</td>\n",
       "    </tr>\n",
       "    <tr>\n",
       "      <th>42</th>\n",
       "      <td>891.0</td>\n",
       "      <td>1107.0</td>\n",
       "      <td>855.0</td>\n",
       "      <td>984.0</td>\n",
       "      <td>881.0</td>\n",
       "      <td>715.0</td>\n",
       "      <td>1321.0</td>\n",
       "      <td>817.0</td>\n",
       "      <td>785.0</td>\n",
       "      <td>886.0</td>\n",
       "      <td>847.0</td>\n",
       "      <td>805.0</td>\n",
       "      <td>848.0</td>\n",
       "    </tr>\n",
       "    <tr>\n",
       "      <th>43</th>\n",
       "      <td>848.0</td>\n",
       "      <td>891.0</td>\n",
       "      <td>1107.0</td>\n",
       "      <td>855.0</td>\n",
       "      <td>984.0</td>\n",
       "      <td>881.0</td>\n",
       "      <td>715.0</td>\n",
       "      <td>1321.0</td>\n",
       "      <td>817.0</td>\n",
       "      <td>785.0</td>\n",
       "      <td>886.0</td>\n",
       "      <td>847.0</td>\n",
       "      <td>1065.0</td>\n",
       "    </tr>\n",
       "    <tr>\n",
       "      <th>44</th>\n",
       "      <td>1065.0</td>\n",
       "      <td>848.0</td>\n",
       "      <td>891.0</td>\n",
       "      <td>1107.0</td>\n",
       "      <td>855.0</td>\n",
       "      <td>984.0</td>\n",
       "      <td>881.0</td>\n",
       "      <td>715.0</td>\n",
       "      <td>1321.0</td>\n",
       "      <td>817.0</td>\n",
       "      <td>785.0</td>\n",
       "      <td>886.0</td>\n",
       "      <td>939.0</td>\n",
       "    </tr>\n",
       "    <tr>\n",
       "      <th>45</th>\n",
       "      <td>939.0</td>\n",
       "      <td>1065.0</td>\n",
       "      <td>848.0</td>\n",
       "      <td>891.0</td>\n",
       "      <td>1107.0</td>\n",
       "      <td>855.0</td>\n",
       "      <td>984.0</td>\n",
       "      <td>881.0</td>\n",
       "      <td>715.0</td>\n",
       "      <td>1321.0</td>\n",
       "      <td>817.0</td>\n",
       "      <td>785.0</td>\n",
       "      <td>859.0</td>\n",
       "    </tr>\n",
       "    <tr>\n",
       "      <th>46</th>\n",
       "      <td>859.0</td>\n",
       "      <td>939.0</td>\n",
       "      <td>1065.0</td>\n",
       "      <td>848.0</td>\n",
       "      <td>891.0</td>\n",
       "      <td>1107.0</td>\n",
       "      <td>855.0</td>\n",
       "      <td>984.0</td>\n",
       "      <td>881.0</td>\n",
       "      <td>715.0</td>\n",
       "      <td>1321.0</td>\n",
       "      <td>817.0</td>\n",
       "      <td>1184.0</td>\n",
       "    </tr>\n",
       "    <tr>\n",
       "      <th>47</th>\n",
       "      <td>1184.0</td>\n",
       "      <td>859.0</td>\n",
       "      <td>939.0</td>\n",
       "      <td>1065.0</td>\n",
       "      <td>848.0</td>\n",
       "      <td>891.0</td>\n",
       "      <td>1107.0</td>\n",
       "      <td>855.0</td>\n",
       "      <td>984.0</td>\n",
       "      <td>881.0</td>\n",
       "      <td>715.0</td>\n",
       "      <td>1321.0</td>\n",
       "      <td>1893.0</td>\n",
       "    </tr>\n",
       "    <tr>\n",
       "      <th>48</th>\n",
       "      <td>1893.0</td>\n",
       "      <td>1184.0</td>\n",
       "      <td>859.0</td>\n",
       "      <td>939.0</td>\n",
       "      <td>1065.0</td>\n",
       "      <td>848.0</td>\n",
       "      <td>891.0</td>\n",
       "      <td>1107.0</td>\n",
       "      <td>855.0</td>\n",
       "      <td>984.0</td>\n",
       "      <td>881.0</td>\n",
       "      <td>715.0</td>\n",
       "      <td>744.0</td>\n",
       "    </tr>\n",
       "    <tr>\n",
       "      <th>49</th>\n",
       "      <td>744.0</td>\n",
       "      <td>1893.0</td>\n",
       "      <td>1184.0</td>\n",
       "      <td>859.0</td>\n",
       "      <td>939.0</td>\n",
       "      <td>1065.0</td>\n",
       "      <td>848.0</td>\n",
       "      <td>891.0</td>\n",
       "      <td>1107.0</td>\n",
       "      <td>855.0</td>\n",
       "      <td>984.0</td>\n",
       "      <td>881.0</td>\n",
       "      <td>922.0</td>\n",
       "    </tr>\n",
       "    <tr>\n",
       "      <th>50</th>\n",
       "      <td>922.0</td>\n",
       "      <td>744.0</td>\n",
       "      <td>1893.0</td>\n",
       "      <td>1184.0</td>\n",
       "      <td>859.0</td>\n",
       "      <td>939.0</td>\n",
       "      <td>1065.0</td>\n",
       "      <td>848.0</td>\n",
       "      <td>891.0</td>\n",
       "      <td>1107.0</td>\n",
       "      <td>855.0</td>\n",
       "      <td>984.0</td>\n",
       "      <td>774.0</td>\n",
       "    </tr>\n",
       "    <tr>\n",
       "      <th>51</th>\n",
       "      <td>774.0</td>\n",
       "      <td>922.0</td>\n",
       "      <td>744.0</td>\n",
       "      <td>1893.0</td>\n",
       "      <td>1184.0</td>\n",
       "      <td>859.0</td>\n",
       "      <td>939.0</td>\n",
       "      <td>1065.0</td>\n",
       "      <td>848.0</td>\n",
       "      <td>891.0</td>\n",
       "      <td>1107.0</td>\n",
       "      <td>855.0</td>\n",
       "      <td>861.0</td>\n",
       "    </tr>\n",
       "    <tr>\n",
       "      <th>52</th>\n",
       "      <td>861.0</td>\n",
       "      <td>774.0</td>\n",
       "      <td>922.0</td>\n",
       "      <td>744.0</td>\n",
       "      <td>1893.0</td>\n",
       "      <td>1184.0</td>\n",
       "      <td>859.0</td>\n",
       "      <td>939.0</td>\n",
       "      <td>1065.0</td>\n",
       "      <td>848.0</td>\n",
       "      <td>891.0</td>\n",
       "      <td>1107.0</td>\n",
       "      <td>866.0</td>\n",
       "    </tr>\n",
       "    <tr>\n",
       "      <th>53</th>\n",
       "      <td>866.0</td>\n",
       "      <td>861.0</td>\n",
       "      <td>774.0</td>\n",
       "      <td>922.0</td>\n",
       "      <td>744.0</td>\n",
       "      <td>1893.0</td>\n",
       "      <td>1184.0</td>\n",
       "      <td>859.0</td>\n",
       "      <td>939.0</td>\n",
       "      <td>1065.0</td>\n",
       "      <td>848.0</td>\n",
       "      <td>891.0</td>\n",
       "      <td>733.0</td>\n",
       "    </tr>\n",
       "    <tr>\n",
       "      <th>54</th>\n",
       "      <td>733.0</td>\n",
       "      <td>866.0</td>\n",
       "      <td>861.0</td>\n",
       "      <td>774.0</td>\n",
       "      <td>922.0</td>\n",
       "      <td>744.0</td>\n",
       "      <td>1893.0</td>\n",
       "      <td>1184.0</td>\n",
       "      <td>859.0</td>\n",
       "      <td>939.0</td>\n",
       "      <td>1065.0</td>\n",
       "      <td>848.0</td>\n",
       "      <td>732.0</td>\n",
       "    </tr>\n",
       "    <tr>\n",
       "      <th>55</th>\n",
       "      <td>732.0</td>\n",
       "      <td>733.0</td>\n",
       "      <td>866.0</td>\n",
       "      <td>861.0</td>\n",
       "      <td>774.0</td>\n",
       "      <td>922.0</td>\n",
       "      <td>744.0</td>\n",
       "      <td>1893.0</td>\n",
       "      <td>1184.0</td>\n",
       "      <td>859.0</td>\n",
       "      <td>939.0</td>\n",
       "      <td>1065.0</td>\n",
       "      <td>936.0</td>\n",
       "    </tr>\n",
       "    <tr>\n",
       "      <th>56</th>\n",
       "      <td>936.0</td>\n",
       "      <td>732.0</td>\n",
       "      <td>733.0</td>\n",
       "      <td>866.0</td>\n",
       "      <td>861.0</td>\n",
       "      <td>774.0</td>\n",
       "      <td>922.0</td>\n",
       "      <td>744.0</td>\n",
       "      <td>1893.0</td>\n",
       "      <td>1184.0</td>\n",
       "      <td>859.0</td>\n",
       "      <td>939.0</td>\n",
       "      <td>663.0</td>\n",
       "    </tr>\n",
       "    <tr>\n",
       "      <th>57</th>\n",
       "      <td>663.0</td>\n",
       "      <td>936.0</td>\n",
       "      <td>732.0</td>\n",
       "      <td>733.0</td>\n",
       "      <td>866.0</td>\n",
       "      <td>861.0</td>\n",
       "      <td>774.0</td>\n",
       "      <td>922.0</td>\n",
       "      <td>744.0</td>\n",
       "      <td>1893.0</td>\n",
       "      <td>1184.0</td>\n",
       "      <td>859.0</td>\n",
       "      <td>736.0</td>\n",
       "    </tr>\n",
       "  </tbody>\n",
       "</table>\n",
       "</div>"
      ],
      "text/plain": [
       "    item_cnt_month  item_cnt_month  item_cnt_month  item_cnt_month  \\\n",
       "24             NaN             NaN             NaN             NaN   \n",
       "25           748.0             NaN             NaN             NaN   \n",
       "26           722.0           748.0             NaN             NaN   \n",
       "27           821.0           722.0           748.0             NaN   \n",
       "28           678.0           821.0           722.0           748.0   \n",
       "29           659.0           678.0           821.0           722.0   \n",
       "30           872.0           659.0           678.0           821.0   \n",
       "31           805.0           872.0           659.0           678.0   \n",
       "32           847.0           805.0           872.0           659.0   \n",
       "33           886.0           847.0           805.0           872.0   \n",
       "34           785.0           886.0           847.0           805.0   \n",
       "35           817.0           785.0           886.0           847.0   \n",
       "36          1321.0           817.0           785.0           886.0   \n",
       "37           715.0          1321.0           817.0           785.0   \n",
       "38           881.0           715.0          1321.0           817.0   \n",
       "39           984.0           881.0           715.0          1321.0   \n",
       "40           855.0           984.0           881.0           715.0   \n",
       "41          1107.0           855.0           984.0           881.0   \n",
       "42           891.0          1107.0           855.0           984.0   \n",
       "43           848.0           891.0          1107.0           855.0   \n",
       "44          1065.0           848.0           891.0          1107.0   \n",
       "45           939.0          1065.0           848.0           891.0   \n",
       "46           859.0           939.0          1065.0           848.0   \n",
       "47          1184.0           859.0           939.0          1065.0   \n",
       "48          1893.0          1184.0           859.0           939.0   \n",
       "49           744.0          1893.0          1184.0           859.0   \n",
       "50           922.0           744.0          1893.0          1184.0   \n",
       "51           774.0           922.0           744.0          1893.0   \n",
       "52           861.0           774.0           922.0           744.0   \n",
       "53           866.0           861.0           774.0           922.0   \n",
       "54           733.0           866.0           861.0           774.0   \n",
       "55           732.0           733.0           866.0           861.0   \n",
       "56           936.0           732.0           733.0           866.0   \n",
       "57           663.0           936.0           732.0           733.0   \n",
       "\n",
       "    item_cnt_month  item_cnt_month  item_cnt_month  item_cnt_month  \\\n",
       "24             NaN             NaN             NaN             NaN   \n",
       "25             NaN             NaN             NaN             NaN   \n",
       "26             NaN             NaN             NaN             NaN   \n",
       "27             NaN             NaN             NaN             NaN   \n",
       "28             NaN             NaN             NaN             NaN   \n",
       "29           748.0             NaN             NaN             NaN   \n",
       "30           722.0           748.0             NaN             NaN   \n",
       "31           821.0           722.0           748.0             NaN   \n",
       "32           678.0           821.0           722.0           748.0   \n",
       "33           659.0           678.0           821.0           722.0   \n",
       "34           872.0           659.0           678.0           821.0   \n",
       "35           805.0           872.0           659.0           678.0   \n",
       "36           847.0           805.0           872.0           659.0   \n",
       "37           886.0           847.0           805.0           872.0   \n",
       "38           785.0           886.0           847.0           805.0   \n",
       "39           817.0           785.0           886.0           847.0   \n",
       "40          1321.0           817.0           785.0           886.0   \n",
       "41           715.0          1321.0           817.0           785.0   \n",
       "42           881.0           715.0          1321.0           817.0   \n",
       "43           984.0           881.0           715.0          1321.0   \n",
       "44           855.0           984.0           881.0           715.0   \n",
       "45          1107.0           855.0           984.0           881.0   \n",
       "46           891.0          1107.0           855.0           984.0   \n",
       "47           848.0           891.0          1107.0           855.0   \n",
       "48          1065.0           848.0           891.0          1107.0   \n",
       "49           939.0          1065.0           848.0           891.0   \n",
       "50           859.0           939.0          1065.0           848.0   \n",
       "51          1184.0           859.0           939.0          1065.0   \n",
       "52          1893.0          1184.0           859.0           939.0   \n",
       "53           744.0          1893.0          1184.0           859.0   \n",
       "54           922.0           744.0          1893.0          1184.0   \n",
       "55           774.0           922.0           744.0          1893.0   \n",
       "56           861.0           774.0           922.0           744.0   \n",
       "57           866.0           861.0           774.0           922.0   \n",
       "\n",
       "    item_cnt_month  item_cnt_month  item_cnt_month  item_cnt_month  \\\n",
       "24             NaN             NaN             NaN             NaN   \n",
       "25             NaN             NaN             NaN             NaN   \n",
       "26             NaN             NaN             NaN             NaN   \n",
       "27             NaN             NaN             NaN             NaN   \n",
       "28             NaN             NaN             NaN             NaN   \n",
       "29             NaN             NaN             NaN             NaN   \n",
       "30             NaN             NaN             NaN             NaN   \n",
       "31             NaN             NaN             NaN             NaN   \n",
       "32             NaN             NaN             NaN             NaN   \n",
       "33           748.0             NaN             NaN             NaN   \n",
       "34           722.0           748.0             NaN             NaN   \n",
       "35           821.0           722.0           748.0             NaN   \n",
       "36           678.0           821.0           722.0           748.0   \n",
       "37           659.0           678.0           821.0           722.0   \n",
       "38           872.0           659.0           678.0           821.0   \n",
       "39           805.0           872.0           659.0           678.0   \n",
       "40           847.0           805.0           872.0           659.0   \n",
       "41           886.0           847.0           805.0           872.0   \n",
       "42           785.0           886.0           847.0           805.0   \n",
       "43           817.0           785.0           886.0           847.0   \n",
       "44          1321.0           817.0           785.0           886.0   \n",
       "45           715.0          1321.0           817.0           785.0   \n",
       "46           881.0           715.0          1321.0           817.0   \n",
       "47           984.0           881.0           715.0          1321.0   \n",
       "48           855.0           984.0           881.0           715.0   \n",
       "49          1107.0           855.0           984.0           881.0   \n",
       "50           891.0          1107.0           855.0           984.0   \n",
       "51           848.0           891.0          1107.0           855.0   \n",
       "52          1065.0           848.0           891.0          1107.0   \n",
       "53           939.0          1065.0           848.0           891.0   \n",
       "54           859.0           939.0          1065.0           848.0   \n",
       "55          1184.0           859.0           939.0          1065.0   \n",
       "56          1893.0          1184.0           859.0           939.0   \n",
       "57           744.0          1893.0          1184.0           859.0   \n",
       "\n",
       "    item_cnt_month  \n",
       "24           748.0  \n",
       "25           722.0  \n",
       "26           821.0  \n",
       "27           678.0  \n",
       "28           659.0  \n",
       "29           872.0  \n",
       "30           805.0  \n",
       "31           847.0  \n",
       "32           886.0  \n",
       "33           785.0  \n",
       "34           817.0  \n",
       "35          1321.0  \n",
       "36           715.0  \n",
       "37           881.0  \n",
       "38           984.0  \n",
       "39           855.0  \n",
       "40          1107.0  \n",
       "41           891.0  \n",
       "42           848.0  \n",
       "43          1065.0  \n",
       "44           939.0  \n",
       "45           859.0  \n",
       "46          1184.0  \n",
       "47          1893.0  \n",
       "48           744.0  \n",
       "49           922.0  \n",
       "50           774.0  \n",
       "51           861.0  \n",
       "52           866.0  \n",
       "53           733.0  \n",
       "54           732.0  \n",
       "55           936.0  \n",
       "56           663.0  \n",
       "57           736.0  "
      ]
     },
     "execution_count": 1117,
     "metadata": {},
     "output_type": "execute_result"
    }
   ],
   "source": [
    "dataframe2"
   ]
  },
  {
   "cell_type": "code",
   "execution_count": 1118,
   "metadata": {},
   "outputs": [],
   "source": [
    "dataframe2.columns = ['t-1','t-2','t-3','t-4','t-5','t-6','t-7','t-8','t-9','t-10','t-11','t-12','t+1']"
   ]
  },
  {
   "cell_type": "code",
   "execution_count": 1119,
   "metadata": {},
   "outputs": [
    {
     "name": "stdout",
     "output_type": "stream",
     "text": [
      "      t-1    t-2    t-3    t-4  t-5  t-6  t-7  t-8  t-9  t-10  t-11  t-12  \\\n",
      "24    NaN    NaN    NaN    NaN  NaN  NaN  NaN  NaN  NaN   NaN   NaN   NaN   \n",
      "25  748.0    NaN    NaN    NaN  NaN  NaN  NaN  NaN  NaN   NaN   NaN   NaN   \n",
      "26  722.0  748.0    NaN    NaN  NaN  NaN  NaN  NaN  NaN   NaN   NaN   NaN   \n",
      "27  821.0  722.0  748.0    NaN  NaN  NaN  NaN  NaN  NaN   NaN   NaN   NaN   \n",
      "28  678.0  821.0  722.0  748.0  NaN  NaN  NaN  NaN  NaN   NaN   NaN   NaN   \n",
      "\n",
      "      t+1  \n",
      "24  748.0  \n",
      "25  722.0  \n",
      "26  821.0  \n",
      "27  678.0  \n",
      "28  659.0  \n"
     ]
    }
   ],
   "source": [
    "print(dataframe2.head(5))"
   ]
  },
  {
   "cell_type": "code",
   "execution_count": 1120,
   "metadata": {},
   "outputs": [
    {
     "data": {
      "text/html": [
       "<div>\n",
       "<style scoped>\n",
       "    .dataframe tbody tr th:only-of-type {\n",
       "        vertical-align: middle;\n",
       "    }\n",
       "\n",
       "    .dataframe tbody tr th {\n",
       "        vertical-align: top;\n",
       "    }\n",
       "\n",
       "    .dataframe thead th {\n",
       "        text-align: right;\n",
       "    }\n",
       "</style>\n",
       "<table border=\"1\" class=\"dataframe\">\n",
       "  <thead>\n",
       "    <tr style=\"text-align: right;\">\n",
       "      <th></th>\n",
       "      <th>t-1</th>\n",
       "      <th>t-2</th>\n",
       "      <th>t-3</th>\n",
       "      <th>t-4</th>\n",
       "      <th>t-5</th>\n",
       "      <th>t-6</th>\n",
       "      <th>t-7</th>\n",
       "      <th>t-8</th>\n",
       "      <th>t-9</th>\n",
       "      <th>t-10</th>\n",
       "      <th>t-11</th>\n",
       "      <th>t-12</th>\n",
       "      <th>t+1</th>\n",
       "    </tr>\n",
       "  </thead>\n",
       "  <tbody>\n",
       "    <tr>\n",
       "      <th>24</th>\n",
       "      <td>NaN</td>\n",
       "      <td>NaN</td>\n",
       "      <td>NaN</td>\n",
       "      <td>NaN</td>\n",
       "      <td>NaN</td>\n",
       "      <td>NaN</td>\n",
       "      <td>NaN</td>\n",
       "      <td>NaN</td>\n",
       "      <td>NaN</td>\n",
       "      <td>NaN</td>\n",
       "      <td>NaN</td>\n",
       "      <td>NaN</td>\n",
       "      <td>748.0</td>\n",
       "    </tr>\n",
       "    <tr>\n",
       "      <th>25</th>\n",
       "      <td>748.0</td>\n",
       "      <td>NaN</td>\n",
       "      <td>NaN</td>\n",
       "      <td>NaN</td>\n",
       "      <td>NaN</td>\n",
       "      <td>NaN</td>\n",
       "      <td>NaN</td>\n",
       "      <td>NaN</td>\n",
       "      <td>NaN</td>\n",
       "      <td>NaN</td>\n",
       "      <td>NaN</td>\n",
       "      <td>NaN</td>\n",
       "      <td>722.0</td>\n",
       "    </tr>\n",
       "    <tr>\n",
       "      <th>26</th>\n",
       "      <td>722.0</td>\n",
       "      <td>748.0</td>\n",
       "      <td>NaN</td>\n",
       "      <td>NaN</td>\n",
       "      <td>NaN</td>\n",
       "      <td>NaN</td>\n",
       "      <td>NaN</td>\n",
       "      <td>NaN</td>\n",
       "      <td>NaN</td>\n",
       "      <td>NaN</td>\n",
       "      <td>NaN</td>\n",
       "      <td>NaN</td>\n",
       "      <td>821.0</td>\n",
       "    </tr>\n",
       "    <tr>\n",
       "      <th>27</th>\n",
       "      <td>821.0</td>\n",
       "      <td>722.0</td>\n",
       "      <td>748.0</td>\n",
       "      <td>NaN</td>\n",
       "      <td>NaN</td>\n",
       "      <td>NaN</td>\n",
       "      <td>NaN</td>\n",
       "      <td>NaN</td>\n",
       "      <td>NaN</td>\n",
       "      <td>NaN</td>\n",
       "      <td>NaN</td>\n",
       "      <td>NaN</td>\n",
       "      <td>678.0</td>\n",
       "    </tr>\n",
       "    <tr>\n",
       "      <th>28</th>\n",
       "      <td>678.0</td>\n",
       "      <td>821.0</td>\n",
       "      <td>722.0</td>\n",
       "      <td>748.0</td>\n",
       "      <td>NaN</td>\n",
       "      <td>NaN</td>\n",
       "      <td>NaN</td>\n",
       "      <td>NaN</td>\n",
       "      <td>NaN</td>\n",
       "      <td>NaN</td>\n",
       "      <td>NaN</td>\n",
       "      <td>NaN</td>\n",
       "      <td>659.0</td>\n",
       "    </tr>\n",
       "    <tr>\n",
       "      <th>29</th>\n",
       "      <td>659.0</td>\n",
       "      <td>678.0</td>\n",
       "      <td>821.0</td>\n",
       "      <td>722.0</td>\n",
       "      <td>748.0</td>\n",
       "      <td>NaN</td>\n",
       "      <td>NaN</td>\n",
       "      <td>NaN</td>\n",
       "      <td>NaN</td>\n",
       "      <td>NaN</td>\n",
       "      <td>NaN</td>\n",
       "      <td>NaN</td>\n",
       "      <td>872.0</td>\n",
       "    </tr>\n",
       "    <tr>\n",
       "      <th>30</th>\n",
       "      <td>872.0</td>\n",
       "      <td>659.0</td>\n",
       "      <td>678.0</td>\n",
       "      <td>821.0</td>\n",
       "      <td>722.0</td>\n",
       "      <td>748.0</td>\n",
       "      <td>NaN</td>\n",
       "      <td>NaN</td>\n",
       "      <td>NaN</td>\n",
       "      <td>NaN</td>\n",
       "      <td>NaN</td>\n",
       "      <td>NaN</td>\n",
       "      <td>805.0</td>\n",
       "    </tr>\n",
       "    <tr>\n",
       "      <th>31</th>\n",
       "      <td>805.0</td>\n",
       "      <td>872.0</td>\n",
       "      <td>659.0</td>\n",
       "      <td>678.0</td>\n",
       "      <td>821.0</td>\n",
       "      <td>722.0</td>\n",
       "      <td>748.0</td>\n",
       "      <td>NaN</td>\n",
       "      <td>NaN</td>\n",
       "      <td>NaN</td>\n",
       "      <td>NaN</td>\n",
       "      <td>NaN</td>\n",
       "      <td>847.0</td>\n",
       "    </tr>\n",
       "    <tr>\n",
       "      <th>32</th>\n",
       "      <td>847.0</td>\n",
       "      <td>805.0</td>\n",
       "      <td>872.0</td>\n",
       "      <td>659.0</td>\n",
       "      <td>678.0</td>\n",
       "      <td>821.0</td>\n",
       "      <td>722.0</td>\n",
       "      <td>748.0</td>\n",
       "      <td>NaN</td>\n",
       "      <td>NaN</td>\n",
       "      <td>NaN</td>\n",
       "      <td>NaN</td>\n",
       "      <td>886.0</td>\n",
       "    </tr>\n",
       "    <tr>\n",
       "      <th>33</th>\n",
       "      <td>886.0</td>\n",
       "      <td>847.0</td>\n",
       "      <td>805.0</td>\n",
       "      <td>872.0</td>\n",
       "      <td>659.0</td>\n",
       "      <td>678.0</td>\n",
       "      <td>821.0</td>\n",
       "      <td>722.0</td>\n",
       "      <td>748.0</td>\n",
       "      <td>NaN</td>\n",
       "      <td>NaN</td>\n",
       "      <td>NaN</td>\n",
       "      <td>785.0</td>\n",
       "    </tr>\n",
       "    <tr>\n",
       "      <th>34</th>\n",
       "      <td>785.0</td>\n",
       "      <td>886.0</td>\n",
       "      <td>847.0</td>\n",
       "      <td>805.0</td>\n",
       "      <td>872.0</td>\n",
       "      <td>659.0</td>\n",
       "      <td>678.0</td>\n",
       "      <td>821.0</td>\n",
       "      <td>722.0</td>\n",
       "      <td>748.0</td>\n",
       "      <td>NaN</td>\n",
       "      <td>NaN</td>\n",
       "      <td>817.0</td>\n",
       "    </tr>\n",
       "    <tr>\n",
       "      <th>35</th>\n",
       "      <td>817.0</td>\n",
       "      <td>785.0</td>\n",
       "      <td>886.0</td>\n",
       "      <td>847.0</td>\n",
       "      <td>805.0</td>\n",
       "      <td>872.0</td>\n",
       "      <td>659.0</td>\n",
       "      <td>678.0</td>\n",
       "      <td>821.0</td>\n",
       "      <td>722.0</td>\n",
       "      <td>748.0</td>\n",
       "      <td>NaN</td>\n",
       "      <td>1321.0</td>\n",
       "    </tr>\n",
       "    <tr>\n",
       "      <th>36</th>\n",
       "      <td>1321.0</td>\n",
       "      <td>817.0</td>\n",
       "      <td>785.0</td>\n",
       "      <td>886.0</td>\n",
       "      <td>847.0</td>\n",
       "      <td>805.0</td>\n",
       "      <td>872.0</td>\n",
       "      <td>659.0</td>\n",
       "      <td>678.0</td>\n",
       "      <td>821.0</td>\n",
       "      <td>722.0</td>\n",
       "      <td>748.0</td>\n",
       "      <td>715.0</td>\n",
       "    </tr>\n",
       "    <tr>\n",
       "      <th>37</th>\n",
       "      <td>715.0</td>\n",
       "      <td>1321.0</td>\n",
       "      <td>817.0</td>\n",
       "      <td>785.0</td>\n",
       "      <td>886.0</td>\n",
       "      <td>847.0</td>\n",
       "      <td>805.0</td>\n",
       "      <td>872.0</td>\n",
       "      <td>659.0</td>\n",
       "      <td>678.0</td>\n",
       "      <td>821.0</td>\n",
       "      <td>722.0</td>\n",
       "      <td>881.0</td>\n",
       "    </tr>\n",
       "    <tr>\n",
       "      <th>38</th>\n",
       "      <td>881.0</td>\n",
       "      <td>715.0</td>\n",
       "      <td>1321.0</td>\n",
       "      <td>817.0</td>\n",
       "      <td>785.0</td>\n",
       "      <td>886.0</td>\n",
       "      <td>847.0</td>\n",
       "      <td>805.0</td>\n",
       "      <td>872.0</td>\n",
       "      <td>659.0</td>\n",
       "      <td>678.0</td>\n",
       "      <td>821.0</td>\n",
       "      <td>984.0</td>\n",
       "    </tr>\n",
       "    <tr>\n",
       "      <th>39</th>\n",
       "      <td>984.0</td>\n",
       "      <td>881.0</td>\n",
       "      <td>715.0</td>\n",
       "      <td>1321.0</td>\n",
       "      <td>817.0</td>\n",
       "      <td>785.0</td>\n",
       "      <td>886.0</td>\n",
       "      <td>847.0</td>\n",
       "      <td>805.0</td>\n",
       "      <td>872.0</td>\n",
       "      <td>659.0</td>\n",
       "      <td>678.0</td>\n",
       "      <td>855.0</td>\n",
       "    </tr>\n",
       "    <tr>\n",
       "      <th>40</th>\n",
       "      <td>855.0</td>\n",
       "      <td>984.0</td>\n",
       "      <td>881.0</td>\n",
       "      <td>715.0</td>\n",
       "      <td>1321.0</td>\n",
       "      <td>817.0</td>\n",
       "      <td>785.0</td>\n",
       "      <td>886.0</td>\n",
       "      <td>847.0</td>\n",
       "      <td>805.0</td>\n",
       "      <td>872.0</td>\n",
       "      <td>659.0</td>\n",
       "      <td>1107.0</td>\n",
       "    </tr>\n",
       "    <tr>\n",
       "      <th>41</th>\n",
       "      <td>1107.0</td>\n",
       "      <td>855.0</td>\n",
       "      <td>984.0</td>\n",
       "      <td>881.0</td>\n",
       "      <td>715.0</td>\n",
       "      <td>1321.0</td>\n",
       "      <td>817.0</td>\n",
       "      <td>785.0</td>\n",
       "      <td>886.0</td>\n",
       "      <td>847.0</td>\n",
       "      <td>805.0</td>\n",
       "      <td>872.0</td>\n",
       "      <td>891.0</td>\n",
       "    </tr>\n",
       "    <tr>\n",
       "      <th>42</th>\n",
       "      <td>891.0</td>\n",
       "      <td>1107.0</td>\n",
       "      <td>855.0</td>\n",
       "      <td>984.0</td>\n",
       "      <td>881.0</td>\n",
       "      <td>715.0</td>\n",
       "      <td>1321.0</td>\n",
       "      <td>817.0</td>\n",
       "      <td>785.0</td>\n",
       "      <td>886.0</td>\n",
       "      <td>847.0</td>\n",
       "      <td>805.0</td>\n",
       "      <td>848.0</td>\n",
       "    </tr>\n",
       "    <tr>\n",
       "      <th>43</th>\n",
       "      <td>848.0</td>\n",
       "      <td>891.0</td>\n",
       "      <td>1107.0</td>\n",
       "      <td>855.0</td>\n",
       "      <td>984.0</td>\n",
       "      <td>881.0</td>\n",
       "      <td>715.0</td>\n",
       "      <td>1321.0</td>\n",
       "      <td>817.0</td>\n",
       "      <td>785.0</td>\n",
       "      <td>886.0</td>\n",
       "      <td>847.0</td>\n",
       "      <td>1065.0</td>\n",
       "    </tr>\n",
       "    <tr>\n",
       "      <th>44</th>\n",
       "      <td>1065.0</td>\n",
       "      <td>848.0</td>\n",
       "      <td>891.0</td>\n",
       "      <td>1107.0</td>\n",
       "      <td>855.0</td>\n",
       "      <td>984.0</td>\n",
       "      <td>881.0</td>\n",
       "      <td>715.0</td>\n",
       "      <td>1321.0</td>\n",
       "      <td>817.0</td>\n",
       "      <td>785.0</td>\n",
       "      <td>886.0</td>\n",
       "      <td>939.0</td>\n",
       "    </tr>\n",
       "    <tr>\n",
       "      <th>45</th>\n",
       "      <td>939.0</td>\n",
       "      <td>1065.0</td>\n",
       "      <td>848.0</td>\n",
       "      <td>891.0</td>\n",
       "      <td>1107.0</td>\n",
       "      <td>855.0</td>\n",
       "      <td>984.0</td>\n",
       "      <td>881.0</td>\n",
       "      <td>715.0</td>\n",
       "      <td>1321.0</td>\n",
       "      <td>817.0</td>\n",
       "      <td>785.0</td>\n",
       "      <td>859.0</td>\n",
       "    </tr>\n",
       "    <tr>\n",
       "      <th>46</th>\n",
       "      <td>859.0</td>\n",
       "      <td>939.0</td>\n",
       "      <td>1065.0</td>\n",
       "      <td>848.0</td>\n",
       "      <td>891.0</td>\n",
       "      <td>1107.0</td>\n",
       "      <td>855.0</td>\n",
       "      <td>984.0</td>\n",
       "      <td>881.0</td>\n",
       "      <td>715.0</td>\n",
       "      <td>1321.0</td>\n",
       "      <td>817.0</td>\n",
       "      <td>1184.0</td>\n",
       "    </tr>\n",
       "    <tr>\n",
       "      <th>47</th>\n",
       "      <td>1184.0</td>\n",
       "      <td>859.0</td>\n",
       "      <td>939.0</td>\n",
       "      <td>1065.0</td>\n",
       "      <td>848.0</td>\n",
       "      <td>891.0</td>\n",
       "      <td>1107.0</td>\n",
       "      <td>855.0</td>\n",
       "      <td>984.0</td>\n",
       "      <td>881.0</td>\n",
       "      <td>715.0</td>\n",
       "      <td>1321.0</td>\n",
       "      <td>1893.0</td>\n",
       "    </tr>\n",
       "    <tr>\n",
       "      <th>48</th>\n",
       "      <td>1893.0</td>\n",
       "      <td>1184.0</td>\n",
       "      <td>859.0</td>\n",
       "      <td>939.0</td>\n",
       "      <td>1065.0</td>\n",
       "      <td>848.0</td>\n",
       "      <td>891.0</td>\n",
       "      <td>1107.0</td>\n",
       "      <td>855.0</td>\n",
       "      <td>984.0</td>\n",
       "      <td>881.0</td>\n",
       "      <td>715.0</td>\n",
       "      <td>744.0</td>\n",
       "    </tr>\n",
       "    <tr>\n",
       "      <th>49</th>\n",
       "      <td>744.0</td>\n",
       "      <td>1893.0</td>\n",
       "      <td>1184.0</td>\n",
       "      <td>859.0</td>\n",
       "      <td>939.0</td>\n",
       "      <td>1065.0</td>\n",
       "      <td>848.0</td>\n",
       "      <td>891.0</td>\n",
       "      <td>1107.0</td>\n",
       "      <td>855.0</td>\n",
       "      <td>984.0</td>\n",
       "      <td>881.0</td>\n",
       "      <td>922.0</td>\n",
       "    </tr>\n",
       "    <tr>\n",
       "      <th>50</th>\n",
       "      <td>922.0</td>\n",
       "      <td>744.0</td>\n",
       "      <td>1893.0</td>\n",
       "      <td>1184.0</td>\n",
       "      <td>859.0</td>\n",
       "      <td>939.0</td>\n",
       "      <td>1065.0</td>\n",
       "      <td>848.0</td>\n",
       "      <td>891.0</td>\n",
       "      <td>1107.0</td>\n",
       "      <td>855.0</td>\n",
       "      <td>984.0</td>\n",
       "      <td>774.0</td>\n",
       "    </tr>\n",
       "    <tr>\n",
       "      <th>51</th>\n",
       "      <td>774.0</td>\n",
       "      <td>922.0</td>\n",
       "      <td>744.0</td>\n",
       "      <td>1893.0</td>\n",
       "      <td>1184.0</td>\n",
       "      <td>859.0</td>\n",
       "      <td>939.0</td>\n",
       "      <td>1065.0</td>\n",
       "      <td>848.0</td>\n",
       "      <td>891.0</td>\n",
       "      <td>1107.0</td>\n",
       "      <td>855.0</td>\n",
       "      <td>861.0</td>\n",
       "    </tr>\n",
       "    <tr>\n",
       "      <th>52</th>\n",
       "      <td>861.0</td>\n",
       "      <td>774.0</td>\n",
       "      <td>922.0</td>\n",
       "      <td>744.0</td>\n",
       "      <td>1893.0</td>\n",
       "      <td>1184.0</td>\n",
       "      <td>859.0</td>\n",
       "      <td>939.0</td>\n",
       "      <td>1065.0</td>\n",
       "      <td>848.0</td>\n",
       "      <td>891.0</td>\n",
       "      <td>1107.0</td>\n",
       "      <td>866.0</td>\n",
       "    </tr>\n",
       "    <tr>\n",
       "      <th>53</th>\n",
       "      <td>866.0</td>\n",
       "      <td>861.0</td>\n",
       "      <td>774.0</td>\n",
       "      <td>922.0</td>\n",
       "      <td>744.0</td>\n",
       "      <td>1893.0</td>\n",
       "      <td>1184.0</td>\n",
       "      <td>859.0</td>\n",
       "      <td>939.0</td>\n",
       "      <td>1065.0</td>\n",
       "      <td>848.0</td>\n",
       "      <td>891.0</td>\n",
       "      <td>733.0</td>\n",
       "    </tr>\n",
       "    <tr>\n",
       "      <th>54</th>\n",
       "      <td>733.0</td>\n",
       "      <td>866.0</td>\n",
       "      <td>861.0</td>\n",
       "      <td>774.0</td>\n",
       "      <td>922.0</td>\n",
       "      <td>744.0</td>\n",
       "      <td>1893.0</td>\n",
       "      <td>1184.0</td>\n",
       "      <td>859.0</td>\n",
       "      <td>939.0</td>\n",
       "      <td>1065.0</td>\n",
       "      <td>848.0</td>\n",
       "      <td>732.0</td>\n",
       "    </tr>\n",
       "    <tr>\n",
       "      <th>55</th>\n",
       "      <td>732.0</td>\n",
       "      <td>733.0</td>\n",
       "      <td>866.0</td>\n",
       "      <td>861.0</td>\n",
       "      <td>774.0</td>\n",
       "      <td>922.0</td>\n",
       "      <td>744.0</td>\n",
       "      <td>1893.0</td>\n",
       "      <td>1184.0</td>\n",
       "      <td>859.0</td>\n",
       "      <td>939.0</td>\n",
       "      <td>1065.0</td>\n",
       "      <td>936.0</td>\n",
       "    </tr>\n",
       "    <tr>\n",
       "      <th>56</th>\n",
       "      <td>936.0</td>\n",
       "      <td>732.0</td>\n",
       "      <td>733.0</td>\n",
       "      <td>866.0</td>\n",
       "      <td>861.0</td>\n",
       "      <td>774.0</td>\n",
       "      <td>922.0</td>\n",
       "      <td>744.0</td>\n",
       "      <td>1893.0</td>\n",
       "      <td>1184.0</td>\n",
       "      <td>859.0</td>\n",
       "      <td>939.0</td>\n",
       "      <td>663.0</td>\n",
       "    </tr>\n",
       "    <tr>\n",
       "      <th>57</th>\n",
       "      <td>663.0</td>\n",
       "      <td>936.0</td>\n",
       "      <td>732.0</td>\n",
       "      <td>733.0</td>\n",
       "      <td>866.0</td>\n",
       "      <td>861.0</td>\n",
       "      <td>774.0</td>\n",
       "      <td>922.0</td>\n",
       "      <td>744.0</td>\n",
       "      <td>1893.0</td>\n",
       "      <td>1184.0</td>\n",
       "      <td>859.0</td>\n",
       "      <td>736.0</td>\n",
       "    </tr>\n",
       "  </tbody>\n",
       "</table>\n",
       "</div>"
      ],
      "text/plain": [
       "       t-1     t-2     t-3     t-4     t-5     t-6     t-7     t-8     t-9  \\\n",
       "24     NaN     NaN     NaN     NaN     NaN     NaN     NaN     NaN     NaN   \n",
       "25   748.0     NaN     NaN     NaN     NaN     NaN     NaN     NaN     NaN   \n",
       "26   722.0   748.0     NaN     NaN     NaN     NaN     NaN     NaN     NaN   \n",
       "27   821.0   722.0   748.0     NaN     NaN     NaN     NaN     NaN     NaN   \n",
       "28   678.0   821.0   722.0   748.0     NaN     NaN     NaN     NaN     NaN   \n",
       "29   659.0   678.0   821.0   722.0   748.0     NaN     NaN     NaN     NaN   \n",
       "30   872.0   659.0   678.0   821.0   722.0   748.0     NaN     NaN     NaN   \n",
       "31   805.0   872.0   659.0   678.0   821.0   722.0   748.0     NaN     NaN   \n",
       "32   847.0   805.0   872.0   659.0   678.0   821.0   722.0   748.0     NaN   \n",
       "33   886.0   847.0   805.0   872.0   659.0   678.0   821.0   722.0   748.0   \n",
       "34   785.0   886.0   847.0   805.0   872.0   659.0   678.0   821.0   722.0   \n",
       "35   817.0   785.0   886.0   847.0   805.0   872.0   659.0   678.0   821.0   \n",
       "36  1321.0   817.0   785.0   886.0   847.0   805.0   872.0   659.0   678.0   \n",
       "37   715.0  1321.0   817.0   785.0   886.0   847.0   805.0   872.0   659.0   \n",
       "38   881.0   715.0  1321.0   817.0   785.0   886.0   847.0   805.0   872.0   \n",
       "39   984.0   881.0   715.0  1321.0   817.0   785.0   886.0   847.0   805.0   \n",
       "40   855.0   984.0   881.0   715.0  1321.0   817.0   785.0   886.0   847.0   \n",
       "41  1107.0   855.0   984.0   881.0   715.0  1321.0   817.0   785.0   886.0   \n",
       "42   891.0  1107.0   855.0   984.0   881.0   715.0  1321.0   817.0   785.0   \n",
       "43   848.0   891.0  1107.0   855.0   984.0   881.0   715.0  1321.0   817.0   \n",
       "44  1065.0   848.0   891.0  1107.0   855.0   984.0   881.0   715.0  1321.0   \n",
       "45   939.0  1065.0   848.0   891.0  1107.0   855.0   984.0   881.0   715.0   \n",
       "46   859.0   939.0  1065.0   848.0   891.0  1107.0   855.0   984.0   881.0   \n",
       "47  1184.0   859.0   939.0  1065.0   848.0   891.0  1107.0   855.0   984.0   \n",
       "48  1893.0  1184.0   859.0   939.0  1065.0   848.0   891.0  1107.0   855.0   \n",
       "49   744.0  1893.0  1184.0   859.0   939.0  1065.0   848.0   891.0  1107.0   \n",
       "50   922.0   744.0  1893.0  1184.0   859.0   939.0  1065.0   848.0   891.0   \n",
       "51   774.0   922.0   744.0  1893.0  1184.0   859.0   939.0  1065.0   848.0   \n",
       "52   861.0   774.0   922.0   744.0  1893.0  1184.0   859.0   939.0  1065.0   \n",
       "53   866.0   861.0   774.0   922.0   744.0  1893.0  1184.0   859.0   939.0   \n",
       "54   733.0   866.0   861.0   774.0   922.0   744.0  1893.0  1184.0   859.0   \n",
       "55   732.0   733.0   866.0   861.0   774.0   922.0   744.0  1893.0  1184.0   \n",
       "56   936.0   732.0   733.0   866.0   861.0   774.0   922.0   744.0  1893.0   \n",
       "57   663.0   936.0   732.0   733.0   866.0   861.0   774.0   922.0   744.0   \n",
       "\n",
       "      t-10    t-11    t-12     t+1  \n",
       "24     NaN     NaN     NaN   748.0  \n",
       "25     NaN     NaN     NaN   722.0  \n",
       "26     NaN     NaN     NaN   821.0  \n",
       "27     NaN     NaN     NaN   678.0  \n",
       "28     NaN     NaN     NaN   659.0  \n",
       "29     NaN     NaN     NaN   872.0  \n",
       "30     NaN     NaN     NaN   805.0  \n",
       "31     NaN     NaN     NaN   847.0  \n",
       "32     NaN     NaN     NaN   886.0  \n",
       "33     NaN     NaN     NaN   785.0  \n",
       "34   748.0     NaN     NaN   817.0  \n",
       "35   722.0   748.0     NaN  1321.0  \n",
       "36   821.0   722.0   748.0   715.0  \n",
       "37   678.0   821.0   722.0   881.0  \n",
       "38   659.0   678.0   821.0   984.0  \n",
       "39   872.0   659.0   678.0   855.0  \n",
       "40   805.0   872.0   659.0  1107.0  \n",
       "41   847.0   805.0   872.0   891.0  \n",
       "42   886.0   847.0   805.0   848.0  \n",
       "43   785.0   886.0   847.0  1065.0  \n",
       "44   817.0   785.0   886.0   939.0  \n",
       "45  1321.0   817.0   785.0   859.0  \n",
       "46   715.0  1321.0   817.0  1184.0  \n",
       "47   881.0   715.0  1321.0  1893.0  \n",
       "48   984.0   881.0   715.0   744.0  \n",
       "49   855.0   984.0   881.0   922.0  \n",
       "50  1107.0   855.0   984.0   774.0  \n",
       "51   891.0  1107.0   855.0   861.0  \n",
       "52   848.0   891.0  1107.0   866.0  \n",
       "53  1065.0   848.0   891.0   733.0  \n",
       "54   939.0  1065.0   848.0   732.0  \n",
       "55   859.0   939.0  1065.0   936.0  \n",
       "56  1184.0   859.0   939.0   663.0  \n",
       "57  1893.0  1184.0   859.0   736.0  "
      ]
     },
     "execution_count": 1120,
     "metadata": {},
     "output_type": "execute_result"
    }
   ],
   "source": [
    "dataframe2"
   ]
  },
  {
   "cell_type": "code",
   "execution_count": 1121,
   "metadata": {},
   "outputs": [],
   "source": [
    "x2 = dataframe2[['t-1','t-2','t-3','t-4','t-5','t-6','t-7','t-8','t-9','t-10','t-11','t-12']].drop([24,25,26,27,28,29,30,31,32,33,34,35]).to_numpy()\n",
    "y2 = dataframe2['t+1'].drop([24,25,26,27,28,29,30,31,32,33,34,35]).to_numpy()"
   ]
  },
  {
   "cell_type": "code",
   "execution_count": 1122,
   "metadata": {},
   "outputs": [
    {
     "data": {
      "text/plain": [
       "array([[1321.,  817.,  785.,  886.,  847.,  805.,  872.,  659.,  678.,\n",
       "         821.,  722.,  748.],\n",
       "       [ 715., 1321.,  817.,  785.,  886.,  847.,  805.,  872.,  659.,\n",
       "         678.,  821.,  722.],\n",
       "       [ 881.,  715., 1321.,  817.,  785.,  886.,  847.,  805.,  872.,\n",
       "         659.,  678.,  821.],\n",
       "       [ 984.,  881.,  715., 1321.,  817.,  785.,  886.,  847.,  805.,\n",
       "         872.,  659.,  678.],\n",
       "       [ 855.,  984.,  881.,  715., 1321.,  817.,  785.,  886.,  847.,\n",
       "         805.,  872.,  659.],\n",
       "       [1107.,  855.,  984.,  881.,  715., 1321.,  817.,  785.,  886.,\n",
       "         847.,  805.,  872.],\n",
       "       [ 891., 1107.,  855.,  984.,  881.,  715., 1321.,  817.,  785.,\n",
       "         886.,  847.,  805.],\n",
       "       [ 848.,  891., 1107.,  855.,  984.,  881.,  715., 1321.,  817.,\n",
       "         785.,  886.,  847.],\n",
       "       [1065.,  848.,  891., 1107.,  855.,  984.,  881.,  715., 1321.,\n",
       "         817.,  785.,  886.],\n",
       "       [ 939., 1065.,  848.,  891., 1107.,  855.,  984.,  881.,  715.,\n",
       "        1321.,  817.,  785.],\n",
       "       [ 859.,  939., 1065.,  848.,  891., 1107.,  855.,  984.,  881.,\n",
       "         715., 1321.,  817.],\n",
       "       [1184.,  859.,  939., 1065.,  848.,  891., 1107.,  855.,  984.,\n",
       "         881.,  715., 1321.],\n",
       "       [1893., 1184.,  859.,  939., 1065.,  848.,  891., 1107.,  855.,\n",
       "         984.,  881.,  715.],\n",
       "       [ 744., 1893., 1184.,  859.,  939., 1065.,  848.,  891., 1107.,\n",
       "         855.,  984.,  881.],\n",
       "       [ 922.,  744., 1893., 1184.,  859.,  939., 1065.,  848.,  891.,\n",
       "        1107.,  855.,  984.],\n",
       "       [ 774.,  922.,  744., 1893., 1184.,  859.,  939., 1065.,  848.,\n",
       "         891., 1107.,  855.],\n",
       "       [ 861.,  774.,  922.,  744., 1893., 1184.,  859.,  939., 1065.,\n",
       "         848.,  891., 1107.],\n",
       "       [ 866.,  861.,  774.,  922.,  744., 1893., 1184.,  859.,  939.,\n",
       "        1065.,  848.,  891.],\n",
       "       [ 733.,  866.,  861.,  774.,  922.,  744., 1893., 1184.,  859.,\n",
       "         939., 1065.,  848.],\n",
       "       [ 732.,  733.,  866.,  861.,  774.,  922.,  744., 1893., 1184.,\n",
       "         859.,  939., 1065.],\n",
       "       [ 936.,  732.,  733.,  866.,  861.,  774.,  922.,  744., 1893.,\n",
       "        1184.,  859.,  939.],\n",
       "       [ 663.,  936.,  732.,  733.,  866.,  861.,  774.,  922.,  744.,\n",
       "        1893., 1184.,  859.]])"
      ]
     },
     "execution_count": 1122,
     "metadata": {},
     "output_type": "execute_result"
    }
   ],
   "source": [
    "x2"
   ]
  },
  {
   "cell_type": "code",
   "execution_count": 1123,
   "metadata": {},
   "outputs": [
    {
     "data": {
      "text/plain": [
       "array([ 715.,  881.,  984.,  855., 1107.,  891.,  848., 1065.,  939.,\n",
       "        859., 1184., 1893.,  744.,  922.,  774.,  861.,  866.,  733.,\n",
       "        732.,  936.,  663.,  736.])"
      ]
     },
     "execution_count": 1123,
     "metadata": {},
     "output_type": "execute_result"
    }
   ],
   "source": [
    "y2"
   ]
  },
  {
   "cell_type": "code",
   "execution_count": 1124,
   "metadata": {},
   "outputs": [],
   "source": [
    "from sklearn.model_selection import train_test_split"
   ]
  },
  {
   "cell_type": "code",
   "execution_count": 625,
   "metadata": {},
   "outputs": [],
   "source": [
    "#xtrain, xtest, ytrain, ytest = train_test_split(x, y, test_size = 0.2, random_state=69)"
   ]
  },
  {
   "cell_type": "code",
   "execution_count": 1125,
   "metadata": {},
   "outputs": [],
   "source": [
    "xtrain2 = x2[0 : (len(x)-1)]"
   ]
  },
  {
   "cell_type": "code",
   "execution_count": 1126,
   "metadata": {},
   "outputs": [
    {
     "data": {
      "text/plain": [
       "array([[1321.,  817.,  785.,  886.,  847.,  805.,  872.,  659.,  678.,\n",
       "         821.,  722.,  748.],\n",
       "       [ 715., 1321.,  817.,  785.,  886.,  847.,  805.,  872.,  659.,\n",
       "         678.,  821.,  722.],\n",
       "       [ 881.,  715., 1321.,  817.,  785.,  886.,  847.,  805.,  872.,\n",
       "         659.,  678.,  821.],\n",
       "       [ 984.,  881.,  715., 1321.,  817.,  785.,  886.,  847.,  805.,\n",
       "         872.,  659.,  678.],\n",
       "       [ 855.,  984.,  881.,  715., 1321.,  817.,  785.,  886.,  847.,\n",
       "         805.,  872.,  659.],\n",
       "       [1107.,  855.,  984.,  881.,  715., 1321.,  817.,  785.,  886.,\n",
       "         847.,  805.,  872.],\n",
       "       [ 891., 1107.,  855.,  984.,  881.,  715., 1321.,  817.,  785.,\n",
       "         886.,  847.,  805.],\n",
       "       [ 848.,  891., 1107.,  855.,  984.,  881.,  715., 1321.,  817.,\n",
       "         785.,  886.,  847.],\n",
       "       [1065.,  848.,  891., 1107.,  855.,  984.,  881.,  715., 1321.,\n",
       "         817.,  785.,  886.],\n",
       "       [ 939., 1065.,  848.,  891., 1107.,  855.,  984.,  881.,  715.,\n",
       "        1321.,  817.,  785.],\n",
       "       [ 859.,  939., 1065.,  848.,  891., 1107.,  855.,  984.,  881.,\n",
       "         715., 1321.,  817.],\n",
       "       [1184.,  859.,  939., 1065.,  848.,  891., 1107.,  855.,  984.,\n",
       "         881.,  715., 1321.],\n",
       "       [1893., 1184.,  859.,  939., 1065.,  848.,  891., 1107.,  855.,\n",
       "         984.,  881.,  715.],\n",
       "       [ 744., 1893., 1184.,  859.,  939., 1065.,  848.,  891., 1107.,\n",
       "         855.,  984.,  881.],\n",
       "       [ 922.,  744., 1893., 1184.,  859.,  939., 1065.,  848.,  891.,\n",
       "        1107.,  855.,  984.],\n",
       "       [ 774.,  922.,  744., 1893., 1184.,  859.,  939., 1065.,  848.,\n",
       "         891., 1107.,  855.],\n",
       "       [ 861.,  774.,  922.,  744., 1893., 1184.,  859.,  939., 1065.,\n",
       "         848.,  891., 1107.],\n",
       "       [ 866.,  861.,  774.,  922.,  744., 1893., 1184.,  859.,  939.,\n",
       "        1065.,  848.,  891.],\n",
       "       [ 733.,  866.,  861.,  774.,  922.,  744., 1893., 1184.,  859.,\n",
       "         939., 1065.,  848.],\n",
       "       [ 732.,  733.,  866.,  861.,  774.,  922.,  744., 1893., 1184.,\n",
       "         859.,  939., 1065.],\n",
       "       [ 936.,  732.,  733.,  866.,  861.,  774.,  922.,  744., 1893.,\n",
       "        1184.,  859.,  939.]])"
      ]
     },
     "execution_count": 1126,
     "metadata": {},
     "output_type": "execute_result"
    }
   ],
   "source": [
    "xtrain2"
   ]
  },
  {
   "cell_type": "code",
   "execution_count": 1127,
   "metadata": {},
   "outputs": [],
   "source": [
    "ytrain2 = y2[0 : (len(y)-1)]\n"
   ]
  },
  {
   "cell_type": "code",
   "execution_count": 1128,
   "metadata": {},
   "outputs": [
    {
     "data": {
      "text/plain": [
       "array([ 715.,  881.,  984.,  855., 1107.,  891.,  848., 1065.,  939.,\n",
       "        859., 1184., 1893.,  744.,  922.,  774.,  861.,  866.,  733.,\n",
       "        732.,  936.,  663.])"
      ]
     },
     "execution_count": 1128,
     "metadata": {},
     "output_type": "execute_result"
    }
   ],
   "source": [
    "ytrain2"
   ]
  },
  {
   "cell_type": "code",
   "execution_count": 1129,
   "metadata": {},
   "outputs": [],
   "source": [
    "xtest2 = x2[-1].reshape(1, -1)\n"
   ]
  },
  {
   "cell_type": "code",
   "execution_count": 1130,
   "metadata": {},
   "outputs": [
    {
     "data": {
      "text/plain": [
       "array([[ 663.,  936.,  732.,  733.,  866.,  861.,  774.,  922.,  744.,\n",
       "        1893., 1184.,  859.]])"
      ]
     },
     "execution_count": 1130,
     "metadata": {},
     "output_type": "execute_result"
    }
   ],
   "source": [
    "xtest2"
   ]
  },
  {
   "cell_type": "code",
   "execution_count": 1131,
   "metadata": {},
   "outputs": [],
   "source": [
    "ytest2 = y2[-1].reshape(-1,1)"
   ]
  },
  {
   "cell_type": "code",
   "execution_count": 1132,
   "metadata": {},
   "outputs": [
    {
     "data": {
      "text/plain": [
       "array([[736.]])"
      ]
     },
     "execution_count": 1132,
     "metadata": {},
     "output_type": "execute_result"
    }
   ],
   "source": [
    "ytest2"
   ]
  },
  {
   "cell_type": "code",
   "execution_count": 1133,
   "metadata": {},
   "outputs": [],
   "source": [
    "from sklearn.ensemble import RandomForestRegressor"
   ]
  },
  {
   "cell_type": "code",
   "execution_count": 1134,
   "metadata": {},
   "outputs": [],
   "source": [
    "rf5 = RandomForestRegressor(n_estimators=5)"
   ]
  },
  {
   "cell_type": "code",
   "execution_count": 1135,
   "metadata": {},
   "outputs": [],
   "source": [
    "rf50 = RandomForestRegressor(n_estimators=50)"
   ]
  },
  {
   "cell_type": "code",
   "execution_count": 1136,
   "metadata": {},
   "outputs": [],
   "source": [
    "rf100 = RandomForestRegressor(n_estimators=100)"
   ]
  },
  {
   "cell_type": "code",
   "execution_count": 1137,
   "metadata": {},
   "outputs": [],
   "source": [
    "rf500 = RandomForestRegressor(n_estimators=500)"
   ]
  },
  {
   "cell_type": "code",
   "execution_count": 1138,
   "metadata": {},
   "outputs": [
    {
     "data": {
      "text/plain": [
       "RandomForestRegressor(n_estimators=5)"
      ]
     },
     "execution_count": 1138,
     "metadata": {},
     "output_type": "execute_result"
    }
   ],
   "source": [
    "rf5.fit(xtrain2,ytrain2)"
   ]
  },
  {
   "cell_type": "code",
   "execution_count": 1139,
   "metadata": {},
   "outputs": [
    {
     "data": {
      "text/plain": [
       "RandomForestRegressor(n_estimators=50)"
      ]
     },
     "execution_count": 1139,
     "metadata": {},
     "output_type": "execute_result"
    }
   ],
   "source": [
    "rf50.fit(xtrain2,ytrain2)"
   ]
  },
  {
   "cell_type": "code",
   "execution_count": 1140,
   "metadata": {},
   "outputs": [
    {
     "data": {
      "text/plain": [
       "RandomForestRegressor()"
      ]
     },
     "execution_count": 1140,
     "metadata": {},
     "output_type": "execute_result"
    }
   ],
   "source": [
    "rf100.fit(xtrain2,ytrain2)"
   ]
  },
  {
   "cell_type": "code",
   "execution_count": 1141,
   "metadata": {},
   "outputs": [
    {
     "data": {
      "text/plain": [
       "RandomForestRegressor(n_estimators=500)"
      ]
     },
     "execution_count": 1141,
     "metadata": {},
     "output_type": "execute_result"
    }
   ],
   "source": [
    "rf500.fit(xtrain2,ytrain2)"
   ]
  },
  {
   "cell_type": "code",
   "execution_count": 1142,
   "metadata": {},
   "outputs": [],
   "source": [
    "pred5_2 = rf5.predict(xtest2)\n",
    "pred50_2 = rf50.predict(xtest2)\n",
    "pred100_2 = rf100.predict(xtest2)\n",
    "pred500_2 = rf500.predict(xtest2)"
   ]
  },
  {
   "cell_type": "code",
   "execution_count": 1143,
   "metadata": {},
   "outputs": [
    {
     "data": {
      "text/plain": [
       "array([891.])"
      ]
     },
     "execution_count": 1143,
     "metadata": {},
     "output_type": "execute_result"
    }
   ],
   "source": [
    "pred5_2"
   ]
  },
  {
   "cell_type": "code",
   "execution_count": 1144,
   "metadata": {},
   "outputs": [
    {
     "data": {
      "text/plain": [
       "array([867.62])"
      ]
     },
     "execution_count": 1144,
     "metadata": {},
     "output_type": "execute_result"
    }
   ],
   "source": [
    "pred50_2"
   ]
  },
  {
   "cell_type": "code",
   "execution_count": 1145,
   "metadata": {},
   "outputs": [
    {
     "data": {
      "text/plain": [
       "array([860.48])"
      ]
     },
     "execution_count": 1145,
     "metadata": {},
     "output_type": "execute_result"
    }
   ],
   "source": [
    "pred100_2"
   ]
  },
  {
   "cell_type": "code",
   "execution_count": 1146,
   "metadata": {},
   "outputs": [
    {
     "data": {
      "text/plain": [
       "array([855.95])"
      ]
     },
     "execution_count": 1146,
     "metadata": {},
     "output_type": "execute_result"
    }
   ],
   "source": [
    "pred500_2"
   ]
  },
  {
   "cell_type": "code",
   "execution_count": 1147,
   "metadata": {},
   "outputs": [],
   "source": [
    "from sklearn import metrics\n"
   ]
  },
  {
   "cell_type": "code",
   "execution_count": 1148,
   "metadata": {},
   "outputs": [],
   "source": [
    "def mean_absolute_percentage_error(y_true, y_pred): \n",
    "    return np.mean(np.abs((y_true - y_pred) / y_true)) * 100\n"
   ]
  },
  {
   "cell_type": "code",
   "execution_count": 1181,
   "metadata": {},
   "outputs": [],
   "source": [
    "mae5_2 = metrics.mean_absolute_error(ytest2, pred5_2)\n",
    "rmse5_2 = np.sqrt(metrics.mean_squared_error(ytest2, pred5_2)) \n",
    "mape5_2 = mean_absolute_percentage_error(ytest2, pred5_2)\n"
   ]
  },
  {
   "cell_type": "code",
   "execution_count": 1182,
   "metadata": {},
   "outputs": [
    {
     "data": {
      "text/plain": [
       "155.0"
      ]
     },
     "execution_count": 1182,
     "metadata": {},
     "output_type": "execute_result"
    }
   ],
   "source": [
    "mae5_2"
   ]
  },
  {
   "cell_type": "code",
   "execution_count": 1183,
   "metadata": {},
   "outputs": [
    {
     "data": {
      "text/plain": [
       "155.0"
      ]
     },
     "execution_count": 1183,
     "metadata": {},
     "output_type": "execute_result"
    }
   ],
   "source": [
    "rmse5_2"
   ]
  },
  {
   "cell_type": "code",
   "execution_count": 1184,
   "metadata": {},
   "outputs": [
    {
     "data": {
      "text/plain": [
       "21.059782608695652"
      ]
     },
     "execution_count": 1184,
     "metadata": {},
     "output_type": "execute_result"
    }
   ],
   "source": [
    "mape5_2"
   ]
  },
  {
   "cell_type": "code",
   "execution_count": 1153,
   "metadata": {},
   "outputs": [],
   "source": [
    "mae50_2 = metrics.mean_absolute_error(ytest2, pred50_2)\n",
    "rmse50_2 = np.sqrt(metrics.mean_squared_error(ytest2, pred50_2)) \n",
    "mape50_2= mean_absolute_percentage_error(ytest2, pred50_2)\n"
   ]
  },
  {
   "cell_type": "code",
   "execution_count": 1154,
   "metadata": {},
   "outputs": [
    {
     "data": {
      "text/plain": [
       "131.62"
      ]
     },
     "execution_count": 1154,
     "metadata": {},
     "output_type": "execute_result"
    }
   ],
   "source": [
    "mae50_2"
   ]
  },
  {
   "cell_type": "code",
   "execution_count": 1155,
   "metadata": {},
   "outputs": [
    {
     "data": {
      "text/plain": [
       "131.62"
      ]
     },
     "execution_count": 1155,
     "metadata": {},
     "output_type": "execute_result"
    }
   ],
   "source": [
    "rmse50_2"
   ]
  },
  {
   "cell_type": "code",
   "execution_count": 1156,
   "metadata": {},
   "outputs": [
    {
     "data": {
      "text/plain": [
       "17.883152173913043"
      ]
     },
     "execution_count": 1156,
     "metadata": {},
     "output_type": "execute_result"
    }
   ],
   "source": [
    "mape50_2"
   ]
  },
  {
   "cell_type": "code",
   "execution_count": 1157,
   "metadata": {},
   "outputs": [],
   "source": [
    "mae100_2 = metrics.mean_absolute_error(ytest2, pred100_2)\n",
    "rmse100_2 = np.sqrt(metrics.mean_squared_error(ytest2, pred100_2)) \n",
    "mape100_2 = mean_absolute_percentage_error(ytest2, pred100_2)\n"
   ]
  },
  {
   "cell_type": "code",
   "execution_count": 1158,
   "metadata": {},
   "outputs": [
    {
     "data": {
      "text/plain": [
       "124.48000000000002"
      ]
     },
     "execution_count": 1158,
     "metadata": {},
     "output_type": "execute_result"
    }
   ],
   "source": [
    "mae100_2"
   ]
  },
  {
   "cell_type": "code",
   "execution_count": 1159,
   "metadata": {},
   "outputs": [
    {
     "data": {
      "text/plain": [
       "124.48000000000002"
      ]
     },
     "execution_count": 1159,
     "metadata": {},
     "output_type": "execute_result"
    }
   ],
   "source": [
    "rmse100_2"
   ]
  },
  {
   "cell_type": "code",
   "execution_count": 1160,
   "metadata": {},
   "outputs": [
    {
     "data": {
      "text/plain": [
       "16.91304347826087"
      ]
     },
     "execution_count": 1160,
     "metadata": {},
     "output_type": "execute_result"
    }
   ],
   "source": [
    "mape100_2"
   ]
  },
  {
   "cell_type": "code",
   "execution_count": 1161,
   "metadata": {},
   "outputs": [],
   "source": [
    "mae500_2 = metrics.mean_absolute_error(ytest2, pred500_2)\n",
    "rmse500_2 = np.sqrt(metrics.mean_squared_error(ytest2, pred500_2)) \n",
    "mape500_2 = mean_absolute_percentage_error(ytest2, pred500_2)\n"
   ]
  },
  {
   "cell_type": "code",
   "execution_count": 1162,
   "metadata": {},
   "outputs": [
    {
     "data": {
      "text/plain": [
       "119.95000000000005"
      ]
     },
     "execution_count": 1162,
     "metadata": {},
     "output_type": "execute_result"
    }
   ],
   "source": [
    "mae500_2"
   ]
  },
  {
   "cell_type": "code",
   "execution_count": 1163,
   "metadata": {},
   "outputs": [
    {
     "data": {
      "text/plain": [
       "119.95000000000005"
      ]
     },
     "execution_count": 1163,
     "metadata": {},
     "output_type": "execute_result"
    }
   ],
   "source": [
    "rmse500_2"
   ]
  },
  {
   "cell_type": "code",
   "execution_count": 1164,
   "metadata": {},
   "outputs": [
    {
     "data": {
      "text/plain": [
       "16.297554347826093"
      ]
     },
     "execution_count": 1164,
     "metadata": {},
     "output_type": "execute_result"
    }
   ],
   "source": [
    "mape500_2"
   ]
  },
  {
   "cell_type": "code",
   "execution_count": 1165,
   "metadata": {},
   "outputs": [],
   "source": [
    "accuracy2 = 100 - np.mean(mape100_2)"
   ]
  },
  {
   "cell_type": "code",
   "execution_count": 1166,
   "metadata": {},
   "outputs": [
    {
     "data": {
      "text/plain": [
       "83.08695652173913"
      ]
     },
     "execution_count": 1166,
     "metadata": {},
     "output_type": "execute_result"
    }
   ],
   "source": [
    "accuracy2"
   ]
  },
  {
   "cell_type": "code",
   "execution_count": 1175,
   "metadata": {},
   "outputs": [
    {
     "name": "stdout",
     "output_type": "stream",
     "text": [
      "Prediction for November Sales for Shop 2: [860.48]\n",
      "Mape: 16.91 %.\n",
      "Accuracy: 83.09 %.\n"
     ]
    }
   ],
   "source": [
    "print('Prediction for November Sales for Shop 2:', pred100_2)\n",
    "print('Mape:', round(mape100_2,2),'%.')\n",
    "print('Accuracy:', round(accuracy2, 2),'%.')"
   ]
  },
  {
   "cell_type": "code",
   "execution_count": 1188,
   "metadata": {},
   "outputs": [],
   "source": [
    "#Shop 3\n",
    "shop3 = train2[train2['shop_id'] == 3].drop([94,95])\n",
    "itemcnt3 = pd.DataFrame(shop3.item_cnt_month)\n",
    "dataframe3 = pd.concat([itemcnt3.shift(1),itemcnt3.shift(2),itemcnt3.shift(3),itemcnt3.shift(4),itemcnt3.shift(5),itemcnt3.shift(6),itemcnt3.shift(7),itemcnt3.shift(8),itemcnt3.shift(9),itemcnt3.shift(10),itemcnt3.shift(11),itemcnt3.shift(12),itemcnt3], axis=1)"
   ]
  },
  {
   "cell_type": "code",
   "execution_count": 1189,
   "metadata": {},
   "outputs": [],
   "source": [
    "dataframe3.columns = ['t-1','t-2','t-3','t-4','t-5','t-6','t-7','t-8','t-9','t-10','t-11','t-12','t+1']"
   ]
  },
  {
   "cell_type": "code",
   "execution_count": 1192,
   "metadata": {},
   "outputs": [],
   "source": [
    "x3 = dataframe3[['t-1','t-2','t-3','t-4','t-5','t-6','t-7','t-8','t-9','t-10','t-11','t-12']].drop([60,61,62,63,64,65,66,67,68,69,70,71]).to_numpy()"
   ]
  },
  {
   "cell_type": "code",
   "execution_count": 1193,
   "metadata": {},
   "outputs": [],
   "source": [
    "y3 = dataframe3['t+1'].drop([60,61,62,63,64,65,66,67,68,69,70,71]).to_numpy()\n"
   ]
  },
  {
   "cell_type": "code",
   "execution_count": 1194,
   "metadata": {},
   "outputs": [],
   "source": [
    "xtrain3 = x3[0 : (len(x)-1)]\n",
    "ytrain3 = y3[0 : (len(y)-1)]\n",
    "xtest3= x3[-1].reshape(1, -1)\n",
    "ytest3 = y3[-1].reshape(-1,1)"
   ]
  },
  {
   "cell_type": "code",
   "execution_count": 1195,
   "metadata": {},
   "outputs": [],
   "source": [
    "pred100_3 = rf100.predict(xtest3)"
   ]
  },
  {
   "cell_type": "code",
   "execution_count": 1197,
   "metadata": {},
   "outputs": [],
   "source": [
    "mape100_3= mean_absolute_percentage_error(ytest3, pred100_3)\n",
    "accuracy3 = 100 - np.mean(mape100_3)"
   ]
  },
  {
   "cell_type": "code",
   "execution_count": 1198,
   "metadata": {},
   "outputs": [
    {
     "name": "stdout",
     "output_type": "stream",
     "text": [
      "Prediction for November Sales for Shop 3: [848.79]\n",
      "Mape: 42.41 %.\n",
      "Accuracy: 57.59 %.\n"
     ]
    }
   ],
   "source": [
    "print('Prediction for November Sales for Shop 3:', pred100_3)\n",
    "print('Mape:', round(mape100_3,2),'%.')\n",
    "print('Accuracy:', round(accuracy3, 2),'%.')"
   ]
  },
  {
   "cell_type": "code",
   "execution_count": 1199,
   "metadata": {},
   "outputs": [],
   "source": [
    "#Shop 4\n",
    "shop4 = train2[train2['shop_id'] == 4].drop([130,131])"
   ]
  },
  {
   "cell_type": "code",
   "execution_count": 1205,
   "metadata": {},
   "outputs": [],
   "source": [
    "itemcnt4 = pd.DataFrame(shop4.item_cnt_month)"
   ]
  },
  {
   "cell_type": "code",
   "execution_count": 1214,
   "metadata": {},
   "outputs": [],
   "source": [
    "dataframe4 = pd.concat([itemcnt4.shift(1),itemcnt4.shift(2),itemcnt4.shift(3),itemcnt4.shift(4),itemcnt4.shift(5),itemcnt4.shift(6),itemcnt4.shift(7),itemcnt4.shift(8),itemcnt4.shift(9),itemcnt4.shift(10),itemcnt4.shift(11),itemcnt4.shift(12),itemcnt4], axis=1)"
   ]
  },
  {
   "cell_type": "code",
   "execution_count": 1215,
   "metadata": {},
   "outputs": [],
   "source": [
    "dataframe4.columns = ['t-1','t-2','t-3','t-4','t-5','t-6','t-7','t-8','t-9','t-10','t-11','t-12','t+1']"
   ]
  },
  {
   "cell_type": "code",
   "execution_count": 1218,
   "metadata": {},
   "outputs": [],
   "source": [
    "x4 = dataframe4[['t-1','t-2','t-3','t-4','t-5','t-6','t-7','t-8','t-9','t-10','t-11','t-12']].drop([96,97,98,99,100,101,102,103,104,105,106,107]).to_numpy()\n",
    "y4 = dataframe4['t+1'].drop([96,97,98,99,100,101,102,103,104,105,106,107]).to_numpy()"
   ]
  },
  {
   "cell_type": "code",
   "execution_count": 1219,
   "metadata": {},
   "outputs": [],
   "source": [
    "xtrain4 = x4[0 : (len(x)-1)]\n",
    "ytrain4 = y4[0 : (len(y)-1)]\n",
    "xtest4= x4[-1].reshape(1, -1)\n",
    "ytest4 = y4[-1].reshape(-1,1)"
   ]
  },
  {
   "cell_type": "code",
   "execution_count": 1220,
   "metadata": {},
   "outputs": [],
   "source": [
    "pred100_4 = rf100.predict(xtest4)"
   ]
  },
  {
   "cell_type": "code",
   "execution_count": 1221,
   "metadata": {},
   "outputs": [],
   "source": [
    "mape100_4= mean_absolute_percentage_error(ytest4, pred100_4)\n",
    "accuracy4 = 100 - np.mean(mape100_4)"
   ]
  },
  {
   "cell_type": "code",
   "execution_count": 1222,
   "metadata": {},
   "outputs": [
    {
     "name": "stdout",
     "output_type": "stream",
     "text": [
      "Prediction for November Sales for Shop 4: [848.85]\n",
      "Mape: 13.18 %.\n",
      "Accuracy: 86.82 %.\n"
     ]
    }
   ],
   "source": [
    "print('Prediction for November Sales for Shop 4:', pred100_4)\n",
    "print('Mape:', round(mape100_4,2),'%.')\n",
    "print('Accuracy:', round(accuracy4, 2),'%.')"
   ]
  },
  {
   "cell_type": "code",
   "execution_count": 1226,
   "metadata": {},
   "outputs": [],
   "source": [
    "shop5 = train2[train2['shop_id'] == 5].drop([166,167])"
   ]
  },
  {
   "cell_type": "code",
   "execution_count": 1228,
   "metadata": {},
   "outputs": [],
   "source": [
    "itemcnt5 = pd.DataFrame(shop5.item_cnt_month)"
   ]
  },
  {
   "cell_type": "code",
   "execution_count": 1229,
   "metadata": {},
   "outputs": [],
   "source": [
    "dataframe5 = pd.concat([itemcnt5.shift(1),itemcnt5.shift(2),itemcnt5.shift(3),itemcnt5.shift(4),itemcnt5.shift(5),itemcnt5.shift(6),itemcnt5.shift(7),itemcnt5.shift(8),itemcnt5.shift(9),itemcnt5.shift(10),itemcnt5.shift(11),itemcnt5.shift(12),itemcnt5], axis=1)"
   ]
  },
  {
   "cell_type": "code",
   "execution_count": 1230,
   "metadata": {},
   "outputs": [],
   "source": [
    "dataframe5.columns = ['t-1','t-2','t-3','t-4','t-5','t-6','t-7','t-8','t-9','t-10','t-11','t-12','t+1']"
   ]
  },
  {
   "cell_type": "code",
   "execution_count": 1232,
   "metadata": {},
   "outputs": [],
   "source": [
    "x5 = dataframe5[['t-1','t-2','t-3','t-4','t-5','t-6','t-7','t-8','t-9','t-10','t-11','t-12']].drop([132,133,134,135,136,137,138,139,140,141,142,143]).to_numpy()\n",
    "y5 = dataframe5['t+1'].drop([132,133,134,135,136,137,138,139,140,141,142,143]).to_numpy()"
   ]
  },
  {
   "cell_type": "code",
   "execution_count": 1235,
   "metadata": {},
   "outputs": [],
   "source": [
    "xtrain5 = x5[0 : (len(x)-1)]\n",
    "ytrain5 = y5[0 : (len(y)-1)]\n",
    "xtest5 = x5[-1].reshape(1, -1)\n",
    "ytest5 = y5[-1].reshape(-1,1)"
   ]
  },
  {
   "cell_type": "code",
   "execution_count": 1236,
   "metadata": {},
   "outputs": [],
   "source": [
    "pred100_5 = rf100.predict(xtest5)"
   ]
  },
  {
   "cell_type": "code",
   "execution_count": 1237,
   "metadata": {},
   "outputs": [],
   "source": [
    "mape100_5= mean_absolute_percentage_error(ytest5, pred100_5)\n",
    "accuracy5 = 100 - np.mean(mape100_5)"
   ]
  },
  {
   "cell_type": "code",
   "execution_count": 1241,
   "metadata": {},
   "outputs": [
    {
     "name": "stdout",
     "output_type": "stream",
     "text": [
      "Prediction for November Sales for Shop 5: [831.31]\n",
      "Mape: 12.49 %.\n",
      "Accuracy: 87.51 %.\n"
     ]
    }
   ],
   "source": [
    "print('Prediction for November Sales for Shop 5:', pred100_5)\n",
    "print('Mape:', round(mape100_5,2),'%.')\n",
    "print('Accuracy:', round(accuracy5, 2),'%.')"
   ]
  },
  {
   "cell_type": "code",
   "execution_count": 1323,
   "metadata": {},
   "outputs": [],
   "source": [
    "#shop6\n",
    "shop6 = train2[train2['shop_id'] == 6].drop([202,203])\n",
    "itemcnt6 = pd.DataFrame(shop6.item_cnt_month)\n",
    "dataframe6 = pd.concat([itemcnt6.shift(1),itemcnt6.shift(2),itemcnt6.shift(3),itemcnt6.shift(4),itemcnt6.shift(5),itemcnt6.shift(6),itemcnt6.shift(7),itemcnt6.shift(8),itemcnt6.shift(9),itemcnt6.shift(10),itemcnt6.shift(11),itemcnt6.shift(12),itemcnt6], axis=1)\n",
    "dataframe6.columns = ['t-1','t-2','t-3','t-4','t-5','t-6','t-7','t-8','t-9','t-10','t-11','t-12','t+1']"
   ]
  },
  {
   "cell_type": "code",
   "execution_count": 1330,
   "metadata": {},
   "outputs": [],
   "source": [
    "x6 = dataframe6[['t-1','t-2','t-3','t-4','t-5','t-6','t-7','t-8','t-9','t-10','t-11','t-12']].drop([168,169,170,171,172,173,174,175,176,177,178,179]).to_numpy()\n",
    "y6 = dataframe6['t+1'].drop([168,169,170,171,172,173,174,175,176,177,178,179]).to_numpy()"
   ]
  },
  {
   "cell_type": "code",
   "execution_count": 1333,
   "metadata": {},
   "outputs": [],
   "source": [
    "xtrain6 = x6[0 : (len(x)-1)]\n",
    "ytrain6 = y6[0 : (len(y)-1)]\n",
    "xtest6= x6[-1].reshape(1, -1)\n",
    "ytest6 = y6[-1].reshape(-1,1)"
   ]
  },
  {
   "cell_type": "code",
   "execution_count": 1334,
   "metadata": {},
   "outputs": [],
   "source": [
    "pred100_6 = rf100.predict(xtest6)\n",
    "mape100_6= mean_absolute_percentage_error(ytest6, pred100_6)\n",
    "accuracy6 = 100 - np.mean(mape100_6)"
   ]
  },
  {
   "cell_type": "code",
   "execution_count": 1336,
   "metadata": {},
   "outputs": [],
   "source": [
    "#shop7\n",
    "shop7 = train2[train2['shop_id'] == 7].drop([238,239])\n",
    "itemcnt7 = pd.DataFrame(shop7.item_cnt_month)\n",
    "dataframe7 = pd.concat([itemcnt7.shift(1),itemcnt7.shift(2),itemcnt7.shift(3),itemcnt7.shift(4),itemcnt7.shift(5),itemcnt7.shift(6),itemcnt7.shift(7),itemcnt7.shift(8),itemcnt7.shift(9),itemcnt7.shift(10),itemcnt7.shift(11),itemcnt7.shift(12),itemcnt7], axis=1)\n",
    "dataframe7.columns = ['t-1','t-2','t-3','t-4','t-5','t-6','t-7','t-8','t-9','t-10','t-11','t-12','t+1']"
   ]
  },
  {
   "cell_type": "code",
   "execution_count": 1338,
   "metadata": {},
   "outputs": [],
   "source": [
    "x7 = dataframe7[['t-1','t-2','t-3','t-4','t-5','t-6','t-7','t-8','t-9','t-10','t-11','t-12']].drop([204,205,206,207,208,209,210,211,212,213,214,215]).to_numpy()\n",
    "y7 = dataframe7['t+1'].drop([204,205,206,207,208,209,210,211,212,213,214,215]).to_numpy()\n"
   ]
  },
  {
   "cell_type": "code",
   "execution_count": 1339,
   "metadata": {},
   "outputs": [],
   "source": [
    "xtrain7 = x7[0 : (len(x)-1)]\n",
    "ytrain7 = y7[0 : (len(y)-1)]\n",
    "xtest7= x7[-1].reshape(1, -1)\n",
    "ytest7 = y7[-1].reshape(-1,1)"
   ]
  },
  {
   "cell_type": "code",
   "execution_count": 1341,
   "metadata": {},
   "outputs": [],
   "source": [
    "pred100_7 = rf100.predict(xtest7)\n",
    "mape100_7= mean_absolute_percentage_error(ytest6, pred100_7)\n",
    "accuracy7 = 100 - np.mean(mape100_7)"
   ]
  },
  {
   "cell_type": "code",
   "execution_count": 1342,
   "metadata": {},
   "outputs": [],
   "source": [
    "#shop10\n",
    "shop10 = train2[train2['shop_id'] == 10].drop([299,300])\n",
    "itemcnt10 = pd.DataFrame(shop10.item_cnt_month)\n",
    "dataframe10 = pd.concat([itemcnt10.shift(1),itemcnt10.shift(2),itemcnt10.shift(3),itemcnt10.shift(4),itemcnt10.shift(5),itemcnt10.shift(6),itemcnt10.shift(7),itemcnt10.shift(8),itemcnt10.shift(9),itemcnt10.shift(10),itemcnt10.shift(11),itemcnt10.shift(12),itemcnt10], axis=1)\n",
    "dataframe10.columns = ['t-1','t-2','t-3','t-4','t-5','t-6','t-7','t-8','t-9','t-10','t-11','t-12','t+1']"
   ]
  },
  {
   "cell_type": "code",
   "execution_count": 1344,
   "metadata": {},
   "outputs": [],
   "source": [
    "x10 = dataframe10[['t-1','t-2','t-3','t-4','t-5','t-6','t-7','t-8','t-9','t-10','t-11','t-12']].drop([265,266,267,268,269,270,271,272,273,274,275,276]).to_numpy()\n",
    "y10 = dataframe10['t+1'].drop([265,266,267,268,269,270,271,272,273,274,275,276]).to_numpy()"
   ]
  },
  {
   "cell_type": "code",
   "execution_count": 1346,
   "metadata": {},
   "outputs": [],
   "source": [
    "xtrain10 = x10[0 : (len(x)-1)]\n",
    "ytrain10 = y10[0 : (len(y)-1)]\n",
    "xtest10= x10[-1].reshape(1, -1)\n",
    "ytest10 = y10[-1].reshape(-1,1)\n"
   ]
  },
  {
   "cell_type": "code",
   "execution_count": 1347,
   "metadata": {},
   "outputs": [],
   "source": [
    "pred100_10 = rf100.predict(xtest10)\n",
    "mape100_10= mean_absolute_percentage_error(ytest10, pred100_10)\n",
    "accuracy10 = 100 - np.mean(mape100_10)"
   ]
  },
  {
   "cell_type": "code",
   "execution_count": 1362,
   "metadata": {},
   "outputs": [],
   "source": [
    "#shop12\n",
    "shop12 = train2[train2['shop_id'] == 12].drop([347,348])\n",
    "itemcnt12 = pd.DataFrame(shop12.item_cnt_month)\n",
    "dataframe12 = pd.concat([itemcnt12.shift(1),itemcnt12.shift(2),itemcnt12.shift(3),itemcnt12.shift(4),itemcnt12.shift(5),itemcnt12.shift(6),itemcnt12.shift(7),itemcnt12.shift(8),itemcnt12.shift(9),itemcnt12.shift(10),itemcnt12.shift(11),itemcnt12.shift(12),itemcnt12], axis=1)\n",
    "dataframe12.columns = ['t-1','t-2','t-3','t-4','t-5','t-6','t-7','t-8','t-9','t-10','t-11','t-12','t+1']"
   ]
  },
  {
   "cell_type": "code",
   "execution_count": 1364,
   "metadata": {},
   "outputs": [],
   "source": [
    "x12 = dataframe12[['t-1','t-2','t-3','t-4','t-5','t-6','t-7','t-8','t-9','t-10','t-11','t-12']].drop([313,314,315,316,317,318,319,320,321,322,323,324]).to_numpy()\n",
    "y12 = dataframe12['t+1'].drop([313,314,315,316,317,318,319,320,321,322,323,324]).to_numpy()\n"
   ]
  },
  {
   "cell_type": "code",
   "execution_count": 1365,
   "metadata": {},
   "outputs": [],
   "source": [
    "xtrain12 = x12[0 : (len(x)-1)]\n",
    "ytrain12 = y12[0 : (len(y)-1)]\n",
    "xtest12= x12[-1].reshape(1, -1)\n",
    "ytest12 = y12[-1].reshape(-1,1)"
   ]
  },
  {
   "cell_type": "code",
   "execution_count": 1366,
   "metadata": {},
   "outputs": [],
   "source": [
    "pred100_12 = rf100.predict(xtest12)\n",
    "mape100_12= mean_absolute_percentage_error(ytest12, pred100_12)\n",
    "accuracy12 = 100 - np.mean(mape100_12)"
   ]
  },
  {
   "cell_type": "code",
   "execution_count": 1370,
   "metadata": {},
   "outputs": [],
   "source": [
    "#shop14\n",
    "shop14 = train2[train2['shop_id'] == 14].drop([407,408])\n",
    "itemcnt14 = pd.DataFrame(shop14.item_cnt_month)\n",
    "dataframe14 = pd.concat([itemcnt14.shift(1),itemcnt14.shift(2),itemcnt14.shift(3),itemcnt14.shift(4),itemcnt14.shift(5),itemcnt14.shift(6),itemcnt14.shift(7),itemcnt14.shift(8),itemcnt14.shift(9),itemcnt14.shift(10),itemcnt14.shift(11),itemcnt14.shift(12),itemcnt14], axis=1)\n",
    "dataframe14.columns = ['t-1','t-2','t-3','t-4','t-5','t-6','t-7','t-8','t-9','t-10','t-11','t-12','t+1']"
   ]
  },
  {
   "cell_type": "code",
   "execution_count": 1372,
   "metadata": {},
   "outputs": [],
   "source": [
    "x14 = dataframe14[['t-1','t-2','t-3','t-4','t-5','t-6','t-7','t-8','t-9','t-10','t-11','t-12']].drop([373,374,375,376,377,378,379,380,381,382,383,384]).to_numpy()\n",
    "y14 = dataframe14['t+1'].drop([373,374,375,376,377,378,379,380,381,382,383,384]).to_numpy()"
   ]
  },
  {
   "cell_type": "code",
   "execution_count": 1374,
   "metadata": {},
   "outputs": [],
   "source": [
    "xtrain14 = x14[0 : (len(x)-1)]\n",
    "ytrain14 = y14[0 : (len(y)-1)]\n",
    "xtest14= x14[-1].reshape(1, -1)\n",
    "ytest14 = y14[-1].reshape(-1,1)"
   ]
  },
  {
   "cell_type": "code",
   "execution_count": 1375,
   "metadata": {},
   "outputs": [],
   "source": [
    "pred100_14 = rf100.predict(xtest14)\n",
    "mape100_14 = mean_absolute_percentage_error(ytest14, pred100_14)\n",
    "accuracy14 = 100 - np.mean(mape100_14)"
   ]
  },
  {
   "cell_type": "code",
   "execution_count": 1377,
   "metadata": {},
   "outputs": [],
   "source": [
    "#shop15\n",
    "shop15 = train2[train2['shop_id'] == 15].drop([443,444])\n",
    "itemcnt15 = pd.DataFrame(shop10.item_cnt_month)\n",
    "dataframe15 = pd.concat([itemcnt15.shift(1),itemcnt15.shift(2),itemcnt15.shift(3),itemcnt15.shift(4),itemcnt15.shift(5),itemcnt15.shift(6),itemcnt15.shift(7),itemcnt15.shift(8),itemcnt15.shift(9),itemcnt15.shift(10),itemcnt15.shift(11),itemcnt15.shift(12),itemcnt15], axis=1)\n",
    "dataframe15.columns = ['t-1','t-2','t-3','t-4','t-5','t-6','t-7','t-8','t-9','t-10','t-11','t-12','t+1']"
   ]
  },
  {
   "cell_type": "code",
   "execution_count": 1379,
   "metadata": {},
   "outputs": [],
   "source": [
    "x15 = dataframe15[['t-1','t-2','t-3','t-4','t-5','t-6','t-7','t-8','t-9','t-10','t-11','t-12']].drop([265,266,267,268,269,270,271,272,273,274,275,276]).to_numpy()\n",
    "y15 = dataframe15['t+1'].drop([265,266,267,268,269,270,271,272,273,274,275,276]).to_numpy()"
   ]
  },
  {
   "cell_type": "code",
   "execution_count": 1381,
   "metadata": {},
   "outputs": [],
   "source": [
    "xtrain15 = x15[0 : (len(x)-1)]\n",
    "ytrain15 = y15[0 : (len(y)-1)]\n",
    "xtest15= x15[-1].reshape(1, -1)\n",
    "ytest15 = y15[-1].reshape(-1,1)"
   ]
  },
  {
   "cell_type": "code",
   "execution_count": 1382,
   "metadata": {},
   "outputs": [],
   "source": [
    "pred100_15 = rf100.predict(xtest15)\n",
    "mape100_15= mean_absolute_percentage_error(ytest15, pred100_15)\n",
    "accuracy15 = 100 - np.mean(mape100_15)"
   ]
  },
  {
   "cell_type": "code",
   "execution_count": 1384,
   "metadata": {},
   "outputs": [],
   "source": [
    "#shop16\n",
    "shop16 = train2[train2['shop_id'] == 16].drop([479,480])\n",
    "itemcnt16 = pd.DataFrame(shop16.item_cnt_month)\n",
    "dataframe16 = pd.concat([itemcnt16.shift(1),itemcnt16.shift(2),itemcnt16.shift(3),itemcnt16.shift(4),itemcnt16.shift(5),itemcnt16.shift(6),itemcnt16.shift(7),itemcnt16.shift(8),itemcnt16.shift(9),itemcnt16.shift(10),itemcnt16.shift(11),itemcnt16.shift(12),itemcnt16], axis=1)\n",
    "dataframe16.columns = ['t-1','t-2','t-3','t-4','t-5','t-6','t-7','t-8','t-9','t-10','t-11','t-12','t+1']\n"
   ]
  },
  {
   "cell_type": "code",
   "execution_count": 1386,
   "metadata": {},
   "outputs": [],
   "source": [
    "x16 = dataframe16[['t-1','t-2','t-3','t-4','t-5','t-6','t-7','t-8','t-9','t-10','t-11','t-12']].drop([445,446,447,448,449,450,451,452,453,454,455,456]).to_numpy()\n",
    "y16 = dataframe16['t+1'].drop([445,446,447,448,449,450,451,452,453,454,455,456]).to_numpy()"
   ]
  },
  {
   "cell_type": "code",
   "execution_count": 1387,
   "metadata": {},
   "outputs": [],
   "source": [
    "xtrain16 = x16[0 : (len(x)-1)]\n",
    "ytrain16 = y16[0 : (len(y)-1)]\n",
    "xtest16 = x16[-1].reshape(1, -1)\n",
    "ytest16 = y16[-1].reshape(-1,1)"
   ]
  },
  {
   "cell_type": "code",
   "execution_count": 1388,
   "metadata": {},
   "outputs": [],
   "source": [
    "pred100_16 = rf100.predict(xtest16)\n",
    "mape100_16= mean_absolute_percentage_error(ytest12, pred100_16)\n",
    "accuracy16 = 100 - np.mean(mape100_16)"
   ]
  },
  {
   "cell_type": "code",
   "execution_count": 1389,
   "metadata": {},
   "outputs": [],
   "source": [
    "#shop17\n",
    "shop17 = train2[train2['shop_id'] == 17].drop([515,516])\n",
    "itemcnt17 = pd.DataFrame(shop17.item_cnt_month)\n",
    "dataframe17 = pd.concat([itemcnt17.shift(1),itemcnt17.shift(2),itemcnt17.shift(3),itemcnt17.shift(4),itemcnt17.shift(5),itemcnt17.shift(6),itemcnt17.shift(7),itemcnt17.shift(8),itemcnt17.shift(9),itemcnt17.shift(10),itemcnt17.shift(11),itemcnt17.shift(12),itemcnt17], axis=1)\n",
    "dataframe17.columns = ['t-1','t-2','t-3','t-4','t-5','t-6','t-7','t-8','t-9','t-10','t-11','t-12','t+1']"
   ]
  },
  {
   "cell_type": "code",
   "execution_count": 1391,
   "metadata": {},
   "outputs": [],
   "source": [
    "x17 = dataframe17[['t-1','t-2','t-3','t-4','t-5','t-6','t-7','t-8','t-9','t-10','t-11','t-12']].drop([481,482,483,484,485,486,487,488,489,490,491,492]).to_numpy()\n",
    "y17 = dataframe17['t+1'].drop([481,482,483,484,485,486,487,488,489,490,491,492]).to_numpy()"
   ]
  },
  {
   "cell_type": "code",
   "execution_count": 1392,
   "metadata": {},
   "outputs": [],
   "source": [
    "xtrain17 = x17[0 : (len(x)-1)]\n",
    "ytrain17 = y17[0 : (len(y)-1)]\n",
    "xtest17= x17[-1].reshape(1, -1)\n",
    "ytest17 = y17[-1].reshape(-1,1)"
   ]
  },
  {
   "cell_type": "code",
   "execution_count": 1393,
   "metadata": {},
   "outputs": [],
   "source": [
    "pred100_17 = rf100.predict(xtest17)\n",
    "mape100_17= mean_absolute_percentage_error(ytest12, pred100_17)\n",
    "accuracy17 = 100 - np.mean(mape100_17)\n"
   ]
  },
  {
   "cell_type": "code",
   "execution_count": 1395,
   "metadata": {},
   "outputs": [],
   "source": [
    "#shop18\n",
    "shop18 = train2[train2['shop_id'] == 18].drop([551,552])\n",
    "itemcnt18 = pd.DataFrame(shop18.item_cnt_month)\n",
    "dataframe18 = pd.concat([itemcnt18.shift(1),itemcnt18.shift(2),itemcnt18.shift(3),itemcnt18.shift(4),itemcnt18.shift(5),itemcnt18.shift(6),itemcnt18.shift(7),itemcnt18.shift(8),itemcnt18.shift(9),itemcnt18.shift(10),itemcnt18.shift(11),itemcnt18.shift(12),itemcnt18], axis=1)\n",
    "dataframe18.columns = ['t-1','t-2','t-3','t-4','t-5','t-6','t-7','t-8','t-9','t-10','t-11','t-12','t+1']"
   ]
  },
  {
   "cell_type": "code",
   "execution_count": 1397,
   "metadata": {},
   "outputs": [],
   "source": [
    "x18 = dataframe18[['t-1','t-2','t-3','t-4','t-5','t-6','t-7','t-8','t-9','t-10','t-11','t-12']].drop([517,518,519,520,521,522,523,524,525,526,527,528]).to_numpy()\n",
    "y18 = dataframe18['t+1'].drop([517,518,519,520,521,522,523,524,525,526,527,528]).to_numpy()\n"
   ]
  },
  {
   "cell_type": "code",
   "execution_count": 1398,
   "metadata": {},
   "outputs": [],
   "source": [
    "xtrain18 = x18[0 : (len(x)-1)]\n",
    "ytrain18 = y18[0 : (len(y)-1)]\n",
    "xtest18 = x18[-1].reshape(1, -1)\n",
    "ytest18 = y18[-1].reshape(-1,1)"
   ]
  },
  {
   "cell_type": "code",
   "execution_count": 1673,
   "metadata": {},
   "outputs": [],
   "source": [
    "pred100_18 = rf100.predict(xtest18)\n",
    "mape100_18= mean_absolute_percentage_error(ytest18, pred100_18)\n",
    "accuracy18 = 100 - np.mean(mape100_18)"
   ]
  },
  {
   "cell_type": "code",
   "execution_count": 1674,
   "metadata": {},
   "outputs": [],
   "source": [
    "#shop19\n",
    "shop19 = train2[train2['shop_id'] == 19].drop([587,588])\n",
    "itemcnt19 = pd.DataFrame(shop19.item_cnt_month)\n",
    "dataframe19 = pd.concat([itemcnt19.shift(1),itemcnt19.shift(2),itemcnt19.shift(3),itemcnt19.shift(4),itemcnt19.shift(5),itemcnt19.shift(6),itemcnt19.shift(7),itemcnt19.shift(8),itemcnt19.shift(9),itemcnt19.shift(10),itemcnt19.shift(11),itemcnt19.shift(12),itemcnt19], axis=1)\n",
    "dataframe19.columns = ['t-1','t-2','t-3','t-4','t-5','t-6','t-7','t-8','t-9','t-10','t-11','t-12','t+1']"
   ]
  },
  {
   "cell_type": "code",
   "execution_count": 1675,
   "metadata": {},
   "outputs": [],
   "source": [
    "x19 = dataframe19[['t-1','t-2','t-3','t-4','t-5','t-6','t-7','t-8','t-9','t-10','t-11','t-12']].drop([553,554,555,556,557,558,559,560,561,562,563,564]).to_numpy()\n",
    "y19 = dataframe19['t+1'].drop([553,554,555,556,557,558,559,560,561,562,563,564]).to_numpy()"
   ]
  },
  {
   "cell_type": "code",
   "execution_count": 1676,
   "metadata": {},
   "outputs": [],
   "source": [
    "xtrain19 = x19[0 : (len(x)-1)]\n",
    "ytrain19 = y19[0 : (len(y)-1)]\n",
    "xtest19 = x19[-1].reshape(1, -1)\n",
    "ytest19 = y19[-1].reshape(-1,1)"
   ]
  },
  {
   "cell_type": "code",
   "execution_count": 1677,
   "metadata": {},
   "outputs": [],
   "source": [
    "pred100_19 = rf100.predict(xtest19)\n",
    "mape100_19 = mean_absolute_percentage_error(ytest19, pred100_19)\n",
    "accuracy19 = 100 - np.mean(mape100_19)"
   ]
  },
  {
   "cell_type": "code",
   "execution_count": 1408,
   "metadata": {},
   "outputs": [],
   "source": [
    "#shop21\n",
    "shop21 = train2[train2['shop_id'] == 21].drop([632,633])\n",
    "itemcnt21 = pd.DataFrame(shop21.item_cnt_month)\n",
    "dataframe21 = pd.concat([itemcnt21.shift(1),itemcnt21.shift(2),itemcnt21.shift(3),itemcnt21.shift(4),itemcnt21.shift(5),itemcnt21.shift(6),itemcnt21.shift(7),itemcnt21.shift(8),itemcnt21.shift(9),itemcnt21.shift(10),itemcnt21.shift(11),itemcnt21.shift(12),itemcnt21], axis=1)\n",
    "dataframe21.columns = ['t-1','t-2','t-3','t-4','t-5','t-6','t-7','t-8','t-9','t-10','t-11','t-12','t+1']"
   ]
  },
  {
   "cell_type": "code",
   "execution_count": 1410,
   "metadata": {},
   "outputs": [],
   "source": [
    "x21 = dataframe21[['t-1','t-2','t-3','t-4','t-5','t-6','t-7','t-8','t-9','t-10','t-11','t-12']].drop([598,599,600,601,602,603,604,605,606,607,608,609]).to_numpy()\n",
    "y21 = dataframe21['t+1'].drop([598,599,600,601,602,603,604,605,606,607,608,609]).to_numpy()"
   ]
  },
  {
   "cell_type": "code",
   "execution_count": 1411,
   "metadata": {},
   "outputs": [],
   "source": [
    "xtrain21 = x21[0 : (len(x)-1)]\n",
    "ytrain21 = y21[0 : (len(y)-1)]\n",
    "xtest21= x21[-1].reshape(1, -1)\n",
    "ytest21 = y21[-1].reshape(-1,1)"
   ]
  },
  {
   "cell_type": "code",
   "execution_count": 1412,
   "metadata": {},
   "outputs": [],
   "source": [
    "pred100_21 = rf100.predict(xtest21)\n",
    "mape100_21= mean_absolute_percentage_error(ytest21, pred100_21)\n",
    "accuracy21 = 100 - np.mean(mape100_21)\n"
   ]
  },
  {
   "cell_type": "code",
   "execution_count": 1413,
   "metadata": {},
   "outputs": [],
   "source": [
    "#shop22\n",
    "shop22 = train2[train2['shop_id'] == 22].drop([668,669])\n",
    "itemcnt22 = pd.DataFrame(shop22.item_cnt_month)\n",
    "dataframe22 = pd.concat([itemcnt22.shift(1),itemcnt22.shift(2),itemcnt22.shift(3),itemcnt22.shift(4),itemcnt22.shift(5),itemcnt22.shift(6),itemcnt22.shift(7),itemcnt22.shift(8),itemcnt22.shift(9),itemcnt22.shift(10),itemcnt22.shift(11),itemcnt22.shift(12),itemcnt22], axis=1)\n",
    "dataframe22.columns = ['t-1','t-2','t-3','t-4','t-5','t-6','t-7','t-8','t-9','t-10','t-11','t-12','t+1']"
   ]
  },
  {
   "cell_type": "code",
   "execution_count": 1415,
   "metadata": {},
   "outputs": [],
   "source": [
    "x22 = dataframe22[['t-1','t-2','t-3','t-4','t-5','t-6','t-7','t-8','t-9','t-10','t-11','t-12']].drop([634,635,636,637,638,639,640,641,642,643,644,645]).to_numpy()\n",
    "y22 = dataframe22['t+1'].drop([634,635,636,637,638,639,640,641,642,643,644,645]).to_numpy()\n"
   ]
  },
  {
   "cell_type": "code",
   "execution_count": 1416,
   "metadata": {},
   "outputs": [],
   "source": [
    "xtrain22 = x22[0 : (len(x)-1)]\n",
    "ytrain22 = y22[0 : (len(y)-1)]\n",
    "xtest22 = x22[-1].reshape(1, -1)\n",
    "ytest22 = y22[-1].reshape(-1,1)"
   ]
  },
  {
   "cell_type": "code",
   "execution_count": 1417,
   "metadata": {},
   "outputs": [],
   "source": [
    "pred100_22 = rf100.predict(xtest22)\n",
    "mape100_22= mean_absolute_percentage_error(ytest22, pred100_22)\n",
    "accuracy22 = 100 - np.mean(mape100_22)"
   ]
  },
  {
   "cell_type": "code",
   "execution_count": 1418,
   "metadata": {},
   "outputs": [],
   "source": [
    "#shop24\n",
    "shop24 = train2[train2['shop_id'] == 24].drop([716,717])\n",
    "itemcnt24 = pd.DataFrame(shop24.item_cnt_month)\n",
    "dataframe24 = pd.concat([itemcnt24.shift(1),itemcnt24.shift(2),itemcnt24.shift(3),itemcnt24.shift(4),itemcnt24.shift(5),itemcnt24.shift(6),itemcnt24.shift(7),itemcnt24.shift(8),itemcnt24.shift(9),itemcnt24.shift(10),itemcnt24.shift(11),itemcnt24.shift(12),itemcnt24], axis=1)\n",
    "dataframe24.columns = ['t-1','t-2','t-3','t-4','t-5','t-6','t-7','t-8','t-9','t-10','t-11','t-12','t+1']"
   ]
  },
  {
   "cell_type": "code",
   "execution_count": 1420,
   "metadata": {},
   "outputs": [],
   "source": [
    "x24 = dataframe24[['t-1','t-2','t-3','t-4','t-5','t-6','t-7','t-8','t-9','t-10','t-11','t-12']].drop([682,683,684,685,686,687,688,689,690,691,692,693]).to_numpy()\n",
    "y24 = dataframe24['t+1'].drop([682,683,684,685,686,687,688,689,690,691,692,693]).to_numpy()"
   ]
  },
  {
   "cell_type": "code",
   "execution_count": 1421,
   "metadata": {},
   "outputs": [],
   "source": [
    "xtrain24 = x24[0 : (len(x)-1)]\n",
    "ytrain24 = y24[0 : (len(y)-1)]\n",
    "xtest24 = x24[-1].reshape(1, -1)\n",
    "ytest24 = y24[-1].reshape(-1,1)"
   ]
  },
  {
   "cell_type": "code",
   "execution_count": 1422,
   "metadata": {},
   "outputs": [],
   "source": [
    "pred100_24 = rf100.predict(xtest24)\n",
    "mape100_24 = mean_absolute_percentage_error(ytest24, pred100_24)\n",
    "accuracy24 = 100 - np.mean(mape100_24)"
   ]
  },
  {
   "cell_type": "code",
   "execution_count": 1424,
   "metadata": {},
   "outputs": [],
   "source": [
    "#shop25\n",
    "shop25 = train2[train2['shop_id'] == 25].drop([752,753])\n",
    "itemcnt25 = pd.DataFrame(shop25.item_cnt_month)\n",
    "dataframe25 = pd.concat([itemcnt25.shift(1),itemcnt25.shift(2),itemcnt25.shift(3),itemcnt25.shift(4),itemcnt25.shift(5),itemcnt25.shift(6),itemcnt25.shift(7),itemcnt25.shift(8),itemcnt25.shift(9),itemcnt25.shift(10),itemcnt25.shift(11),itemcnt25.shift(12),itemcnt25], axis=1)\n",
    "dataframe25.columns = ['t-1','t-2','t-3','t-4','t-5','t-6','t-7','t-8','t-9','t-10','t-11','t-12','t+1']"
   ]
  },
  {
   "cell_type": "code",
   "execution_count": 1426,
   "metadata": {},
   "outputs": [],
   "source": [
    "x25 = dataframe25[['t-1','t-2','t-3','t-4','t-5','t-6','t-7','t-8','t-9','t-10','t-11','t-12']].drop([718,719,720,721,722,723,724,725,726,727,728,729]).to_numpy()\n",
    "y25 = dataframe25['t+1'].drop([718,719,720,721,722,723,724,725,726,727,728,729]).to_numpy()\n"
   ]
  },
  {
   "cell_type": "code",
   "execution_count": 1427,
   "metadata": {},
   "outputs": [],
   "source": [
    "xtrain25 = x25[0 : (len(x)-1)]\n",
    "ytrain25 = y25[0 : (len(y)-1)]\n",
    "xtest25 = x25[-1].reshape(1, -1)\n",
    "ytest25 = y25[-1].reshape(-1,1)"
   ]
  },
  {
   "cell_type": "code",
   "execution_count": 1428,
   "metadata": {},
   "outputs": [],
   "source": [
    "pred100_25 = rf100.predict(xtest25)\n",
    "mape100_25 = mean_absolute_percentage_error(ytest25, pred100_25)\n",
    "accuracy25 = 100 - np.mean(mape100_25)"
   ]
  },
  {
   "cell_type": "code",
   "execution_count": 1429,
   "metadata": {},
   "outputs": [],
   "source": [
    "#shop26\n",
    "shop26 = train2[train2['shop_id'] == 26].drop([788,789])\n",
    "itemcnt26 = pd.DataFrame(shop26.item_cnt_month)\n",
    "dataframe26 = pd.concat([itemcnt26.shift(1),itemcnt26.shift(2),itemcnt26.shift(3),itemcnt26.shift(4),itemcnt26.shift(5),itemcnt26.shift(6),itemcnt26.shift(7),itemcnt26.shift(8),itemcnt26.shift(9),itemcnt26.shift(10),itemcnt26.shift(11),itemcnt26.shift(12),itemcnt26], axis=1)\n",
    "dataframe26.columns = ['t-1','t-2','t-3','t-4','t-5','t-6','t-7','t-8','t-9','t-10','t-11','t-12','t+1']"
   ]
  },
  {
   "cell_type": "code",
   "execution_count": 1431,
   "metadata": {},
   "outputs": [],
   "source": [
    "x26 = dataframe26[['t-1','t-2','t-3','t-4','t-5','t-6','t-7','t-8','t-9','t-10','t-11','t-12']].drop([754,755,756,757,758,759,760,761,762,763,764,765]).to_numpy()\n",
    "y26 = dataframe26['t+1'].drop([754,755,756,757,758,759,760,761,762,763,764,765]).to_numpy()"
   ]
  },
  {
   "cell_type": "code",
   "execution_count": 1432,
   "metadata": {},
   "outputs": [],
   "source": [
    "xtrain26 = x26[0 : (len(x)-1)]\n",
    "ytrain26 = y26[0 : (len(y)-1)]\n",
    "xtest26 = x26[-1].reshape(1, -1)\n",
    "ytest26 = y26[-1].reshape(-1,1)\n"
   ]
  },
  {
   "cell_type": "code",
   "execution_count": 1433,
   "metadata": {},
   "outputs": [],
   "source": [
    "pred100_26 = rf100.predict(xtest26)\n",
    "mape100_26 = mean_absolute_percentage_error(ytest26, pred100_26)\n",
    "accuracy26 = 100 - np.mean(mape100_26)"
   ]
  },
  {
   "cell_type": "code",
   "execution_count": 1434,
   "metadata": {},
   "outputs": [],
   "source": [
    "#shop27\n",
    "shop27 = train2[train2['shop_id'] == 27].drop([824,825])\n",
    "itemcnt27 = pd.DataFrame(shop27.item_cnt_month)\n",
    "dataframe27 = pd.concat([itemcnt27.shift(1),itemcnt27.shift(2),itemcnt27.shift(3),itemcnt27.shift(4),itemcnt27.shift(5),itemcnt27.shift(6),itemcnt27.shift(7),itemcnt27.shift(8),itemcnt27.shift(9),itemcnt27.shift(10),itemcnt27.shift(11),itemcnt27.shift(12),itemcnt27], axis=1)\n",
    "dataframe27.columns = ['t-1','t-2','t-3','t-4','t-5','t-6','t-7','t-8','t-9','t-10','t-11','t-12','t+1']"
   ]
  },
  {
   "cell_type": "code",
   "execution_count": 1436,
   "metadata": {},
   "outputs": [],
   "source": [
    "x27 = dataframe27[['t-1','t-2','t-3','t-4','t-5','t-6','t-7','t-8','t-9','t-10','t-11','t-12']].drop([790,791,792,793,794,795,796,797,798,799,800,801]).to_numpy()\n",
    "y27 = dataframe27['t+1'].drop([790,791,792,793,794,795,796,797,798,799,800,801]).to_numpy()"
   ]
  },
  {
   "cell_type": "code",
   "execution_count": 1437,
   "metadata": {},
   "outputs": [],
   "source": [
    "xtrain27 = x27[0 : (len(x)-1)]\n",
    "ytrain27 = y27[0 : (len(y)-1)]\n",
    "xtest27 = x27[-1].reshape(1, -1)\n",
    "ytest27 = y27[-1].reshape(-1,1)"
   ]
  },
  {
   "cell_type": "code",
   "execution_count": 1438,
   "metadata": {},
   "outputs": [],
   "source": [
    "pred100_27 = rf100.predict(xtest27)\n",
    "mape100_27 = mean_absolute_percentage_error(ytest27, pred100_27)\n",
    "accuracy27 = 100 - np.mean(mape100_27)"
   ]
  },
  {
   "cell_type": "code",
   "execution_count": 1446,
   "metadata": {},
   "outputs": [],
   "source": [
    "#shop28\n",
    "shop28 = train2[train2['shop_id'] == 28].drop([860,861])\n",
    "itemcnt28 = pd.DataFrame(shop28.item_cnt_month)\n",
    "dataframe28 = pd.concat([itemcnt28.shift(1),itemcnt28.shift(2),itemcnt28.shift(3),itemcnt28.shift(4),itemcnt28.shift(5),itemcnt28.shift(6),itemcnt28.shift(7),itemcnt28.shift(8),itemcnt28.shift(9),itemcnt28.shift(10),itemcnt28.shift(11),itemcnt28.shift(12),itemcnt28], axis=1)\n",
    "dataframe28.columns = ['t-1','t-2','t-3','t-4','t-5','t-6','t-7','t-8','t-9','t-10','t-11','t-12','t+1']"
   ]
  },
  {
   "cell_type": "code",
   "execution_count": 1447,
   "metadata": {},
   "outputs": [],
   "source": [
    "x28 = dataframe28[['t-1','t-2','t-3','t-4','t-5','t-6','t-7','t-8','t-9','t-10','t-11','t-12']].drop([826,827,828,829,830,831,832,833,834,835,836,837]).to_numpy()\n",
    "y28 = dataframe28['t+1'].drop([826,827,828,829,830,831,832,833,834,835,836,837]).to_numpy()"
   ]
  },
  {
   "cell_type": "code",
   "execution_count": 1448,
   "metadata": {},
   "outputs": [],
   "source": [
    "xtrain28 = x28[0 : (len(x)-1)]\n",
    "ytrain28 = y28[0 : (len(y)-1)]\n",
    "xtest28 = x28[-1].reshape(1, -1)\n",
    "ytest28 = y28[-1].reshape(-1,1)"
   ]
  },
  {
   "cell_type": "code",
   "execution_count": 1449,
   "metadata": {},
   "outputs": [],
   "source": [
    "pred100_28 = rf100.predict(xtest28)\n",
    "mape100_28 = mean_absolute_percentage_error(ytest28, pred100_28)\n",
    "accuracy28 = 100 - np.mean(mape100_28)"
   ]
  },
  {
   "cell_type": "code",
   "execution_count": 1453,
   "metadata": {},
   "outputs": [],
   "source": [
    "#shop29\n",
    "shop29 = train2[train2['shop_id'] == 29].drop([896,897])\n",
    "itemcnt29 = pd.DataFrame(shop29.item_cnt_month)\n",
    "dataframe29 = pd.concat([itemcnt29.shift(1),itemcnt29.shift(2),itemcnt29.shift(3),itemcnt29.shift(4),itemcnt29.shift(5),itemcnt29.shift(6),itemcnt29.shift(7),itemcnt29.shift(8),itemcnt29.shift(9),itemcnt29.shift(10),itemcnt29.shift(11),itemcnt29.shift(12),itemcnt29], axis=1)\n",
    "dataframe29.columns = ['t-1','t-2','t-3','t-4','t-5','t-6','t-7','t-8','t-9','t-10','t-11','t-12','t+1']"
   ]
  },
  {
   "cell_type": "code",
   "execution_count": 1455,
   "metadata": {},
   "outputs": [],
   "source": [
    "x29 = dataframe29[['t-1','t-2','t-3','t-4','t-5','t-6','t-7','t-8','t-9','t-10','t-11','t-12']].drop([862,863,864,865,866,867,868,869,870,871,872,873]).to_numpy()\n",
    "y29 = dataframe29['t+1'].drop([862,863,864,865,866,867,868,869,870,871,872,873]).to_numpy()\n"
   ]
  },
  {
   "cell_type": "code",
   "execution_count": 1456,
   "metadata": {},
   "outputs": [],
   "source": [
    "xtrain29 = x29[0 : (len(x)-1)]\n",
    "ytrain29 = y29[0 : (len(y)-1)]\n",
    "xtest29 = x29[-1].reshape(1, -1)\n",
    "ytest29 = y29[-1].reshape(-1,1)"
   ]
  },
  {
   "cell_type": "code",
   "execution_count": 1457,
   "metadata": {},
   "outputs": [],
   "source": [
    "pred100_29 = rf100.predict(xtest29)\n",
    "mape100_29 = mean_absolute_percentage_error(ytest29, pred100_29)\n",
    "accuracy29 = 100 - np.mean(mape100_29)"
   ]
  },
  {
   "cell_type": "code",
   "execution_count": 1458,
   "metadata": {},
   "outputs": [],
   "source": [
    "#shop30\n",
    "shop30 = train2[train2['shop_id'] == 30].drop([932,933])\n",
    "itemcnt30 = pd.DataFrame(shop30.item_cnt_month)\n",
    "dataframe30 = pd.concat([itemcnt30.shift(1),itemcnt30.shift(2),itemcnt30.shift(3),itemcnt30.shift(4),itemcnt30.shift(5),itemcnt30.shift(6),itemcnt30.shift(7),itemcnt30.shift(8),itemcnt30.shift(9),itemcnt30.shift(10),itemcnt30.shift(11),itemcnt30.shift(12),itemcnt30], axis=1)\n",
    "dataframe30.columns = ['t-1','t-2','t-3','t-4','t-5','t-6','t-7','t-8','t-9','t-10','t-11','t-12','t+1']"
   ]
  },
  {
   "cell_type": "code",
   "execution_count": 1460,
   "metadata": {},
   "outputs": [],
   "source": [
    "x30 = dataframe30[['t-1','t-2','t-3','t-4','t-5','t-6','t-7','t-8','t-9','t-10','t-11','t-12']].drop([898,899,900,901,902,903,904,905,906,907,908,909]).to_numpy()\n",
    "y30 = dataframe30['t+1'].drop([898,899,900,901,902,903,904,905,906,907,908,909]).to_numpy()"
   ]
  },
  {
   "cell_type": "code",
   "execution_count": 1461,
   "metadata": {},
   "outputs": [],
   "source": [
    "xtrain30 = x30[0 : (len(x)-1)]\n",
    "ytrain30 = y30[0 : (len(y)-1)]\n",
    "xtest30 = x30[-1].reshape(1, -1)\n",
    "ytest30 = y30[-1].reshape(-1,1)"
   ]
  },
  {
   "cell_type": "code",
   "execution_count": 1462,
   "metadata": {},
   "outputs": [],
   "source": [
    "pred100_30 = rf100.predict(xtest30)\n",
    "mape100_30 = mean_absolute_percentage_error(ytest30, pred100_30)\n",
    "accuracy30 = 100 - np.mean(mape100_30)"
   ]
  },
  {
   "cell_type": "code",
   "execution_count": 1488,
   "metadata": {},
   "outputs": [],
   "source": [
    "#shop31\n",
    "shop31 = train2[train2['shop_id'] == 31].drop([968,969])\n",
    "itemcnt31 = pd.DataFrame(shop31.item_cnt_month)\n",
    "dataframe31 = pd.concat([itemcnt31.shift(1),itemcnt31.shift(2),itemcnt31.shift(3),itemcnt31.shift(4),itemcnt31.shift(5),itemcnt31.shift(6),itemcnt31.shift(7),itemcnt31.shift(8),itemcnt31.shift(9),itemcnt31.shift(10),itemcnt31.shift(11),itemcnt31.shift(12),itemcnt31], axis=1)\n",
    "dataframe31.columns = ['t-1','t-2','t-3','t-4','t-5','t-6','t-7','t-8','t-9','t-10','t-11','t-12','t+1']"
   ]
  },
  {
   "cell_type": "code",
   "execution_count": 1489,
   "metadata": {},
   "outputs": [],
   "source": [
    "x31 = dataframe31[['t-1','t-2','t-3','t-4','t-5','t-6','t-7','t-8','t-9','t-10','t-11','t-12']].drop([934,935,936,937,938,939,940,941,942,943,944,945]).to_numpy()\n",
    "y31 = dataframe31['t+1'].drop([934,935,936,937,938,939,940,941,942,943,944,945]).to_numpy()"
   ]
  },
  {
   "cell_type": "code",
   "execution_count": 1490,
   "metadata": {},
   "outputs": [],
   "source": [
    "xtrain31 = x31[0 : (len(x)-1)]\n",
    "ytrain31 = y31[0 : (len(y)-1)]\n",
    "xtest31 = x31[-1].reshape(1, -1)\n",
    "ytest31 = y31[-1].reshape(-1,1)"
   ]
  },
  {
   "cell_type": "code",
   "execution_count": 1491,
   "metadata": {},
   "outputs": [],
   "source": [
    "pred100_31 = rf100.predict(xtest31)\n",
    "mape100_31 = mean_absolute_percentage_error(ytest31, pred100_31)\n",
    "accuracy31 = 100 - np.mean(mape100_31)"
   ]
  },
  {
   "cell_type": "code",
   "execution_count": 1495,
   "metadata": {},
   "outputs": [],
   "source": [
    "#shop33\n",
    "shop33 = train2[train2['shop_id'] == 33].drop([1004,1005])\n",
    "itemcnt33 = pd.DataFrame(shop33.item_cnt_month)\n",
    "dataframe33 = pd.concat([itemcnt33.shift(1),itemcnt33.shift(2),itemcnt33.shift(3),itemcnt33.shift(4),itemcnt33.shift(5),itemcnt33.shift(6),itemcnt33.shift(7),itemcnt33.shift(8),itemcnt33.shift(9),itemcnt33.shift(10),itemcnt33.shift(11),itemcnt33.shift(12),itemcnt33], axis=1)\n",
    "dataframe33.columns = ['t-1','t-2','t-3','t-4','t-5','t-6','t-7','t-8','t-9','t-10','t-11','t-12','t+1']"
   ]
  },
  {
   "cell_type": "code",
   "execution_count": 1497,
   "metadata": {},
   "outputs": [],
   "source": [
    "\n",
    "x33 = dataframe33[['t-1','t-2','t-3','t-4','t-5','t-6','t-7','t-8','t-9','t-10','t-11','t-12']].drop([982,983,984,985,986,987,988,989,990,991,992,993]).to_numpy()\n",
    "y33 = dataframe33['t+1'].drop([982,983,984,985,986,987,988,989,990,991,992,993]).to_numpy()"
   ]
  },
  {
   "cell_type": "code",
   "execution_count": 1498,
   "metadata": {},
   "outputs": [],
   "source": [
    "xtrain33 = x33[0 : (len(x)-1)]\n",
    "ytrain33 = y33[0 : (len(y)-1)]\n",
    "xtest33 = x33[-1].reshape(1, -1)\n",
    "ytest33 = y33[-1].reshape(-1,1)\n"
   ]
  },
  {
   "cell_type": "code",
   "execution_count": 1499,
   "metadata": {},
   "outputs": [],
   "source": [
    "pred100_33 = rf100.predict(xtest33)\n",
    "mape100_33 = mean_absolute_percentage_error(ytest33, pred100_33)\n",
    "accuracy33 = 100 - np.mean(mape100_33)"
   ]
  },
  {
   "cell_type": "code",
   "execution_count": 1502,
   "metadata": {},
   "outputs": [],
   "source": [
    "#shop34\n",
    "shop34 = train2[train2['shop_id'] == 34].drop([1028,1029])\n",
    "itemcnt34 = pd.DataFrame(shop34.item_cnt_month)\n",
    "dataframe34 = pd.concat([itemcnt34.shift(1),itemcnt34.shift(2),itemcnt34.shift(3),itemcnt34.shift(4),itemcnt34.shift(5),itemcnt34.shift(6),itemcnt34.shift(7),itemcnt34.shift(8),itemcnt34.shift(9),itemcnt34.shift(10),itemcnt34.shift(11),itemcnt34.shift(12),itemcnt34], axis=1)\n",
    "dataframe34.columns = ['t-1','t-2','t-3','t-4','t-5','t-6','t-7','t-8','t-9','t-10','t-11','t-12','t+1']"
   ]
  },
  {
   "cell_type": "code",
   "execution_count": 1505,
   "metadata": {},
   "outputs": [],
   "source": [
    "x34 = dataframe34[['t-1','t-2','t-3','t-4','t-5','t-6','t-7','t-8','t-9','t-10','t-11','t-12']].drop([1006,1007,1008,1009,1010,1011,1012,1013,1014,1015,1016,1017]).to_numpy()\n",
    "y34 = dataframe34['t+1'].drop([1006,1007,1008,1009,1010,1011,1012,1013,1014,1015,1016,1017]).to_numpy()"
   ]
  },
  {
   "cell_type": "code",
   "execution_count": 1506,
   "metadata": {},
   "outputs": [],
   "source": [
    "xtrain34 = x34[0 : (len(x)-1)]\n",
    "ytrain34 = y34[0 : (len(y)-1)]\n",
    "xtest34 = x34[-1].reshape(1, -1)\n",
    "ytest34 = y34[-1].reshape(-1,1)"
   ]
  },
  {
   "cell_type": "code",
   "execution_count": 1507,
   "metadata": {},
   "outputs": [],
   "source": [
    "pred100_34 = rf100.predict(xtest34)\n",
    "mape100_34 = mean_absolute_percentage_error(ytest34, pred100_34)\n",
    "accuracy34 = 100 - np.mean(mape100_34)\n"
   ]
  },
  {
   "cell_type": "code",
   "execution_count": 1508,
   "metadata": {},
   "outputs": [],
   "source": [
    "#shop35\n",
    "shop35 = train2[train2['shop_id'] == 35].drop([1064,1065])\n",
    "itemcnt35 = pd.DataFrame(shop35.item_cnt_month)\n",
    "dataframe35 = pd.concat([itemcnt35.shift(1),itemcnt35.shift(2),itemcnt35.shift(3),itemcnt35.shift(4),itemcnt35.shift(5),itemcnt35.shift(6),itemcnt35.shift(7),itemcnt35.shift(8),itemcnt35.shift(9),itemcnt35.shift(10),itemcnt35.shift(11),itemcnt35.shift(12),itemcnt35], axis=1)\n",
    "dataframe35.columns = ['t-1','t-2','t-3','t-4','t-5','t-6','t-7','t-8','t-9','t-10','t-11','t-12','t+1']"
   ]
  },
  {
   "cell_type": "code",
   "execution_count": 1510,
   "metadata": {},
   "outputs": [],
   "source": [
    "x35 = dataframe35[['t-1','t-2','t-3','t-4','t-5','t-6','t-7','t-8','t-9','t-10','t-11','t-12']].drop([1030,1031,1032,1033,1034,1035,1036,1037,1038,1039,1040,1041]).to_numpy()\n",
    "y35 = dataframe35['t+1'].drop([1030,1031,1032,1033,1034,1035,1036,1037,1038,1039,1040,1041]).to_numpy()\n"
   ]
  },
  {
   "cell_type": "code",
   "execution_count": 1515,
   "metadata": {},
   "outputs": [],
   "source": [
    "xtrain35 = x35[0 : (len(x)-1)]\n",
    "ytrain35 = y35[0 : (len(y)-1)]\n",
    "xtest35 = x35[-1].reshape(1, -1)\n",
    "ytest35 = y35[-1].reshape(-1,1)\n"
   ]
  },
  {
   "cell_type": "code",
   "execution_count": 1516,
   "metadata": {},
   "outputs": [],
   "source": [
    "pred100_35 = rf100.predict(xtest35)\n",
    "mape100_35 = mean_absolute_percentage_error(ytest35, pred100_35)\n",
    "accuracy35 = 100 - np.mean(mape100_35)\n"
   ]
  },
  {
   "cell_type": "code",
   "execution_count": 1517,
   "metadata": {},
   "outputs": [],
   "source": [
    "#shop37\n",
    "shop37 = train2[train2['shop_id'] == 37].drop([1101,1102])\n",
    "itemcnt37 = pd.DataFrame(shop37.item_cnt_month)\n",
    "dataframe37 = pd.concat([itemcnt37.shift(1),itemcnt37.shift(2),itemcnt37.shift(3),itemcnt37.shift(4),itemcnt37.shift(5),itemcnt37.shift(6),itemcnt37.shift(7),itemcnt37.shift(8),itemcnt37.shift(9),itemcnt37.shift(10),itemcnt37.shift(11),itemcnt37.shift(12),itemcnt37], axis=1)\n",
    "dataframe37.columns = ['t-1','t-2','t-3','t-4','t-5','t-6','t-7','t-8','t-9','t-10','t-11','t-12','t+1']"
   ]
  },
  {
   "cell_type": "code",
   "execution_count": 1519,
   "metadata": {},
   "outputs": [],
   "source": [
    "\n",
    "x37 = dataframe37[['t-1','t-2','t-3','t-4','t-5','t-6','t-7','t-8','t-9','t-10','t-11','t-12']].drop([1067,1068,1069,1070,1071,1072,1073,1074,1075,1076,1077,1078]).to_numpy()\n",
    "y37 = dataframe37['t+1'].drop([1067,1068,1069,1070,1071,1072,1073,1074,1075,1076,1077,1078]).to_numpy()"
   ]
  },
  {
   "cell_type": "code",
   "execution_count": 1520,
   "metadata": {},
   "outputs": [],
   "source": [
    "xtrain37 = x37[0 : (len(x)-1)]\n",
    "ytrain37 = y37[0 : (len(y)-1)]\n",
    "xtest37 = x37[-1].reshape(1, -1)\n",
    "ytest37 = y37[-1].reshape(-1,1)"
   ]
  },
  {
   "cell_type": "code",
   "execution_count": 1521,
   "metadata": {},
   "outputs": [],
   "source": [
    "pred100_37 = rf100.predict(xtest37)\n",
    "mape100_37 = mean_absolute_percentage_error(ytest37, pred100_37)\n",
    "accuracy37 = 100 - np.mean(mape100_37)"
   ]
  },
  {
   "cell_type": "code",
   "execution_count": 1522,
   "metadata": {},
   "outputs": [
    {
     "data": {
      "text/plain": [
       "98.22271223814774"
      ]
     },
     "execution_count": 1522,
     "metadata": {},
     "output_type": "execute_result"
    }
   ],
   "source": [
    "accuracy37"
   ]
  },
  {
   "cell_type": "code",
   "execution_count": 1523,
   "metadata": {},
   "outputs": [],
   "source": [
    "#shop38\n",
    "shop38 = train2[train2['shop_id'] == 38].drop([1137,1138])\n",
    "itemcnt38 = pd.DataFrame(shop38.item_cnt_month)\n",
    "dataframe38 = pd.concat([itemcnt38.shift(1),itemcnt38.shift(2),itemcnt38.shift(3),itemcnt38.shift(4),itemcnt38.shift(5),itemcnt38.shift(6),itemcnt38.shift(7),itemcnt38.shift(8),itemcnt38.shift(9),itemcnt38.shift(10),itemcnt38.shift(11),itemcnt38.shift(12),itemcnt38], axis=1)\n",
    "dataframe38.columns = ['t-1','t-2','t-3','t-4','t-5','t-6','t-7','t-8','t-9','t-10','t-11','t-12','t+1']"
   ]
  },
  {
   "cell_type": "code",
   "execution_count": 1525,
   "metadata": {},
   "outputs": [],
   "source": [
    "x38 = dataframe38[['t-1','t-2','t-3','t-4','t-5','t-6','t-7','t-8','t-9','t-10','t-11','t-12']].drop([1103,1104,1105,1106,1107,1108,1109,1110,1111,1112,1113,1114]).to_numpy()\n",
    "y38 = dataframe38['t+1'].drop([1103,1104,1105,1106,1107,1108,1109,1110,1111,1112,1113,1114]).to_numpy()"
   ]
  },
  {
   "cell_type": "code",
   "execution_count": 1527,
   "metadata": {},
   "outputs": [],
   "source": [
    "xtrain38 = x38[0 : (len(x)-1)]\n",
    "ytrain38 = y38[0 : (len(y)-1)]\n",
    "xtest38 = x38[-1].reshape(1, -1)\n",
    "ytest38 = y38[-1].reshape(-1,1)\n"
   ]
  },
  {
   "cell_type": "code",
   "execution_count": 1528,
   "metadata": {},
   "outputs": [],
   "source": [
    "pred100_38 = rf100.predict(xtest38)\n",
    "mape100_38 = mean_absolute_percentage_error(ytest38, pred100_38)\n",
    "accuracy38 = 100 - np.mean(mape100_38)\n"
   ]
  },
  {
   "cell_type": "code",
   "execution_count": 1530,
   "metadata": {},
   "outputs": [],
   "source": [
    "#shop39\n",
    "shop39 = train2[train2['shop_id'] == 39].drop([1161,1162])\n",
    "itemcnt39 = pd.DataFrame(shop39.item_cnt_month)\n",
    "dataframe39 = pd.concat([itemcnt39.shift(1),itemcnt39.shift(2),itemcnt39.shift(3),itemcnt39.shift(4),itemcnt39.shift(5),itemcnt39.shift(6),itemcnt39.shift(7),itemcnt39.shift(8),itemcnt39.shift(9),itemcnt39.shift(10),itemcnt39.shift(11),itemcnt39.shift(12),itemcnt39], axis=1)\n",
    "dataframe39.columns = ['t-1','t-2','t-3','t-4','t-5','t-6','t-7','t-8','t-9','t-10','t-11','t-12','t+1']"
   ]
  },
  {
   "cell_type": "code",
   "execution_count": 1532,
   "metadata": {},
   "outputs": [],
   "source": [
    "x39 = dataframe39[['t-1','t-2','t-3','t-4','t-5','t-6','t-7','t-8','t-9','t-10','t-11','t-12']].drop([1139,1140,1141,1142,1143,1144,1145,1146,1147,1148,1149,1150]).to_numpy()\n",
    "y39 = dataframe39['t+1'].drop([1139,1140,1141,1142,1143,1144,1145,1146,1147,1148,1149,1150]).to_numpy()\n"
   ]
  },
  {
   "cell_type": "code",
   "execution_count": 1533,
   "metadata": {},
   "outputs": [],
   "source": [
    "xtrain39 = x39[0 : (len(x)-1)]\n",
    "ytrain39 = y39[0 : (len(y)-1)]\n",
    "xtest39 = x39[-1].reshape(1, -1)\n",
    "ytest39 = y39[-1].reshape(-1,1)\n"
   ]
  },
  {
   "cell_type": "code",
   "execution_count": 1534,
   "metadata": {},
   "outputs": [],
   "source": [
    "pred100_39 = rf100.predict(xtest39)\n",
    "mape100_39 = mean_absolute_percentage_error(ytest39, pred100_39)\n",
    "accuracy39 = 100 - np.mean(mape100_39)"
   ]
  },
  {
   "cell_type": "code",
   "execution_count": 1536,
   "metadata": {},
   "outputs": [],
   "source": [
    "#shop40\n",
    "shop40 = train2[train2['shop_id'] == 40].drop([1185,1186])\n",
    "itemcnt40 = pd.DataFrame(shop40.item_cnt_month)\n",
    "dataframe40 = pd.concat([itemcnt40.shift(1),itemcnt40.shift(2),itemcnt40.shift(3),itemcnt40.shift(4),itemcnt40.shift(5),itemcnt40.shift(6),itemcnt40.shift(7),itemcnt40.shift(8),itemcnt40.shift(9),itemcnt40.shift(10),itemcnt40.shift(11),itemcnt40.shift(12),itemcnt40], axis=1)\n",
    "dataframe40.columns = ['t-1','t-2','t-3','t-4','t-5','t-6','t-7','t-8','t-9','t-10','t-11','t-12','t+1']"
   ]
  },
  {
   "cell_type": "code",
   "execution_count": 1538,
   "metadata": {},
   "outputs": [],
   "source": [
    "x40 = dataframe40[['t-1','t-2','t-3','t-4','t-5','t-6','t-7','t-8','t-9','t-10','t-11','t-12']].drop([1163,1164,1165,1166,1167,1168,1169,1170,1171,1172,1173,1174]).to_numpy()\n",
    "y40 = dataframe40['t+1'].drop([1163,1164,1165,1166,1167,1168,1169,1170,1171,1172,1173,1174]).to_numpy()"
   ]
  },
  {
   "cell_type": "code",
   "execution_count": 1539,
   "metadata": {},
   "outputs": [],
   "source": [
    "xtrain40 = x40[0 : (len(x)-1)]\n",
    "ytrain40 = y40[0 : (len(y)-1)]\n",
    "xtest40 = x40[-1].reshape(1, -1)\n",
    "ytest40 = y40[-1].reshape(-1,1)"
   ]
  },
  {
   "cell_type": "code",
   "execution_count": 1540,
   "metadata": {},
   "outputs": [],
   "source": [
    "pred100_40 = rf100.predict(xtest40)\n",
    "mape100_40 = mean_absolute_percentage_error(ytest40, pred100_40)\n",
    "accuracy40 = 100 - np.mean(mape100_40)"
   ]
  },
  {
   "cell_type": "code",
   "execution_count": 1543,
   "metadata": {},
   "outputs": [],
   "source": [
    "#shop41\n",
    "shop41 = train2[train2['shop_id'] == 41].drop([1221,1222])\n",
    "itemcnt41 = pd.DataFrame(shop41.item_cnt_month)\n",
    "dataframe41 = pd.concat([itemcnt41.shift(1),itemcnt41.shift(2),itemcnt41.shift(3),itemcnt41.shift(4),itemcnt41.shift(5),itemcnt41.shift(6),itemcnt41.shift(7),itemcnt41.shift(8),itemcnt41.shift(9),itemcnt41.shift(10),itemcnt41.shift(11),itemcnt41.shift(12),itemcnt41], axis=1)\n",
    "dataframe41.columns = ['t-1','t-2','t-3','t-4','t-5','t-6','t-7','t-8','t-9','t-10','t-11','t-12','t+1']"
   ]
  },
  {
   "cell_type": "code",
   "execution_count": 1545,
   "metadata": {},
   "outputs": [],
   "source": [
    "x41 = dataframe41[['t-1','t-2','t-3','t-4','t-5','t-6','t-7','t-8','t-9','t-10','t-11','t-12']].drop([1187,1188,1189,1190,1191,1192,1193,1194,1195,1196,1197,1198]).to_numpy()\n",
    "y41 = dataframe41['t+1'].drop([1187,1188,1189,1190,1191,1192,1193,1194,1195,1196,1197,1198]).to_numpy()"
   ]
  },
  {
   "cell_type": "code",
   "execution_count": 1546,
   "metadata": {},
   "outputs": [],
   "source": [
    "\n",
    "xtrain41 = x41[0 : (len(x)-1)]\n",
    "ytrain41 = y41[0 : (len(y)-1)]\n",
    "xtest41 = x41[-1].reshape(1, -1)\n",
    "ytest41 = y41[-1].reshape(-1,1)"
   ]
  },
  {
   "cell_type": "code",
   "execution_count": 1547,
   "metadata": {},
   "outputs": [],
   "source": [
    "pred100_41 = rf100.predict(xtest41)\n",
    "mape100_41 = mean_absolute_percentage_error(ytest41, pred100_41)\n",
    "accuracy41 = 100 - np.mean(mape100_41)"
   ]
  },
  {
   "cell_type": "code",
   "execution_count": 1549,
   "metadata": {},
   "outputs": [],
   "source": [
    "#shop42\n",
    "shop42 = train2[train2['shop_id'] == 42].drop([1257,1258])\n",
    "itemcnt42 = pd.DataFrame(shop42.item_cnt_month)\n",
    "dataframe42 = pd.concat([itemcnt42.shift(1),itemcnt42.shift(2),itemcnt42.shift(3),itemcnt42.shift(4),itemcnt42.shift(5),itemcnt42.shift(6),itemcnt42.shift(7),itemcnt42.shift(8),itemcnt42.shift(9),itemcnt42.shift(10),itemcnt42.shift(11),itemcnt42.shift(12),itemcnt42], axis=1)\n",
    "dataframe42.columns = ['t-1','t-2','t-3','t-4','t-5','t-6','t-7','t-8','t-9','t-10','t-11','t-12','t+1']"
   ]
  },
  {
   "cell_type": "code",
   "execution_count": 1560,
   "metadata": {},
   "outputs": [],
   "source": [
    "x42 = dataframe42[['t-1','t-2','t-3','t-4','t-5','t-6','t-7','t-8','t-9','t-10','t-11','t-12']].drop([1223,1224,1225,1226,1227,1228,1229,1230,1231,1232,1234]).to_numpy()\n",
    "y42 = dataframe42['t+1'].drop([1223,1224,1225,1226,1227,1228,1229,1230,1231,1232,1234]).to_numpy()"
   ]
  },
  {
   "cell_type": "code",
   "execution_count": 1561,
   "metadata": {},
   "outputs": [],
   "source": [
    "xtrain42 = x42[0 : (len(x)-1)]\n",
    "ytrain42 = y42[0 : (len(y)-1)]\n",
    "xtest42 = x42[-1].reshape(1, -1)\n",
    "ytest42 = y42[-1].reshape(-1,1)"
   ]
  },
  {
   "cell_type": "code",
   "execution_count": 1562,
   "metadata": {},
   "outputs": [],
   "source": [
    "pred100_42 = rf100.predict(xtest42)\n",
    "mape100_42 = mean_absolute_percentage_error(ytest42, pred100_42)\n",
    "accuracy42 = 100 - np.mean(mape100_42)"
   ]
  },
  {
   "cell_type": "code",
   "execution_count": 1563,
   "metadata": {},
   "outputs": [],
   "source": [
    "#shop43\n",
    "shop43 = train2[train2['shop_id'] == 43].drop([1292,1293])\n",
    "itemcnt43 = pd.DataFrame(shop43.item_cnt_month)\n",
    "dataframe43 = pd.concat([itemcnt43.shift(1),itemcnt43.shift(2),itemcnt43.shift(3),itemcnt43.shift(4),itemcnt43.shift(5),itemcnt43.shift(6),itemcnt43.shift(7),itemcnt43.shift(8),itemcnt43.shift(9),itemcnt43.shift(10),itemcnt43.shift(11),itemcnt43.shift(12),itemcnt43], axis=1)\n",
    "dataframe43.columns = ['t-1','t-2','t-3','t-4','t-5','t-6','t-7','t-8','t-9','t-10','t-11','t-12','t+1']"
   ]
  },
  {
   "cell_type": "code",
   "execution_count": 1565,
   "metadata": {},
   "outputs": [],
   "source": [
    "x43 = dataframe43[['t-1','t-2','t-3','t-4','t-5','t-6','t-7','t-8','t-9','t-10','t-11','t-12']].drop([1259,1260,1261,1262,1263,1264,1265,1266,1267,1268,1269,1270]).to_numpy()\n",
    "y43 = dataframe43['t+1'].drop([1259,1260,1261,1262,1263,1264,1265,1266,1267,1268,1269,1270]).to_numpy()"
   ]
  },
  {
   "cell_type": "code",
   "execution_count": 1566,
   "metadata": {},
   "outputs": [],
   "source": [
    "\n",
    "xtrain43 = x43[0 : (len(x)-1)]\n",
    "ytrain43 = y43[0 : (len(y)-1)]\n",
    "xtest43 = x43[-1].reshape(1, -1)\n",
    "ytest43 = y43[-1].reshape(-1,1)"
   ]
  },
  {
   "cell_type": "code",
   "execution_count": 1567,
   "metadata": {},
   "outputs": [],
   "source": [
    "pred100_43 = rf100.predict(xtest43)\n",
    "mape100_43 = mean_absolute_percentage_error(ytest43, pred100_43)\n",
    "accuracy43 = 100 - np.mean(mape100_43)"
   ]
  },
  {
   "cell_type": "code",
   "execution_count": 1570,
   "metadata": {},
   "outputs": [],
   "source": [
    "#shop44\n",
    "shop44 = train2[train2['shop_id'] == 44].drop([1328,1329])\n",
    "itemcnt44 = pd.DataFrame(shop44.item_cnt_month)\n",
    "dataframe44 = pd.concat([itemcnt44.shift(1),itemcnt44.shift(2),itemcnt44.shift(3),itemcnt44.shift(4),itemcnt44.shift(5),itemcnt44.shift(6),itemcnt44.shift(7),itemcnt44.shift(8),itemcnt44.shift(9),itemcnt44.shift(10),itemcnt44.shift(11),itemcnt44.shift(12),itemcnt44], axis=1)\n",
    "dataframe44.columns = ['t-1','t-2','t-3','t-4','t-5','t-6','t-7','t-8','t-9','t-10','t-11','t-12','t+1']"
   ]
  },
  {
   "cell_type": "code",
   "execution_count": 1572,
   "metadata": {},
   "outputs": [],
   "source": [
    "x44 = dataframe44[['t-1','t-2','t-3','t-4','t-5','t-6','t-7','t-8','t-9','t-10','t-11','t-12']].drop([1294,1295,1296,1297,1298,1299,1300,1301,1302,1303,1304,1305]).to_numpy()\n",
    "y44 = dataframe44['t+1'].drop([1294,1295,1296,1297,1298,1299,1300,1301,1302,1303,1304,1305]).to_numpy()"
   ]
  },
  {
   "cell_type": "code",
   "execution_count": 1573,
   "metadata": {},
   "outputs": [],
   "source": [
    "xtrain44 = x44[0 : (len(x)-1)]\n",
    "ytrain44 = y44[0 : (len(y)-1)]\n",
    "xtest44 = x44[-1].reshape(1, -1)\n",
    "ytest44 = y44[-1].reshape(-1,1)"
   ]
  },
  {
   "cell_type": "code",
   "execution_count": 1574,
   "metadata": {},
   "outputs": [],
   "source": [
    "pred100_44 = rf100.predict(xtest44)\n",
    "mape100_44 = mean_absolute_percentage_error(ytest44, pred100_44)\n",
    "accuracy44 = 100 - np.mean(mape100_44)"
   ]
  },
  {
   "cell_type": "code",
   "execution_count": 1575,
   "metadata": {},
   "outputs": [
    {
     "data": {
      "text/plain": [
       "90.74628879892038"
      ]
     },
     "execution_count": 1575,
     "metadata": {},
     "output_type": "execute_result"
    }
   ],
   "source": [
    "accuracy44"
   ]
  },
  {
   "cell_type": "code",
   "execution_count": 1576,
   "metadata": {},
   "outputs": [],
   "source": [
    "#shop45\n",
    "shop45 = train2[train2['shop_id'] == 45].drop([1364,1365])\n",
    "itemcnt45 = pd.DataFrame(shop45.item_cnt_month)\n",
    "dataframe45 = pd.concat([itemcnt45.shift(1),itemcnt45.shift(2),itemcnt45.shift(3),itemcnt45.shift(4),itemcnt45.shift(5),itemcnt45.shift(6),itemcnt45.shift(7),itemcnt45.shift(8),itemcnt45.shift(9),itemcnt45.shift(10),itemcnt45.shift(11),itemcnt45.shift(12),itemcnt45], axis=1)\n",
    "dataframe45.columns = ['t-1','t-2','t-3','t-4','t-5','t-6','t-7','t-8','t-9','t-10','t-11','t-12','t+1']"
   ]
  },
  {
   "cell_type": "code",
   "execution_count": 1578,
   "metadata": {},
   "outputs": [],
   "source": [
    "x45 = dataframe45[['t-1','t-2','t-3','t-4','t-5','t-6','t-7','t-8','t-9','t-10','t-11','t-12']].drop([1330,1331,1332,1333,1334,1335,1336,1337,1338,1339,1340,1341]).to_numpy()\n",
    "y45 = dataframe45['t+1'].drop([1330,1331,1332,1333,1334,1335,1336,1337,1338,1339,1340,1341]).to_numpy()\n"
   ]
  },
  {
   "cell_type": "code",
   "execution_count": 1579,
   "metadata": {},
   "outputs": [],
   "source": [
    "xtrain45 = x45[0 : (len(x)-1)]\n",
    "ytrain45 = y45[0 : (len(y)-1)]\n",
    "xtest45 = x45[-1].reshape(1, -1)\n",
    "ytest45 = y45[-1].reshape(-1,1)"
   ]
  },
  {
   "cell_type": "code",
   "execution_count": 1580,
   "metadata": {},
   "outputs": [],
   "source": [
    "pred100_45 = rf100.predict(xtest45)\n",
    "mape100_45 = mean_absolute_percentage_error(ytest45, pred100_45)\n",
    "accuracy45 = 100 - np.mean(mape100_45)"
   ]
  },
  {
   "cell_type": "code",
   "execution_count": 1582,
   "metadata": {},
   "outputs": [],
   "source": [
    "#shop46\n",
    "shop46 = train2[train2['shop_id'] == 46].drop([1400,1401])\n",
    "itemcnt46 = pd.DataFrame(shop46.item_cnt_month)\n",
    "dataframe46 = pd.concat([itemcnt46.shift(1),itemcnt46.shift(2),itemcnt46.shift(3),itemcnt46.shift(4),itemcnt46.shift(5),itemcnt46.shift(6),itemcnt46.shift(7),itemcnt46.shift(8),itemcnt46.shift(9),itemcnt46.shift(10),itemcnt46.shift(11),itemcnt46.shift(12),itemcnt46], axis=1)\n",
    "dataframe46.columns = ['t-1','t-2','t-3','t-4','t-5','t-6','t-7','t-8','t-9','t-10','t-11','t-12','t+1']"
   ]
  },
  {
   "cell_type": "code",
   "execution_count": 1584,
   "metadata": {},
   "outputs": [],
   "source": [
    "x46 = dataframe46[['t-1','t-2','t-3','t-4','t-5','t-6','t-7','t-8','t-9','t-10','t-11','t-12']].drop([1366,1367,1368,1369,1370,1371,1372,1373,1374,1375,1376,1377]).to_numpy()\n",
    "y46 = dataframe46['t+1'].drop([1366,1367,1368,1369,1370,1371,1372,1373,1374,1375,1376,1377]).to_numpy()"
   ]
  },
  {
   "cell_type": "code",
   "execution_count": 1585,
   "metadata": {},
   "outputs": [],
   "source": [
    "xtrain46 = x46[0 : (len(x)-1)]\n",
    "ytrain46 = y46[0 : (len(y)-1)]\n",
    "xtest46 = x46[-1].reshape(1, -1)\n",
    "ytest46 = y46[-1].reshape(-1,1)"
   ]
  },
  {
   "cell_type": "code",
   "execution_count": 1586,
   "metadata": {},
   "outputs": [],
   "source": [
    "pred100_46 = rf100.predict(xtest46)\n",
    "mape100_46 = mean_absolute_percentage_error(ytest46, pred100_46)\n",
    "accuracy46 = 100 - np.mean(mape100_46)"
   ]
  },
  {
   "cell_type": "code",
   "execution_count": 1588,
   "metadata": {},
   "outputs": [],
   "source": [
    "#shop47\n",
    "shop47 = train2[train2['shop_id'] == 47].drop([1436,1437])\n",
    "itemcnt47 = pd.DataFrame(shop47.item_cnt_month)\n",
    "dataframe47 = pd.concat([itemcnt47.shift(1),itemcnt47.shift(2),itemcnt47.shift(3),itemcnt47.shift(4),itemcnt47.shift(5),itemcnt47.shift(6),itemcnt47.shift(7),itemcnt47.shift(8),itemcnt47.shift(9),itemcnt47.shift(10),itemcnt47.shift(11),itemcnt47.shift(12),itemcnt47], axis=1)\n",
    "dataframe47.columns = ['t-1','t-2','t-3','t-4','t-5','t-6','t-7','t-8','t-9','t-10','t-11','t-12','t+1']"
   ]
  },
  {
   "cell_type": "code",
   "execution_count": 1590,
   "metadata": {},
   "outputs": [],
   "source": [
    "x47 = dataframe47[['t-1','t-2','t-3','t-4','t-5','t-6','t-7','t-8','t-9','t-10','t-11','t-12']].drop([1402,1403,1404,1405,1406,1407,1408,1409,1410,1411,1412,1413]).to_numpy()\n",
    "y47 = dataframe47['t+1'].drop([1402,1403,1404,1405,1406,1407,1408,1409,1410,1411,1412,1413]).to_numpy()"
   ]
  },
  {
   "cell_type": "code",
   "execution_count": 1591,
   "metadata": {},
   "outputs": [],
   "source": [
    "xtrain47 = x47[0 : (len(x)-1)]\n",
    "ytrain47 = y47[0 : (len(y)-1)]\n",
    "xtest47 = x47[-1].reshape(1, -1)\n",
    "ytest47 = y47[-1].reshape(-1,1)\n"
   ]
  },
  {
   "cell_type": "code",
   "execution_count": 1592,
   "metadata": {},
   "outputs": [],
   "source": [
    "pred100_47 = rf100.predict(xtest47)\n",
    "mape100_47 = mean_absolute_percentage_error(ytest47, pred100_47)\n",
    "accuracy47 = 100 - np.mean(mape100_47)\n"
   ]
  },
  {
   "cell_type": "code",
   "execution_count": 1594,
   "metadata": {},
   "outputs": [],
   "source": [
    "#shop48\n",
    "shop48 = train2[train2['shop_id'] == 48].drop([1460,1461])\n",
    "itemcnt48 = pd.DataFrame(shop48.item_cnt_month)\n",
    "dataframe48 = pd.concat([itemcnt48.shift(1),itemcnt48.shift(2),itemcnt48.shift(3),itemcnt48.shift(4),itemcnt48.shift(5),itemcnt48.shift(6),itemcnt48.shift(7),itemcnt48.shift(8),itemcnt48.shift(9),itemcnt48.shift(10),itemcnt48.shift(11),itemcnt48.shift(12),itemcnt48], axis=1)\n",
    "dataframe48.columns = ['t-1','t-2','t-3','t-4','t-5','t-6','t-7','t-8','t-9','t-10','t-11','t-12','t+1']"
   ]
  },
  {
   "cell_type": "code",
   "execution_count": 1596,
   "metadata": {},
   "outputs": [],
   "source": [
    "\n",
    "x48 = dataframe48[['t-1','t-2','t-3','t-4','t-5','t-6','t-7','t-8','t-9','t-10','t-11','t-12']].drop([1438,1439,1440,1441,1442,1443,1444,1445,1446,1447,1448,1449]).to_numpy()\n",
    "y48 = dataframe48['t+1'].drop([1438,1439,1440,1441,1442,1443,1444,1445,1446,1447,1448,1449]).to_numpy()"
   ]
  },
  {
   "cell_type": "code",
   "execution_count": 1597,
   "metadata": {},
   "outputs": [],
   "source": [
    "xtrain48 = x48[0 : (len(x)-1)]\n",
    "ytrain48 = y48[0 : (len(y)-1)]\n",
    "xtest48 = x48[-1].reshape(1, -1)\n",
    "ytest48 = y48[-1].reshape(-1,1)"
   ]
  },
  {
   "cell_type": "code",
   "execution_count": 1598,
   "metadata": {},
   "outputs": [],
   "source": [
    "pred100_48 = rf100.predict(xtest48)\n",
    "mape100_48 = mean_absolute_percentage_error(ytest48, pred100_48)\n",
    "accuracy48 = 100 - np.mean(mape100_48)"
   ]
  },
  {
   "cell_type": "code",
   "execution_count": 1600,
   "metadata": {},
   "outputs": [],
   "source": [
    "#shop49\n",
    "shop49 = train2[train2['shop_id'] == 49].drop([1485,1486])\n",
    "itemcnt49 = pd.DataFrame(shop49.item_cnt_month)\n",
    "dataframe49 = pd.concat([itemcnt49.shift(1),itemcnt49.shift(2),itemcnt49.shift(3),itemcnt49.shift(4),itemcnt49.shift(5),itemcnt49.shift(6),itemcnt49.shift(7),itemcnt49.shift(8),itemcnt49.shift(9),itemcnt49.shift(10),itemcnt49.shift(11),itemcnt49.shift(12),itemcnt49], axis=1)\n",
    "dataframe49.columns = ['t-1','t-2','t-3','t-4','t-5','t-6','t-7','t-8','t-9','t-10','t-11','t-12','t+1']"
   ]
  },
  {
   "cell_type": "code",
   "execution_count": 1602,
   "metadata": {},
   "outputs": [],
   "source": [
    "x49 = dataframe49[['t-1','t-2','t-3','t-4','t-5','t-6','t-7','t-8','t-9','t-10','t-11','t-12']].drop([1462,1463,1464,1465,1466,1467,1468,1469,1470,1471,1472,1473]).to_numpy()\n",
    "y49 = dataframe49['t+1'].drop([1462,1463,1464,1465,1466,1467,1468,1469,1470,1471,1472,1473]).to_numpy()"
   ]
  },
  {
   "cell_type": "code",
   "execution_count": 1603,
   "metadata": {},
   "outputs": [],
   "source": [
    "xtrain49 = x49[0 : (len(x)-1)]\n",
    "ytrain49 = y49[0 : (len(y)-1)]\n",
    "xtest49 = x49[-1].reshape(1, -1)\n",
    "ytest49 = y49[-1].reshape(-1,1)"
   ]
  },
  {
   "cell_type": "code",
   "execution_count": 1604,
   "metadata": {},
   "outputs": [],
   "source": [
    "pred100_49 = rf100.predict(xtest49)\n",
    "mape100_49 = mean_absolute_percentage_error(ytest49, pred100_49)\n",
    "accuracy49 = 100 - np.mean(mape100_49)"
   ]
  },
  {
   "cell_type": "code",
   "execution_count": 1606,
   "metadata": {},
   "outputs": [],
   "source": [
    "#shop50\n",
    "shop50 = train2[train2['shop_id'] == 50].drop([1521,1522])\n",
    "itemcnt50 = pd.DataFrame(shop50.item_cnt_month)\n",
    "dataframe50 = pd.concat([itemcnt50.shift(1),itemcnt50.shift(2),itemcnt50.shift(3),itemcnt50.shift(4),itemcnt50.shift(5),itemcnt50.shift(6),itemcnt50.shift(7),itemcnt50.shift(8),itemcnt50.shift(9),itemcnt50.shift(10),itemcnt50.shift(11),itemcnt50.shift(12),itemcnt50], axis=1)\n",
    "dataframe50.columns = ['t-1','t-2','t-3','t-4','t-5','t-6','t-7','t-8','t-9','t-10','t-11','t-12','t+1']"
   ]
  },
  {
   "cell_type": "code",
   "execution_count": 1608,
   "metadata": {},
   "outputs": [],
   "source": [
    "x50 = dataframe50[['t-1','t-2','t-3','t-4','t-5','t-6','t-7','t-8','t-9','t-10','t-11','t-12']].drop([1487,1488,1489,1490,1491,1492,1493,1494,1495,1496,1497,1498]).to_numpy()\n",
    "y50 = dataframe50['t+1'].drop([1487,1488,1489,1490,1491,1492,1493,1494,1495,1496,1497,1498]).to_numpy()"
   ]
  },
  {
   "cell_type": "code",
   "execution_count": 1609,
   "metadata": {},
   "outputs": [],
   "source": [
    "xtrain50 = x50[0 : (len(x)-1)]\n",
    "ytrain50 = y50[0 : (len(y)-1)]\n",
    "xtest50 = x50[-1].reshape(1, -1)\n",
    "ytest50 = y50[-1].reshape(-1,1)\n"
   ]
  },
  {
   "cell_type": "code",
   "execution_count": 1610,
   "metadata": {},
   "outputs": [],
   "source": [
    "pred100_50 = rf100.predict(xtest50)\n",
    "mape100_50 = mean_absolute_percentage_error(ytest50, pred100_50)\n",
    "accuracy50 = 100 - np.mean(mape100_50)"
   ]
  },
  {
   "cell_type": "code",
   "execution_count": 1612,
   "metadata": {},
   "outputs": [],
   "source": [
    "#shop51\n",
    "shop51 = train2[train2['shop_id'] == 51].drop([1557,1558])\n",
    "itemcnt51 = pd.DataFrame(shop51.item_cnt_month)\n",
    "dataframe51 = pd.concat([itemcnt51.shift(1),itemcnt51.shift(2),itemcnt51.shift(3),itemcnt51.shift(4),itemcnt51.shift(5),itemcnt51.shift(6),itemcnt51.shift(7),itemcnt51.shift(8),itemcnt51.shift(9),itemcnt51.shift(10),itemcnt51.shift(11),itemcnt51.shift(12),itemcnt51], axis=1)\n",
    "dataframe51.columns = ['t-1','t-2','t-3','t-4','t-5','t-6','t-7','t-8','t-9','t-10','t-11','t-12','t+1']"
   ]
  },
  {
   "cell_type": "code",
   "execution_count": 1614,
   "metadata": {},
   "outputs": [],
   "source": [
    "\n",
    "x51 = dataframe51[['t-1','t-2','t-3','t-4','t-5','t-6','t-7','t-8','t-9','t-10','t-11','t-12']].drop([1523,1524,1525,1526,1527,1528,1529,1530,1531,1532,1533,1534]).to_numpy()\n",
    "y51 = dataframe51['t+1'].drop([1523,1524,1525,1526,1527,1528,1529,1530,1531,1532,1533,1534]).to_numpy()"
   ]
  },
  {
   "cell_type": "code",
   "execution_count": 1615,
   "metadata": {},
   "outputs": [],
   "source": [
    "xtrain51 = x51[0 : (len(x)-1)]\n",
    "ytrain51 = y51[0 : (len(y)-1)]\n",
    "xtest51 = x51[-1].reshape(1, -1)\n",
    "ytest51 = y51[-1].reshape(-1,1)"
   ]
  },
  {
   "cell_type": "code",
   "execution_count": 1616,
   "metadata": {},
   "outputs": [],
   "source": [
    "pred100_51 = rf100.predict(xtest51)\n",
    "mape100_51 = mean_absolute_percentage_error(ytest51, pred100_51)\n",
    "accuracy51 = 100 - np.mean(mape100_51)"
   ]
  },
  {
   "cell_type": "code",
   "execution_count": 1620,
   "metadata": {},
   "outputs": [],
   "source": [
    "#shop52\n",
    "shop52 = train2[train2['shop_id'] == 52].drop([1593,1594])\n",
    "itemcnt52 = pd.DataFrame(shop52.item_cnt_month)\n",
    "dataframe52 = pd.concat([itemcnt52.shift(1),itemcnt52.shift(2),itemcnt52.shift(3),itemcnt52.shift(4),itemcnt52.shift(5),itemcnt52.shift(6),itemcnt52.shift(7),itemcnt52.shift(8),itemcnt52.shift(9),itemcnt52.shift(10),itemcnt52.shift(11),itemcnt52.shift(12),itemcnt52], axis=1)\n",
    "dataframe52.columns = ['t-1','t-2','t-3','t-4','t-5','t-6','t-7','t-8','t-9','t-10','t-11','t-12','t+1']"
   ]
  },
  {
   "cell_type": "code",
   "execution_count": 1622,
   "metadata": {},
   "outputs": [],
   "source": [
    "x52 = dataframe52[['t-1','t-2','t-3','t-4','t-5','t-6','t-7','t-8','t-9','t-10','t-11','t-12']].drop([1559,1560,1561,1562,1563,1564,1565,1566,1567,1568,1569,1570]).to_numpy()\n",
    "y52 = dataframe52['t+1'].drop([1559,1560,1561,1562,1563,1564,1565,1566,1567,1568,1569,1570]).to_numpy()"
   ]
  },
  {
   "cell_type": "code",
   "execution_count": 1623,
   "metadata": {},
   "outputs": [],
   "source": [
    "xtrain52 = x52[0 : (len(x)-1)]\n",
    "ytrain52 = y52[0 : (len(y)-1)]\n",
    "xtest52 = x52[-1].reshape(1, -1)\n",
    "ytest52 = y52[-1].reshape(-1,1)"
   ]
  },
  {
   "cell_type": "code",
   "execution_count": 1624,
   "metadata": {},
   "outputs": [],
   "source": [
    "pred100_52 = rf100.predict(xtest52)\n",
    "mape100_52 = mean_absolute_percentage_error(ytest52, pred100_52)\n",
    "accuracy52 = 100 - np.mean(mape100_52)"
   ]
  },
  {
   "cell_type": "code",
   "execution_count": 1626,
   "metadata": {},
   "outputs": [],
   "source": [
    "#shop53\n",
    "shop53 = train2[train2['shop_id'] == 53].drop([1629,1630])\n",
    "itemcnt53 = pd.DataFrame(shop53.item_cnt_month)\n",
    "dataframe53 = pd.concat([itemcnt53.shift(1),itemcnt53.shift(2),itemcnt53.shift(3),itemcnt53.shift(4),itemcnt53.shift(5),itemcnt53.shift(6),itemcnt53.shift(7),itemcnt53.shift(8),itemcnt53.shift(9),itemcnt53.shift(10),itemcnt53.shift(11),itemcnt53.shift(12),itemcnt53], axis=1)\n",
    "dataframe53.columns = ['t-1','t-2','t-3','t-4','t-5','t-6','t-7','t-8','t-9','t-10','t-11','t-12','t+1']"
   ]
  },
  {
   "cell_type": "code",
   "execution_count": 1628,
   "metadata": {},
   "outputs": [],
   "source": [
    "x53 = dataframe53[['t-1','t-2','t-3','t-4','t-5','t-6','t-7','t-8','t-9','t-10','t-11','t-12']].drop([1595,1596,1597,1598,1599,1600,1601,1602,1603,1604,1605,1606]).to_numpy()\n",
    "y53 = dataframe53['t+1'].drop([1595,1596,1597,1598,1599,1600,1601,1602,1603,1604,1605,1606]).to_numpy()\n"
   ]
  },
  {
   "cell_type": "code",
   "execution_count": 1629,
   "metadata": {},
   "outputs": [],
   "source": [
    "xtrain53 = x53[0 : (len(x)-1)]\n",
    "ytrain53 = y53[0 : (len(y)-1)]\n",
    "xtest53 = x53[-1].reshape(1, -1)\n",
    "ytest53 = y53[-1].reshape(-1,1)"
   ]
  },
  {
   "cell_type": "code",
   "execution_count": 1630,
   "metadata": {},
   "outputs": [],
   "source": [
    "pred100_53 = rf100.predict(xtest53)\n",
    "mape100_53 = mean_absolute_percentage_error(ytest53, pred100_53)\n",
    "accuracy53 = 100 - np.mean(mape100_53)"
   ]
  },
  {
   "cell_type": "code",
   "execution_count": 1632,
   "metadata": {},
   "outputs": [],
   "source": [
    "#shop54\n",
    "shop54 = train2[train2['shop_id'] == 54].drop([1665,1666])\n",
    "itemcnt54 = pd.DataFrame(shop54.item_cnt_month)\n",
    "dataframe54 = pd.concat([itemcnt54.shift(1),itemcnt54.shift(2),itemcnt54.shift(3),itemcnt54.shift(4),itemcnt54.shift(5),itemcnt54.shift(6),itemcnt54.shift(7),itemcnt54.shift(8),itemcnt54.shift(9),itemcnt54.shift(10),itemcnt54.shift(11),itemcnt54.shift(12),itemcnt54], axis=1)\n",
    "dataframe54.columns = ['t-1','t-2','t-3','t-4','t-5','t-6','t-7','t-8','t-9','t-10','t-11','t-12','t+1']"
   ]
  },
  {
   "cell_type": "code",
   "execution_count": 1634,
   "metadata": {},
   "outputs": [],
   "source": [
    "x54 = dataframe54[['t-1','t-2','t-3','t-4','t-5','t-6','t-7','t-8','t-9','t-10','t-11','t-12']].drop([1631,1632,1633,1634,1635,1636,1637,1638,1639,1640,1641,1642]).to_numpy()\n",
    "y54 = dataframe54['t+1'].drop([1631,1632,1633,1634,1635,1636,1637,1638,1639,1640,1641,1642]).to_numpy()"
   ]
  },
  {
   "cell_type": "code",
   "execution_count": 1635,
   "metadata": {},
   "outputs": [],
   "source": [
    "xtrain54 = x54[0 : (len(x)-1)]\n",
    "ytrain54 = y54[0 : (len(y)-1)]\n",
    "xtest54 = x54[-1].reshape(1, -1)\n",
    "ytest54 = y54[-1].reshape(-1,1)"
   ]
  },
  {
   "cell_type": "code",
   "execution_count": 1636,
   "metadata": {},
   "outputs": [],
   "source": [
    "pred100_54 = rf100.predict(xtest54)\n",
    "mape100_54 = mean_absolute_percentage_error(ytest54, pred100_54)\n",
    "accuracy54 = 100 - np.mean(mape100_54)"
   ]
  },
  {
   "cell_type": "code",
   "execution_count": 1639,
   "metadata": {},
   "outputs": [],
   "source": [
    "#shop55\n",
    "shop55 = train2[train2['shop_id'] == 55].drop([1701,1702])\n",
    "itemcnt55 = pd.DataFrame(shop55.item_cnt_month)\n",
    "dataframe55 = pd.concat([itemcnt55.shift(1),itemcnt55.shift(2),itemcnt55.shift(3),itemcnt55.shift(4),itemcnt55.shift(5),itemcnt55.shift(6),itemcnt55.shift(7),itemcnt55.shift(8),itemcnt55.shift(9),itemcnt55.shift(10),itemcnt55.shift(11),itemcnt55.shift(12),itemcnt55], axis=1)\n",
    "dataframe55.columns = ['t-1','t-2','t-3','t-4','t-5','t-6','t-7','t-8','t-9','t-10','t-11','t-12','t+1']"
   ]
  },
  {
   "cell_type": "code",
   "execution_count": 1641,
   "metadata": {},
   "outputs": [],
   "source": [
    "\n",
    "x55 = dataframe55[['t-1','t-2','t-3','t-4','t-5','t-6','t-7','t-8','t-9','t-10','t-11','t-12']].drop([1667,1668,1669,1670,1671,1672,1673,1674,1675,1676,1677,1678]).to_numpy()\n",
    "y55 = dataframe55['t+1'].drop([1667,1668,1669,1670,1671,1672,1673,1674,1675,1676,1677,1678]).to_numpy()"
   ]
  },
  {
   "cell_type": "code",
   "execution_count": 1643,
   "metadata": {},
   "outputs": [],
   "source": [
    "\n",
    "xtrain55 = x55[0 : (len(x)-1)]\n",
    "ytrain55 = y55[0 : (len(y)-1)]\n",
    "xtest55 = x55[-1].reshape(1, -1)\n",
    "ytest55 = y55[-1].reshape(-1,1)"
   ]
  },
  {
   "cell_type": "code",
   "execution_count": 1644,
   "metadata": {},
   "outputs": [],
   "source": [
    "pred100_55 = rf100.predict(xtest55)\n",
    "mape100_55 = mean_absolute_percentage_error(ytest55, pred100_55)\n",
    "accuracy55 = 100 - np.mean(mape100_55)"
   ]
  },
  {
   "cell_type": "code",
   "execution_count": 1646,
   "metadata": {},
   "outputs": [],
   "source": [
    "#shop56\n",
    "shop56 = train2[train2['shop_id'] == 56].drop([1737,1738])\n",
    "itemcnt56 = pd.DataFrame(shop56.item_cnt_month)\n",
    "dataframe56 = pd.concat([itemcnt56.shift(1),itemcnt56.shift(2),itemcnt56.shift(3),itemcnt56.shift(4),itemcnt56.shift(5),itemcnt56.shift(6),itemcnt56.shift(7),itemcnt56.shift(8),itemcnt56.shift(9),itemcnt56.shift(10),itemcnt56.shift(11),itemcnt56.shift(12),itemcnt56], axis=1)\n",
    "dataframe56.columns = ['t-1','t-2','t-3','t-4','t-5','t-6','t-7','t-8','t-9','t-10','t-11','t-12','t+1']"
   ]
  },
  {
   "cell_type": "code",
   "execution_count": 1648,
   "metadata": {},
   "outputs": [],
   "source": [
    "x56 = dataframe56[['t-1','t-2','t-3','t-4','t-5','t-6','t-7','t-8','t-9','t-10','t-11','t-12']].drop([1703,1704,1705,1706,1707,1708,1709,1710,1711,1712,1713,1714]).to_numpy()\n",
    "y56 = dataframe56['t+1'].drop([1703,1704,1705,1706,1707,1708,1709,1710,1711,1712,1713,1714]).to_numpy()\n"
   ]
  },
  {
   "cell_type": "code",
   "execution_count": 1649,
   "metadata": {},
   "outputs": [],
   "source": [
    "xtrain56 = x56[0 : (len(x)-1)]\n",
    "ytrain56 = y56[0 : (len(y)-1)]\n",
    "xtest56 = x56[-1].reshape(1, -1)\n",
    "ytest56 = y56[-1].reshape(-1,1)"
   ]
  },
  {
   "cell_type": "code",
   "execution_count": 1650,
   "metadata": {},
   "outputs": [],
   "source": [
    "pred100_56 = rf100.predict(xtest56)\n",
    "mape100_56 = mean_absolute_percentage_error(ytest56, pred100_56)\n",
    "accuracy56 = 100 - np.mean(mape100_56)\n"
   ]
  },
  {
   "cell_type": "code",
   "execution_count": 1652,
   "metadata": {},
   "outputs": [],
   "source": [
    "#shop57\n",
    "shop57 = train2[train2['shop_id'] == 57].drop([1773,1774])\n",
    "itemcnt57 = pd.DataFrame(shop57.item_cnt_month)\n",
    "dataframe57 = pd.concat([itemcnt57.shift(1),itemcnt57.shift(2),itemcnt57.shift(3),itemcnt57.shift(4),itemcnt57.shift(5),itemcnt57.shift(6),itemcnt57.shift(7),itemcnt57.shift(8),itemcnt57.shift(9),itemcnt57.shift(10),itemcnt57.shift(11),itemcnt57.shift(12),itemcnt57], axis=1)\n",
    "dataframe57.columns = ['t-1','t-2','t-3','t-4','t-5','t-6','t-7','t-8','t-9','t-10','t-11','t-12','t+1']"
   ]
  },
  {
   "cell_type": "code",
   "execution_count": 1654,
   "metadata": {},
   "outputs": [],
   "source": [
    "x57 = dataframe57[['t-1','t-2','t-3','t-4','t-5','t-6','t-7','t-8','t-9','t-10','t-11','t-12']].drop([1739,1740,1741,1742,1743,1744,1745,1746,1747,1748,1749,1750]).to_numpy()\n",
    "y57 = dataframe57['t+1'].drop([1739,1740,1741,1742,1743,1744,1745,1746,1747,1748,1749,1750]).to_numpy()"
   ]
  },
  {
   "cell_type": "code",
   "execution_count": 1655,
   "metadata": {},
   "outputs": [],
   "source": [
    "xtrain57 = x57[0 : (len(x)-1)]\n",
    "ytrain57 = y57[0 : (len(y)-1)]\n",
    "xtest57 = x57[-1].reshape(1, -1)\n",
    "ytest57 = y57[-1].reshape(-1,1)\n"
   ]
  },
  {
   "cell_type": "code",
   "execution_count": 1656,
   "metadata": {},
   "outputs": [],
   "source": [
    "pred100_57 = rf100.predict(xtest57)\n",
    "mape100_57 = mean_absolute_percentage_error(ytest57, pred100_57)\n",
    "accuracy57 = 100 - np.mean(mape100_57)"
   ]
  },
  {
   "cell_type": "code",
   "execution_count": 1658,
   "metadata": {},
   "outputs": [],
   "source": [
    "#shop58\n",
    "shop58 = train2[train2['shop_id'] == 58].drop([1809,1810])\n",
    "itemcnt58 = pd.DataFrame(shop58.item_cnt_month)\n",
    "dataframe58 = pd.concat([itemcnt58.shift(1),itemcnt58.shift(2),itemcnt58.shift(3),itemcnt58.shift(4),itemcnt58.shift(5),itemcnt58.shift(6),itemcnt58.shift(7),itemcnt58.shift(8),itemcnt58.shift(9),itemcnt58.shift(10),itemcnt58.shift(11),itemcnt58.shift(12),itemcnt58], axis=1)\n",
    "dataframe58.columns = ['t-1','t-2','t-3','t-4','t-5','t-6','t-7','t-8','t-9','t-10','t-11','t-12','t+1']"
   ]
  },
  {
   "cell_type": "code",
   "execution_count": 1660,
   "metadata": {},
   "outputs": [],
   "source": [
    "x58 = dataframe58[['t-1','t-2','t-3','t-4','t-5','t-6','t-7','t-8','t-9','t-10','t-11','t-12']].drop([1775,1776,1777,1778,1779,1780,1781,1782,1783,1784,1785,1786]).to_numpy()\n",
    "y58 = dataframe58['t+1'].drop([1775,1776,1777,1778,1779,1780,1781,1782,1783,1784,1785,1786]).to_numpy()"
   ]
  },
  {
   "cell_type": "code",
   "execution_count": 1661,
   "metadata": {},
   "outputs": [],
   "source": [
    "xtrain58 = x58[0 : (len(x)-1)]\n",
    "ytrain58 = y58[0 : (len(y)-1)]\n",
    "xtest58 = x58[-1].reshape(1, -1)\n",
    "ytest58 = y58[-1].reshape(-1,1)"
   ]
  },
  {
   "cell_type": "code",
   "execution_count": 1662,
   "metadata": {},
   "outputs": [],
   "source": [
    "pred100_58 = rf100.predict(xtest58)\n",
    "mape100_58 = mean_absolute_percentage_error(ytest58, pred100_58)\n",
    "accuracy58 = 100 - np.mean(mape100_58)"
   ]
  },
  {
   "cell_type": "code",
   "execution_count": 1664,
   "metadata": {},
   "outputs": [],
   "source": [
    "#shop59\n",
    "shop59 = train2[train2['shop_id'] == 59].drop([1843,1844])\n",
    "itemcnt59 = pd.DataFrame(shop59.item_cnt_month)\n",
    "dataframe59 = pd.concat([itemcnt59.shift(1),itemcnt59.shift(2),itemcnt59.shift(3),itemcnt59.shift(4),itemcnt59.shift(5),itemcnt59.shift(6),itemcnt59.shift(7),itemcnt59.shift(8),itemcnt59.shift(9),itemcnt59.shift(10),itemcnt59.shift(11),itemcnt59.shift(12),itemcnt59], axis=1)\n",
    "dataframe59.columns = ['t-1','t-2','t-3','t-4','t-5','t-6','t-7','t-8','t-9','t-10','t-11','t-12','t+1']\n"
   ]
  },
  {
   "cell_type": "code",
   "execution_count": 1666,
   "metadata": {},
   "outputs": [],
   "source": [
    "x59 = dataframe59[['t-1','t-2','t-3','t-4','t-5','t-6','t-7','t-8','t-9','t-10','t-11','t-12']].drop([1811,1812,1813,1814,1815,1816,1817,1818,1819,1820,1821,1822]).to_numpy()\n",
    "y59 = dataframe59['t+1'].drop([1811,1812,1813,1814,1815,1816,1817,1818,1819,1820,1821,1822]).to_numpy()"
   ]
  },
  {
   "cell_type": "code",
   "execution_count": 1667,
   "metadata": {},
   "outputs": [],
   "source": [
    "\n",
    "xtrain59 = x59[0 : (len(x)-1)]\n",
    "ytrain59 = y59[0 : (len(y)-1)]\n",
    "xtest59 = x59[-1].reshape(1, -1)\n",
    "ytest59 = y59[-1].reshape(-1,1)"
   ]
  },
  {
   "cell_type": "code",
   "execution_count": 1668,
   "metadata": {},
   "outputs": [],
   "source": [
    "pred100_59 = rf100.predict(xtest59)\n",
    "mape100_59 = mean_absolute_percentage_error(ytest59, pred100_59)\n",
    "accuracy59 = 100 - np.mean(mape100_59)"
   ]
  },
  {
   "cell_type": "code",
   "execution_count": 1678,
   "metadata": {},
   "outputs": [
    {
     "name": "stdout",
     "output_type": "stream",
     "text": [
      "Prediction for November Sales for Shop 2: [860.48]\n",
      "Prediction for November Sales for Shop 3: [848.79]\n",
      "Prediction for November Sales for Shop 4: [848.85]\n",
      "Prediction for November Sales for Shop 5: [831.31]\n",
      "Prediction for November Sales for Shop 6: [1453.37]\n",
      "Prediction for November Sales for Shop 7: [1453.47]\n",
      "Prediction for November Sales for Shop 10: [843.39]\n",
      "Prediction for November Sales for Shop 12: [1453.99]\n",
      "Prediction for November Sales for Shop 14: [836.14]\n",
      "Prediction for November Sales for Shop 15: [843.39]\n",
      "Prediction for November Sales for Shop 16: [1362.75]\n",
      "Prediction for November Sales for Shop 17: [856.41]\n",
      "Prediction for November Sales for Shop 18: [961.73]\n",
      "Prediction for November Sales for Shop 19: [1452.85]\n",
      "Prediction for November Sales for Shop 21: [1453.37]\n",
      "Prediction for November Sales for Shop 22: [1455.91]\n",
      "Prediction for November Sales for Shop 24: [1437.14]\n",
      "Prediction for November Sales for Shop 25: [1453.37]\n",
      "Prediction for November Sales for Shop 26: [1443.08]\n",
      "Prediction for November Sales for Shop 27: [1366.4]\n",
      "Prediction for November Sales for Shop 28: [1453.37]\n",
      "Prediction for November Sales for Shop 29: [1304.88]\n",
      "Prediction for November Sales for Shop 30: [1335.92]\n",
      "Prediction for November Sales for Shop 31: [1453.37]\n",
      "Prediction for November Sales for Shop 33: [922.6]\n",
      "Prediction for November Sales for Shop 34: [999.16]\n",
      "Prediction for November Sales for Shop 35: [1455.14]\n",
      "Prediction for November Sales for Shop 37: [890.88]\n",
      "Prediction for November Sales for Shop 38: [1375.12]\n",
      "Prediction for November Sales for Shop 39: [857.8]\n",
      "Prediction for November Sales for Shop 40: [896.21]\n",
      "Prediction for November Sales for Shop 41: [846.05]\n",
      "Prediction for November Sales for Shop 42: [1453.37]\n",
      "Prediction for November Sales for Shop 43: [1337.71]\n",
      "Prediction for November Sales for Shop 44: [809.57]\n",
      "Prediction for November Sales for Shop 45: [859.18]\n",
      "Prediction for November Sales for Shop 46: [1453.6]\n",
      "Prediction for November Sales for Shop 47: [1453.37]\n",
      "Prediction for November Sales for Shop 48: [894.55]\n",
      "Prediction for November Sales for Shop 49: [877.96]\n",
      "Prediction for November Sales for Shop 50: [1334.75]\n",
      "Prediction for November Sales for Shop 51: [833.91]\n",
      "Prediction for November Sales for Shop 52: [880.79]\n",
      "Prediction for November Sales for Shop 53: [1377.86]\n",
      "Prediction for November Sales for Shop 54: [1340.57]\n",
      "Prediction for November Sales for Shop 55: [1453.37]\n",
      "Prediction for November Sales for Shop 56: [1375.81]\n",
      "Prediction for November Sales for Shop 57: [1453.37]\n",
      "Prediction for November Sales for Shop 58: [1454.52]\n",
      "Prediction for November Sales for Shop 59: [1339.64]\n"
     ]
    }
   ],
   "source": [
    "#Prediction Results\n",
    "print('Prediction for November Sales for Shop 2:', pred100_2)\n",
    "print('Prediction for November Sales for Shop 3:', pred100_3)\n",
    "print('Prediction for November Sales for Shop 4:', pred100_4)\n",
    "print('Prediction for November Sales for Shop 5:', pred100_5)\n",
    "print('Prediction for November Sales for Shop 6:', pred100_6)\n",
    "print('Prediction for November Sales for Shop 7:', pred100_7)\n",
    "print('Prediction for November Sales for Shop 10:', pred100_10)\n",
    "print('Prediction for November Sales for Shop 12:', pred100_12)\n",
    "print('Prediction for November Sales for Shop 14:', pred100_14)\n",
    "print('Prediction for November Sales for Shop 15:', pred100_15)\n",
    "print('Prediction for November Sales for Shop 16:', pred100_16)\n",
    "print('Prediction for November Sales for Shop 17:', pred100_17)\n",
    "print('Prediction for November Sales for Shop 18:', pred100_18)\n",
    "print('Prediction for November Sales for Shop 19:', pred100_19)\n",
    "print('Prediction for November Sales for Shop 21:', pred100_21)\n",
    "print('Prediction for November Sales for Shop 22:', pred100_22)\n",
    "print('Prediction for November Sales for Shop 24:', pred100_24)\n",
    "print('Prediction for November Sales for Shop 25:', pred100_25)\n",
    "print('Prediction for November Sales for Shop 26:', pred100_26)\n",
    "print('Prediction for November Sales for Shop 27:', pred100_27)\n",
    "print('Prediction for November Sales for Shop 28:', pred100_28)\n",
    "print('Prediction for November Sales for Shop 29:', pred100_29)\n",
    "print('Prediction for November Sales for Shop 30:', pred100_30)\n",
    "print('Prediction for November Sales for Shop 31:', pred100_31)\n",
    "print('Prediction for November Sales for Shop 33:', pred100_33)\n",
    "print('Prediction for November Sales for Shop 34:', pred100_34)\n",
    "print('Prediction for November Sales for Shop 35:', pred100_35)\n",
    "print('Prediction for November Sales for Shop 37:', pred100_37)\n",
    "print('Prediction for November Sales for Shop 38:', pred100_38)\n",
    "print('Prediction for November Sales for Shop 39:', pred100_39)\n",
    "print('Prediction for November Sales for Shop 40:', pred100_40)\n",
    "print('Prediction for November Sales for Shop 41:', pred100_41)\n",
    "print('Prediction for November Sales for Shop 42:', pred100_42)\n",
    "print('Prediction for November Sales for Shop 43:', pred100_43)\n",
    "print('Prediction for November Sales for Shop 44:', pred100_44)\n",
    "print('Prediction for November Sales for Shop 45:', pred100_45)\n",
    "print('Prediction for November Sales for Shop 46:', pred100_46)\n",
    "print('Prediction for November Sales for Shop 47:', pred100_47)\n",
    "print('Prediction for November Sales for Shop 48:', pred100_48)\n",
    "print('Prediction for November Sales for Shop 49:', pred100_49)\n",
    "print('Prediction for November Sales for Shop 50:', pred100_50)\n",
    "print('Prediction for November Sales for Shop 51:', pred100_51)\n",
    "print('Prediction for November Sales for Shop 52:', pred100_52)\n",
    "print('Prediction for November Sales for Shop 53:', pred100_53)\n",
    "print('Prediction for November Sales for Shop 54:', pred100_54)\n",
    "print('Prediction for November Sales for Shop 55:', pred100_55)\n",
    "print('Prediction for November Sales for Shop 56:', pred100_56)\n",
    "print('Prediction for November Sales for Shop 57:', pred100_57)\n",
    "print('Prediction for November Sales for Shop 58:', pred100_58)\n",
    "print('Prediction for November Sales for Shop 59:', pred100_59)"
   ]
  },
  {
   "cell_type": "code",
   "execution_count": 1680,
   "metadata": {},
   "outputs": [
    {
     "name": "stdout",
     "output_type": "stream",
     "text": [
      "Mape for Shop 2: 16.91 %.\n",
      "Mape for Shop 3: 42.41 %.\n",
      "Mape for Shop 4: 13.18 %.\n",
      "Mape for Shop 5: 12.49 %.\n",
      "Mape for Shop 6: 16.14 %.\n",
      "Mape for Shop 7: 16.13 %.\n",
      "Mape for Shop 10: 100.81 %.\n",
      "Mape for Shop 12: 65.55 %.\n",
      "Mape for Shop 14: 15.11 %.\n",
      "Mape for Shop 15: 100.81 %.\n",
      "Mape for Shop 16: 67.71 %.\n",
      "Mape for Shop 17: 79.71 %.\n",
      "Mape for Shop 18: 14.36 %.\n",
      "Mape for Shop 19: 2.82 %.\n",
      "Mape for Shop 21: 21.14 %.\n",
      "Mape for Shop 22: 9.47 %.\n",
      "Mape for Shop 24: 15.43 %.\n",
      "Mape for Shop 25: 75.6 %.\n",
      "Mape for Shop 26: 10.07 %.\n",
      "Mape for Shop 27: 88.99 %.\n",
      "Mape for Shop 28: 51.06 %.\n",
      "Mape for Shop 29: 764.16 %.\n",
      "Mape for Shop 30: 1125.61 %.\n",
      "Mape for Shop 31: 75.68 %.\n",
      "Mape for Shop 33: 1053.25 %.\n",
      "Mape for Shop 34: 126.57 %.\n",
      "Mape for Shop 35: 2.69 %.\n",
      "Mape for Shop 37: 1.78 %.\n",
      "Mape for Shop 38: 22.89 %.\n",
      "Mape for Shop 39: 9.03 %.\n",
      "Mape for Shop 40: 4381.05 %.\n",
      "Mape for Shop 41: 17.51 %.\n",
      "Mape for Shop 42: 65.54 %.\n",
      "Mape for Shop 43: 2522.96 %.\n",
      "Mape for Shop 44: 9.25 %.\n",
      "Mape for Shop 45: 18.34 %.\n",
      "Mape for Shop 46: 7.67 %.\n",
      "Mape for Shop 47: 14.15 %.\n",
      "Mape for Shop 48: 19.19 %.\n",
      "Mape for Shop 49: 28.17 %.\n",
      "Mape for Shop 50: 32.02 %.\n",
      "Mape for Shop 51: 448.62 %.\n",
      "Mape for Shop 52: 3.99 %.\n",
      "Mape for Shop 53: 32.74 %.\n",
      "Mape for Shop 54: 206.77 %.\n",
      "Mape for Shop 55: 44.74 %.\n",
      "Mape for Shop 56: 18.91 %.\n",
      "Mape for Shop 57: 38.21 %.\n",
      "Mape for Shop 58: 0.38 %.\n",
      "Mape for Shop 59: 11.73 %.\n"
     ]
    }
   ],
   "source": [
    "print('Mape for Shop 2:', round(mape100_2,2),'%.')\n",
    "print('Mape for Shop 3:', round(mape100_3,2),'%.')\n",
    "print('Mape for Shop 4:', round(mape100_4,2),'%.')\n",
    "print('Mape for Shop 5:', round(mape100_5,2),'%.')\n",
    "print('Mape for Shop 6:', round(mape100_6,2),'%.')\n",
    "print('Mape for Shop 7:', round(mape100_7,2),'%.')\n",
    "print('Mape for Shop 10:', round(mape100_10,2),'%.')\n",
    "print('Mape for Shop 12:', round(mape100_12,2),'%.')\n",
    "print('Mape for Shop 14:', round(mape100_14,2),'%.')\n",
    "print('Mape for Shop 15:', round(mape100_15,2),'%.')\n",
    "print('Mape for Shop 16:', round(mape100_16,2),'%.')\n",
    "print('Mape for Shop 17:', round(mape100_17,2),'%.')\n",
    "print('Mape for Shop 18:', round(mape100_18,2),'%.')\n",
    "print('Mape for Shop 19:', round(mape100_19,2),'%.')\n",
    "print('Mape for Shop 21:', round(mape100_21,2),'%.')\n",
    "print('Mape for Shop 22:', round(mape100_22,2),'%.')\n",
    "print('Mape for Shop 24:', round(mape100_24,2),'%.')\n",
    "print('Mape for Shop 25:', round(mape100_25,2),'%.')\n",
    "print('Mape for Shop 26:', round(mape100_26,2),'%.')\n",
    "print('Mape for Shop 27:', round(mape100_27,2),'%.')\n",
    "print('Mape for Shop 28:', round(mape100_28,2),'%.')\n",
    "print('Mape for Shop 29:', round(mape100_29,2),'%.')\n",
    "print('Mape for Shop 30:', round(mape100_30,2),'%.')\n",
    "print('Mape for Shop 31:', round(mape100_31,2),'%.')\n",
    "print('Mape for Shop 33:', round(mape100_33,2),'%.')\n",
    "print('Mape for Shop 34:', round(mape100_34,2),'%.')\n",
    "print('Mape for Shop 35:', round(mape100_35,2),'%.')\n",
    "print('Mape for Shop 37:', round(mape100_37,2),'%.')\n",
    "print('Mape for Shop 38:', round(mape100_38,2),'%.')\n",
    "print('Mape for Shop 39:', round(mape100_39,2),'%.')\n",
    "print('Mape for Shop 40:', round(mape100_40,2),'%.')\n",
    "print('Mape for Shop 41:', round(mape100_41,2),'%.')\n",
    "print('Mape for Shop 42:', round(mape100_42,2),'%.')\n",
    "print('Mape for Shop 43:', round(mape100_43,2),'%.')\n",
    "print('Mape for Shop 44:', round(mape100_44,2),'%.')\n",
    "print('Mape for Shop 45:', round(mape100_45,2),'%.')\n",
    "print('Mape for Shop 46:', round(mape100_46,2),'%.')\n",
    "print('Mape for Shop 47:', round(mape100_47,2),'%.')\n",
    "print('Mape for Shop 48:', round(mape100_48,2),'%.')\n",
    "print('Mape for Shop 49:', round(mape100_49,2),'%.')\n",
    "print('Mape for Shop 50:', round(mape100_50,2),'%.')\n",
    "print('Mape for Shop 51:', round(mape100_51,2),'%.')\n",
    "print('Mape for Shop 52:', round(mape100_52,2),'%.')\n",
    "print('Mape for Shop 53:', round(mape100_53,2),'%.')\n",
    "print('Mape for Shop 54:', round(mape100_54,2),'%.')\n",
    "print('Mape for Shop 55:', round(mape100_55,2),'%.')\n",
    "print('Mape for Shop 56:', round(mape100_56,2),'%.')\n",
    "print('Mape for Shop 57:', round(mape100_57,2),'%.')\n",
    "print('Mape for Shop 58:', round(mape100_58,2),'%.')\n",
    "print('Mape for Shop 59:', round(mape100_59,2),'%.')"
   ]
  },
  {
   "cell_type": "code",
   "execution_count": 1683,
   "metadata": {},
   "outputs": [
    {
     "name": "stdout",
     "output_type": "stream",
     "text": [
      "Accuracy for Shop 2: 83.09 %.\n",
      "Accuracy for Shop 3: 57.59 %.\n",
      "Accuracy for Shop 4: 86.82 %.\n",
      "Accuracy for Shop 5: 87.51 %.\n",
      "Accuracy for Shop 6: 83.86 %.\n",
      "Accuracy for Shop 7: 83.87 %.\n",
      "Accuracy for Shop 10: -0.81 %.\n",
      "Accuracy for Shop 12: 34.45 %.\n",
      "Accuracy for Shop 14: 84.89 %.\n",
      "Accuracy for Shop 15: -0.81 %.\n",
      "Accuracy for Shop 16: 32.29 %.\n",
      "Accuracy for Shop 17: 20.29 %.\n",
      "Accuracy for Shop 18: 85.64 %.\n",
      "Accuracy for Shop 19: 97.18 %.\n",
      "Accuracy for Shop 21: 78.86 %.\n",
      "Accuracy for Shop 22: 90.53 %.\n",
      "Accuracy for Shop 24: 84.57 %.\n",
      "Accuracy for Shop 25: 24.4 %.\n",
      "Accuracy for Shop 26: 89.93 %.\n",
      "Accuracy for Shop 27: 11.01 %.\n",
      "Accuracy for Shop 28: 48.94 %.\n",
      "Accuracy for Shop 29: -664.16 %.\n",
      "Accuracy for Shop 30: -1025.61 %.\n",
      "Accuracy for Shop 31: 24.32 %.\n",
      "Accuracy for Shop 33: -953.25 %.\n",
      "Accuracy for Shop 34: -26.57 %.\n",
      "Accuracy for Shop 35: 97.31 %.\n",
      "Accuracy for Shop 37: 98.22 %.\n",
      "Accuracy for Shop 38: 77.11 %.\n",
      "Accuracy for Shop 39: 90.97 %.\n",
      "Accuracy for Shop 40: -4281.05 %.\n",
      "Accuracy for Shop 41: 82.49 %.\n",
      "Accuracy for Shop 42: 34.46 %.\n",
      "Accuracy for Shop 43: -2422.96 %.\n",
      "Accuracy for Shop 44: 90.75 %.\n",
      "Accuracy for Shop 45: 81.66 %.\n",
      "Accuracy for Shop 46: 92.33 %.\n",
      "Accuracy for Shop 47: 85.85 %.\n",
      "Accuracy for Shop 48: 80.81 %.\n",
      "Accuracy for Shop 49: 71.83 %.\n",
      "Accuracy for Shop 50: 67.98 %.\n",
      "Accuracy for Shop 51: -348.62 %.\n",
      "Accuracy for Shop 52: 96.01 %.\n",
      "Accuracy for Shop 53: 67.26 %.\n",
      "Accuracy for Shop 54: -106.77 %.\n",
      "Accuracy for Shop 55: 55.26 %.\n",
      "Accuracy for Shop 56: 81.09 %.\n",
      "Accuracy for Shop 57: 61.79 %.\n",
      "Accuracy for Shop 58: 99.62 %.\n",
      "Accuracy for Shop 59: 88.27 %.\n"
     ]
    }
   ],
   "source": [
    "print('Accuracy for Shop 2:', round(accuracy2, 2),'%.')\n",
    "print('Accuracy for Shop 3:', round(accuracy3, 2),'%.')\n",
    "print('Accuracy for Shop 4:', round(accuracy4, 2),'%.')\n",
    "print('Accuracy for Shop 5:', round(accuracy5, 2),'%.')\n",
    "print('Accuracy for Shop 6:', round(accuracy6, 2),'%.')\n",
    "print('Accuracy for Shop 7:', round(accuracy7, 2),'%.')\n",
    "print('Accuracy for Shop 10:', round(accuracy10, 2),'%.')\n",
    "print('Accuracy for Shop 12:', round(accuracy12, 2),'%.')\n",
    "print('Accuracy for Shop 14:', round(accuracy14, 2),'%.')\n",
    "print('Accuracy for Shop 15:', round(accuracy15, 2),'%.')\n",
    "print('Accuracy for Shop 16:', round(accuracy16, 2),'%.')\n",
    "print('Accuracy for Shop 17:', round(accuracy17, 2),'%.')\n",
    "print('Accuracy for Shop 18:', round(accuracy18, 2),'%.')\n",
    "print('Accuracy for Shop 19:', round(accuracy19, 2),'%.')\n",
    "print('Accuracy for Shop 21:', round(accuracy21, 2),'%.')\n",
    "print('Accuracy for Shop 22:', round(accuracy22, 2),'%.')\n",
    "print('Accuracy for Shop 24:', round(accuracy24, 2),'%.')\n",
    "print('Accuracy for Shop 25:', round(accuracy25, 2),'%.')\n",
    "print('Accuracy for Shop 26:', round(accuracy26, 2),'%.')\n",
    "print('Accuracy for Shop 27:', round(accuracy27, 2),'%.')\n",
    "print('Accuracy for Shop 28:', round(accuracy28, 2),'%.')\n",
    "print('Accuracy for Shop 29:', round(accuracy29, 2),'%.')\n",
    "print('Accuracy for Shop 30:', round(accuracy30, 2),'%.')\n",
    "print('Accuracy for Shop 31:', round(accuracy31, 2),'%.')\n",
    "print('Accuracy for Shop 33:', round(accuracy33, 2),'%.')\n",
    "print('Accuracy for Shop 34:', round(accuracy34, 2),'%.')\n",
    "print('Accuracy for Shop 35:', round(accuracy35, 2),'%.')\n",
    "print('Accuracy for Shop 37:', round(accuracy37, 2),'%.')\n",
    "print('Accuracy for Shop 38:', round(accuracy38, 2),'%.')\n",
    "print('Accuracy for Shop 39:', round(accuracy39, 2),'%.')\n",
    "print('Accuracy for Shop 40:', round(accuracy40, 2),'%.')\n",
    "print('Accuracy for Shop 41:', round(accuracy41, 2),'%.')\n",
    "print('Accuracy for Shop 42:', round(accuracy42, 2),'%.')\n",
    "print('Accuracy for Shop 43:', round(accuracy43, 2),'%.')\n",
    "print('Accuracy for Shop 44:', round(accuracy44, 2),'%.')\n",
    "print('Accuracy for Shop 45:', round(accuracy45, 2),'%.')\n",
    "print('Accuracy for Shop 46:', round(accuracy46, 2),'%.')\n",
    "print('Accuracy for Shop 47:', round(accuracy47, 2),'%.')\n",
    "print('Accuracy for Shop 48:', round(accuracy48, 2),'%.')\n",
    "print('Accuracy for Shop 49:', round(accuracy49, 2),'%.')\n",
    "print('Accuracy for Shop 50:', round(accuracy50, 2),'%.')\n",
    "print('Accuracy for Shop 51:', round(accuracy51, 2),'%.')\n",
    "print('Accuracy for Shop 52:', round(accuracy52, 2),'%.')\n",
    "print('Accuracy for Shop 53:', round(accuracy53, 2),'%.')\n",
    "print('Accuracy for Shop 54:', round(accuracy54, 2),'%.')\n",
    "print('Accuracy for Shop 55:', round(accuracy55, 2),'%.')\n",
    "print('Accuracy for Shop 56:', round(accuracy56, 2),'%.')\n",
    "print('Accuracy for Shop 57:', round(accuracy57, 2),'%.')\n",
    "print('Accuracy for Shop 58:', round(accuracy58, 2),'%.')\n",
    "print('Accuracy for Shop 59:', round(accuracy59, 2),'%.')"
   ]
  },
  {
   "cell_type": "code",
   "execution_count": null,
   "metadata": {},
   "outputs": [],
   "source": []
  }
 ],
 "metadata": {
  "kernelspec": {
   "display_name": "Python 3",
   "language": "python",
   "name": "python3"
  },
  "language_info": {
   "codemirror_mode": {
    "name": "ipython",
    "version": 3
   },
   "file_extension": ".py",
   "mimetype": "text/x-python",
   "name": "python",
   "nbconvert_exporter": "python",
   "pygments_lexer": "ipython3",
   "version": "3.8.3"
  }
 },
 "nbformat": 4,
 "nbformat_minor": 4
}
